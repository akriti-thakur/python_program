{
 "cells": [
  {
   "cell_type": "markdown",
   "metadata": {},
   "source": [
    "`encapsulation` : an act of combining properties and method related same object.\n",
    "class= variable + function\n",
    "class is a way to implement encapsulation "
   ]
  },
  {
   "cell_type": "markdown",
   "metadata": {},
   "source": [
    "attributes are member variable and member fucntions.\n",
    "\n",
    "object= is an instance of a class "
   ]
  },
  {
   "cell_type": "code",
   "execution_count": 14,
   "metadata": {},
   "outputs": [
    {
     "name": "stdout",
     "output_type": "stream",
     "text": [
      "5\n"
     ]
    }
   ],
   "source": [
    "class test:\n",
    "    x=5\n",
    "    def  f1():\n",
    "        global x\n",
    "        print(test.x)\n",
    "        \n",
    "        \n",
    "    \n",
    "        \n",
    "        \n",
    "obj= test\n",
    "obj.f1()"
   ]
  },
  {
   "cell_type": "code",
   "execution_count": 18,
   "metadata": {},
   "outputs": [
    {
     "ename": "TypeError",
     "evalue": "Transaction() takes no arguments",
     "output_type": "error",
     "traceback": [
      "\u001b[1;31m---------------------------------------------------------------------------\u001b[0m",
      "\u001b[1;31mTypeError\u001b[0m                                 Traceback (most recent call last)",
      "Cell \u001b[1;32mIn[18], line 65\u001b[0m\n\u001b[0;32m     39\u001b[0m             \u001b[38;5;28mprint\u001b[39m(\u001b[38;5;124mf\u001b[39m\u001b[38;5;124m\"\u001b[39m\u001b[38;5;124mInvalid input! Please enter a valid number.\u001b[39m\u001b[38;5;132;01m{\u001b[39;00me\u001b[38;5;132;01m}\u001b[39;00m\u001b[38;5;124m\"\u001b[39m)\n\u001b[0;32m     41\u001b[0m \u001b[38;5;66;03m# def transaction_loop(account):\u001b[39;00m\n\u001b[0;32m     42\u001b[0m \u001b[38;5;66;03m#     try:\u001b[39;00m\n\u001b[0;32m     43\u001b[0m \u001b[38;5;66;03m#         amount = float(input(\"\\nEnter amount to debit (or type 0 to exit): $\"))\u001b[39;00m\n\u001b[1;32m   (...)\u001b[0m\n\u001b[0;32m     62\u001b[0m \u001b[38;5;66;03m#         print(\"Invalid input! Please enter a valid number.\")\u001b[39;00m\n\u001b[0;32m     63\u001b[0m \u001b[38;5;66;03m#         transaction_loop(account)\u001b[39;00m\n\u001b[1;32m---> 65\u001b[0m account \u001b[38;5;241m=\u001b[39m \u001b[43mTransaction\u001b[49m\u001b[43m(\u001b[49m\u001b[38;5;124;43m\"\u001b[39;49m\u001b[38;5;124;43mState Bank of India\u001b[39;49m\u001b[38;5;124;43m\"\u001b[39;49m\u001b[43m,\u001b[49m\u001b[43m \u001b[49m\u001b[38;5;124;43m\"\u001b[39;49m\u001b[38;5;124;43mRahul Kumar\u001b[39;49m\u001b[38;5;124;43m\"\u001b[39;49m\u001b[43m,\u001b[49m\u001b[43m \u001b[49m\u001b[38;5;124;43m\"\u001b[39;49m\u001b[38;5;124;43m123456789\u001b[39;49m\u001b[38;5;124;43m\"\u001b[39;49m\u001b[43m,\u001b[49m\u001b[43m \u001b[49m\u001b[38;5;241;43m500\u001b[39;49m\u001b[43m)\u001b[49m\n\u001b[0;32m     67\u001b[0m account\u001b[38;5;241m.\u001b[39mdisplay_account_info()\n\u001b[0;32m     68\u001b[0m transaction_loop(account)\n",
      "\u001b[1;31mTypeError\u001b[0m: Transaction() takes no arguments"
     ]
    }
   ],
   "source": [
    "class BankAccount:\n",
    "    def _init_(self, bank_name, account_holder, account_id, balance):\n",
    "        self.bank_name = bank_name\n",
    "        self.account_holder = account_holder\n",
    "        self.account_id = account_id\n",
    "        self.balance = balance\n",
    "    \n",
    "    def display_account_info(self):\n",
    "        print(f\"Bank: {self.bank_name}\")\n",
    "        print(f\"Account Holder: {self.account_holder}\")\n",
    "        print(f\"Account ID: {self.account_id}\")\n",
    "        print(f\"Balance: ₹{self.balance}\")\n",
    "\n",
    "class User(BankAccount):\n",
    "    def debit(self, amount):\n",
    "        if self.balance >= amount:\n",
    "            self.balance -= amount\n",
    "            print(f\"₹{amount} debited successfully!\")\n",
    "            return True\n",
    "        else:\n",
    "            print(\"Insufficient balance!\")\n",
    "            return False\n",
    "\n",
    "class Transaction(User):\n",
    "    def process_transaction(self, account_id, amount):\n",
    "        if self.account_id == account_id:\n",
    "            return self.debit(amount)\n",
    "        else:\n",
    "            print(\"Account ID mismatch! Transaction failed.\")\n",
    "            return False\n",
    "def transaction_loop(account):\n",
    "    while True:\n",
    "        try:\n",
    "            amount = float(input(\"\\nEnter amount to debit (or type 0 to exit): $\"))\n",
    "            if not account.process_transaction(account.account_id, amount):\n",
    "                break\n",
    "            account.display_account_info()\n",
    "        except ValueError as e:\n",
    "            print(f\"Invalid input! Please enter a valid number.{e}\")\n",
    "            \n",
    "# def transaction_loop(account):\n",
    "#     try:\n",
    "#         amount = float(input(\"\\nEnter amount to debit (or type 0 to exit): $\"))\n",
    "#         if not account.process_transaction(account.account_id, amount):\n",
    "#             return  \n",
    "#         account.display_account_info()\n",
    "#         transaction_loop(account)  \n",
    "#     except ValueError:\n",
    "#         print(\"Invalid input! Please enter a valid number.\")\n",
    "#         transaction_loop(account) \n",
    "        \n",
    "# def transaction_loop(account):\n",
    "#      amount = float(input(\"\\nEnter amount to debit (or type 0 to exit): $\"))\n",
    "\n",
    "#     if amount_input.isdigit():\n",
    "#         amount = int(amount_input)\n",
    "\n",
    "#         if account.process_transaction(account.account_id, amount):\n",
    "#             account.display_account_info()\n",
    "#             transaction_loop(account) \n",
    "#     else:\n",
    "#         print(\"Invalid input! Please enter a valid number.\")\n",
    "#         transaction_loop(account)\n",
    "        \n",
    "account = Transaction(\"State Bank of India\", \"Rahul Kumar\", \"123456789\", 500)\n",
    "\n",
    "account.display_account_info()\n",
    "transaction_loop(account)"
   ]
  }
 ],
 "metadata": {
  "kernelspec": {
   "display_name": "Python 3",
   "language": "python",
   "name": "python3"
  },
  "language_info": {
   "codemirror_mode": {
    "name": "ipython",
    "version": 3
   },
   "file_extension": ".py",
   "mimetype": "text/x-python",
   "name": "python",
   "nbconvert_exporter": "python",
   "pygments_lexer": "ipython3",
   "version": "3.11.2"
  }
 },
 "nbformat": 4,
 "nbformat_minor": 2
}
