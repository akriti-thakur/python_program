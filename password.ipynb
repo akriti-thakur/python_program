{
 "cells": [
  {
   "cell_type": "code",
   "execution_count": 26,
   "metadata": {},
   "outputs": [
    {
     "name": "stdout",
     "output_type": "stream",
     "text": [
      "/[|HLrY9rTkb\n",
      "abcdefghijklmnopqrstuvwxyzABCDEFGHIJKLMNOPQRSTUVWXYZ\n",
      "0123456789\n",
      "!\"#$%&'()*+,-./:;<=>?@[\\]^_`{|}~\n"
     ]
    }
   ],
   "source": [
    "# random password\n",
    "import string \n",
    "import random \n",
    "\n",
    "def generate_pass(lenght=12):\n",
    "    characters=string.ascii_letters+string.digits+string.punctuation\n",
    "    \n",
    "    password=''.join(random.choices(characters,k=lenght))\n",
    "    return password\n",
    "\n",
    "\n",
    "\n",
    "print(generate_pass())\n",
    "print(string.ascii_letters)\n",
    "print(string.digits)\n",
    "print(string.punctuation)"
   ]
  },
  {
   "cell_type": "code",
   "execution_count": 25,
   "metadata": {},
   "outputs": [
    {
     "name": "stdout",
     "output_type": "stream",
     "text": [
      "['E', 'B', 'E', 'E', 'E', 'D', 'F', 'C', 'A', 'A']\n",
      "EBEEEDFCAA\n"
     ]
    }
   ],
   "source": [
    "import random\n",
    "character=\"ABCDEF\"\n",
    "random_choices=random.choices(character,k=10)\n",
    "print(random_choices)\n",
    "\n",
    "password= ''.join(random_choices)\n",
    "print(password)\n",
    "\n"
   ]
  },
  {
   "cell_type": "markdown",
   "metadata": {},
   "source": [
    "-----------------------------------------------------------------------------------"
   ]
  },
  {
   "cell_type": "code",
   "execution_count": 33,
   "metadata": {},
   "outputs": [
    {
     "name": "stdout",
     "output_type": "stream",
     "text": [
      "10.0\n",
      "10.0\n"
     ]
    }
   ],
   "source": [
    "# typecasting\n",
    "# type change means int->float \n",
    "\n",
    "value=\"10\"\n",
    "number=float(value)\n",
    "\n",
    "print(number)\n",
    "\n",
    "\n",
    "\n"
   ]
  },
  {
   "cell_type": "code",
   "execution_count": 37,
   "metadata": {},
   "outputs": [
    {
     "name": "stdout",
     "output_type": "stream",
     "text": [
      "3\n",
      "-1\n",
      "6\n"
     ]
    }
   ],
   "source": [
    "def add(x,y):\n",
    "    return x+y\n",
    "def sub(x,y):\n",
    "    return x-y\n",
    "def  mul(x,y):\n",
    "    return x*y\n",
    "\n",
    "\n",
    "print(add(1,2))\n",
    "3,4,56,print(sub(1,2))\n",
    "print(mul(3,2))\n",
    "\n"
   ]
  },
  {
   "cell_type": "code",
   "execution_count": 42,
   "metadata": {},
   "outputs": [
    {
     "name": "stdout",
     "output_type": "stream",
     "text": [
      "True\n"
     ]
    }
   ],
   "source": [
    "a=5\n",
    "b=10\n",
    "if a!=b:\n",
    "    print(True)\n",
    "    \n",
    "else:\n",
    "   print( False)\n"
   ]
  },
  {
   "cell_type": "markdown",
   "metadata": {},
   "source": [
    "# conditions"
   ]
  },
  {
   "cell_type": "code",
   "execution_count": null,
   "metadata": {},
   "outputs": [
    {
     "name": "stdout",
     "output_type": "stream",
     "text": [
      "equal\n"
     ]
    }
   ],
   "source": [
    "# if elif else\n",
    "number=10.0\n",
    "number= int(input(\"enter your number\"))\n",
    "if number<10:\n",
    "    print(\"your number is less than 10\")\n",
    "elif number>10:\n",
    "    print(\"your number is greater than 10\")\n",
    "    \n",
    "else:\n",
    "    print(\"equal\")\n",
    "\n"
   ]
  },
  {
   "cell_type": "code",
   "execution_count": null,
   "metadata": {},
   "outputs": [],
   "source": []
  }
 ],
 "metadata": {
  "kernelspec": {
   "display_name": "Python 3",
   "language": "python",
   "name": "python3"
  },
  "language_info": {
   "codemirror_mode": {
    "name": "ipython",
    "version": 3
   },
   "file_extension": ".py",
   "mimetype": "text/x-python",
   "name": "python",
   "nbconvert_exporter": "python",
   "pygments_lexer": "ipython3",
   "version": "3.11.2"
  }
 },
 "nbformat": 4,
 "nbformat_minor": 2
}
