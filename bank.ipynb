{
 "cells": [
  {
   "cell_type": "code",
   "execution_count": 1,
   "metadata": {},
   "outputs": [
    {
     "name": "stdout",
     "output_type": "stream",
     "text": [
      "Welcome to the program!\n",
      "Bank: Acme Bank\n",
      "Account Holder: John Doe\n",
      "Account ID: 1234567890\n",
      "Balance: ₹5000.75\n"
     ]
    },
    {
     "ename": "IndexError",
     "evalue": "list index out of range",
     "output_type": "error",
     "traceback": [
      "\u001b[1;31m---------------------------------------------------------------------------\u001b[0m",
      "\u001b[1;31mIndexError\u001b[0m                                Traceback (most recent call last)",
      "Cell \u001b[1;32mIn[1], line 63\u001b[0m\n\u001b[0;32m     60\u001b[0m         action_instance\u001b[38;5;241m.\u001b[39mmm()\n\u001b[0;32m     62\u001b[0m \u001b[38;5;28;01mif\u001b[39;00m \u001b[38;5;18m__name__\u001b[39m \u001b[38;5;241m==\u001b[39m \u001b[38;5;124m\"\u001b[39m\u001b[38;5;124m__main__\u001b[39m\u001b[38;5;124m\"\u001b[39m:\n\u001b[1;32m---> 63\u001b[0m     \u001b[43mmain\u001b[49m\u001b[43m(\u001b[49m\u001b[43m)\u001b[49m\n",
      "Cell \u001b[1;32mIn[1], line 60\u001b[0m, in \u001b[0;36mmain\u001b[1;34m()\u001b[0m\n\u001b[0;32m     58\u001b[0m obj1\u001b[38;5;241m.\u001b[39mdisplay_account_info()\n\u001b[0;32m     59\u001b[0m action_instance \u001b[38;5;241m=\u001b[39m Action(obj1)\n\u001b[1;32m---> 60\u001b[0m \u001b[43maction_instance\u001b[49m\u001b[38;5;241;43m.\u001b[39;49m\u001b[43mmm\u001b[49m\u001b[43m(\u001b[49m\u001b[43m)\u001b[49m\n",
      "Cell \u001b[1;32mIn[1], line 40\u001b[0m, in \u001b[0;36mAction.mm\u001b[1;34m(self)\u001b[0m\n\u001b[0;32m     39\u001b[0m \u001b[38;5;28;01mdef\u001b[39;00m \u001b[38;5;21mmm\u001b[39m(\u001b[38;5;28mself\u001b[39m):\n\u001b[1;32m---> 40\u001b[0m     action \u001b[38;5;241m=\u001b[39m \u001b[38;5;28;43minput\u001b[39;49m\u001b[43m(\u001b[49m\u001b[38;5;124;43m\"\u001b[39;49m\u001b[38;5;124;43mEnter your action (deposit/debit): \u001b[39;49m\u001b[38;5;124;43m\"\u001b[39;49m\u001b[43m)\u001b[49m\u001b[38;5;241;43m.\u001b[39;49m\u001b[43mstrip\u001b[49m\u001b[43m(\u001b[49m\u001b[43m)\u001b[49m\u001b[38;5;241;43m.\u001b[39;49m\u001b[43msplit\u001b[49m\u001b[43m(\u001b[49m\u001b[43m)\u001b[49m\u001b[43m[\u001b[49m\u001b[38;5;241;43m0\u001b[39;49m\u001b[43m]\u001b[49m\u001b[38;5;241m.\u001b[39mlower()\n\u001b[0;32m     41\u001b[0m     \u001b[38;5;28;01mif\u001b[39;00m action \u001b[38;5;241m==\u001b[39m \u001b[38;5;124m'\u001b[39m\u001b[38;5;124mdeposit\u001b[39m\u001b[38;5;124m'\u001b[39m:\n\u001b[0;32m     42\u001b[0m         \u001b[38;5;28mself\u001b[39m\u001b[38;5;241m.\u001b[39mother_instance\u001b[38;5;241m.\u001b[39mdeposit()\n",
      "\u001b[1;31mIndexError\u001b[0m: list index out of range"
     ]
    }
   ],
   "source": [
    "import sys\n",
    "\n",
    "class Info:\n",
    "    def __init__(self, bank_name, account_holder, account_id, balance):\n",
    "        self.bank_name = bank_name\n",
    "        self.account_holder = account_holder\n",
    "        self.account_id = account_id\n",
    "        self.balance = balance\n",
    "    \n",
    "    def display_account_info(self):\n",
    "        print(f\"Bank: {self.bank_name}\")\n",
    "        print(f\"Account Holder: {self.account_holder}\")\n",
    "        print(f\"Account ID: {self.account_id}\")\n",
    "        print(f\"Balance: ₹{self.balance}\")\n",
    "\n",
    "\n",
    "class UserAction(Info):\n",
    "    def __init__(self, bank_name, account_holder, account_id, balance):\n",
    "        super().__init__(bank_name, account_holder, account_id, balance)\n",
    "\n",
    "    def debit(self, debit_amount):\n",
    "        debit_amount = int(input(\"Enter the amount you want to withdraw: \"))\n",
    "        if debit_amount <= self.balance:\n",
    "            self.balance -= debit_amount\n",
    "            print(f\"The withdrawn amount is {debit_amount} and the remaining balance is ₹{self.balance}\")\n",
    "        else:\n",
    "            print(\"Not sufficient amount to withdraw\")\n",
    "\n",
    "    def deposit(self):\n",
    "        dep_amount = int(input(\"Enter the amount you want to deposit: \"))\n",
    "        self.balance += dep_amount\n",
    "        print(\"The amount has been deposited\")\n",
    "\n",
    "\n",
    "class Action:\n",
    "    def __init__(self, user_action_instance):\n",
    "        self.other_instance = user_action_instance\n",
    "\n",
    "    def mm(self):\n",
    "        action = input(\"Enter your action (deposit/debit): \").strip().split()[0].lower()\n",
    "        if action == 'deposit':\n",
    "            self.other_instance.deposit()\n",
    "        elif action == 'debit':\n",
    "            self.other_instance.debit()\n",
    "        else:\n",
    "            print(\"Invalid action\")\n",
    "\n",
    "\n",
    "def main():\n",
    "    obj1 = UserAction(\"Acme Bank\", \"John Doe\", 1234567890, 5000.75)\n",
    "    \n",
    "    print(\"Welcome to the program!\")\n",
    "    user_input = input(\"Do you want to quit? (yes/no): \").strip().lower()\n",
    "    \n",
    "    if user_input == 'no':\n",
    "        sys.exit(\"Goodbye!\")\n",
    "    else:\n",
    "        obj1.display_account_info()\n",
    "        action_instance = Action(obj1)\n",
    "        action_instance.mm()\n",
    "\n",
    "if __name__ == \"__main__\":\n",
    "    main()"
   ]
  }
 ],
 "metadata": {
  "kernelspec": {
   "display_name": "Python 3",
   "language": "python",
   "name": "python3"
  },
  "language_info": {
   "codemirror_mode": {
    "name": "ipython",
    "version": 3
   },
   "file_extension": ".py",
   "mimetype": "text/x-python",
   "name": "python",
   "nbconvert_exporter": "python",
   "pygments_lexer": "ipython3",
   "version": "3.11.2"
  }
 },
 "nbformat": 4,
 "nbformat_minor": 2
}
