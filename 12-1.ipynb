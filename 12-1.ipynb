{
 "cells": [
  {
   "cell_type": "code",
   "execution_count": 25,
   "metadata": {},
   "outputs": [
    {
     "name": "stdout",
     "output_type": "stream",
     "text": [
      "['E', 'B', 'E', 'E', 'E', 'D', 'F', 'C', 'A', 'A']\n",
      "EBEEEDFCAA\n"
     ]
    }
   ],
   "source": [
    "import random\n",
    "character=\"ABCDEF\"\n",
    "random_choices=random.choices(character,k=10)\n",
    "print(random_choices)\n",
    "\n",
    "password= ''.join(random_choices)\n",
    "print(password)\n",
    "\n"
   ]
  },
  {
   "cell_type": "markdown",
   "metadata": {},
   "source": [
    "-----------------------------------------------------------------------------------"
   ]
  },
  {
   "cell_type": "code",
   "execution_count": 33,
   "metadata": {},
   "outputs": [
    {
     "name": "stdout",
     "output_type": "stream",
     "text": [
      "10.0\n",
      "10.0\n"
     ]
    }
   ],
   "source": [
    "# typecasting\n",
    "# type change means int->float \n",
    "\n",
    "value=\"10\"\n",
    "number=float(value)\n",
    "\n",
    "print(number)\n",
    "\n",
    "\n",
    "\n"
   ]
  },
  {
   "cell_type": "code",
   "execution_count": 1,
   "metadata": {},
   "outputs": [
    {
     "name": "stdout",
     "output_type": "stream",
     "text": [
      "3\n",
      "4\n",
      "12\n",
      "-1\n",
      "6\n"
     ]
    }
   ],
   "source": [
    "\n",
    "def add(x,y):\n",
    "    a= x+y\n",
    "    return a\n",
    "\n",
    "def sub(x,y):\n",
    "    return x-y\n",
    "def  mul(x,y):\n",
    "    return x*y\n",
    "\n",
    "\n",
    "print(add(1,2))\n",
    "print(add(2,2))\n",
    "print(add(10,2))\n",
    "\n",
    "3,4,56,print(sub(1,2))\n",
    "print(mul(3,2))\n",
    "\n"
   ]
  },
  {
   "cell_type": "code",
   "execution_count": 2,
   "metadata": {},
   "outputs": [
    {
     "name": "stdout",
     "output_type": "stream",
     "text": [
      "False\n"
     ]
    }
   ],
   "source": [
    "a=int(input(\"give your input:\"))\n",
    "\n",
    "b=10\n",
    "if a!=b:\n",
    "    print(True)\n",
    "    \n",
    "else:\n",
    "   print( False)\n"
   ]
  },
  {
   "cell_type": "markdown",
   "metadata": {},
   "source": [
    "# conditions"
   ]
  },
  {
   "cell_type": "code",
   "execution_count": null,
   "metadata": {},
   "outputs": [
    {
     "name": "stdout",
     "output_type": "stream",
     "text": [
      "equal\n"
     ]
    }
   ],
   "source": [
    "# if elif else\n",
    "number=10.0\n",
    "number= int(input(\"enter your number\"))\n",
    "if number<10:\n",
    "    print(\"your number is less than 10\")\n",
    "elif number>10:\n",
    "    print(\"your number is greater than 10\")\n",
    "    \n",
    "else:\n",
    "    print(\"equal\")\n",
    "\n"
   ]
  },
  {
   "cell_type": "code",
   "execution_count": 1,
   "metadata": {},
   "outputs": [
    {
     "name": "stdout",
     "output_type": "stream",
     "text": [
      "1\n",
      "3\n",
      "5\n",
      "7\n",
      "9\n"
     ]
    }
   ],
   "source": [
    "# n=0\n",
    "# while n<=10:\n",
    "#     if n%2==0:\n",
    "#         n +=1\n",
    "#         continue\n",
    "    \n",
    "#     print(n)\n",
    "#     n +=1"
   ]
  },
  {
   "cell_type": "code",
   "execution_count": 4,
   "metadata": {},
   "outputs": [
    {
     "name": "stdout",
     "output_type": "stream",
     "text": [
      "your number is odd\n"
     ]
    }
   ],
   "source": [
    "number = 3\n",
    "\n",
    "if number %2 == 0:\n",
    "    if number ==0:\n",
    "        print(\"zero\")\n",
    "        \n",
    "    else:\n",
    "        print(\"even\")\n",
    "        \n",
    "else:\n",
    "    print(\"your number is odd\")      \n"
   ]
  },
  {
   "cell_type": "markdown",
   "metadata": {},
   "source": [
    "# file operation\n"
   ]
  },
  {
   "cell_type": "code",
   "execution_count": 5,
   "metadata": {},
   "outputs": [
    {
     "name": "stdout",
     "output_type": "stream",
     "text": [
      " 1\n",
      "               2\n",
      "            \n",
      "               hello my name is akriti \n"
     ]
    }
   ],
   "source": [
    "file=open('lol.txt','r')\n",
    "print(file.read())\n",
    "file.close()           "
   ]
  },
  {
   "cell_type": "code",
   "execution_count": 2,
   "metadata": {},
   "outputs": [],
   "source": [
    "with open ('lol.txt','w') as file:\n",
    "    file.write(''' 1\n",
    "               2\n",
    "            \n",
    "               ''')\n",
    "    \n",
    "file.close()\n",
    "    "
   ]
  },
  {
   "cell_type": "code",
   "execution_count": 5,
   "metadata": {},
   "outputs": [
    {
     "name": "stdout",
     "output_type": "stream",
     "text": [
      " 1\n",
      "               2\n",
      "            \n",
      "               hello my name is akriti \n"
     ]
    }
   ],
   "source": [
    "with open('lol.txt','r') as f:\n",
    "    print(f.read())"
   ]
  },
  {
   "cell_type": "code",
   "execution_count": 4,
   "metadata": {},
   "outputs": [],
   "source": [
    "with open('lol.txt','a') as f:\n",
    "    f.write('hello my name is akriti ')\n",
    "    \n",
    "    \n",
    "\n"
   ]
  },
  {
   "cell_type": "code",
   "execution_count": 5,
   "metadata": {},
   "outputs": [],
   "source": [
    "\n",
    "with open('multiplication_tables.txt', 'w') as file:\n",
    "    for number in range(1, 11):\n",
    "        for i in range(1,11):\n",
    "            line = f'{number} x {i} = {number * i}\\n'\n",
    "            file.write(line)\n",
    "            \n",
    "        \n",
    "        file.write('\\n')  \n",
    "        continue\n",
    "\n",
    "\n",
    "\n"
   ]
  },
  {
   "cell_type": "code",
   "execution_count": 2,
   "metadata": {},
   "outputs": [
    {
     "name": "stdout",
     "output_type": "stream",
     "text": [
      "2\n"
     ]
    }
   ],
   "source": [
    "text = \"I like you and you like me!\"\n",
    "print (text.count( \"you\" ))"
   ]
  },
  {
   "cell_type": "code",
   "execution_count": 3,
   "metadata": {},
   "outputs": [
    {
     "name": "stdout",
     "output_type": "stream",
     "text": [
      "7\n"
     ]
    }
   ],
   "source": [
    "text = \"I like you and you like me!\"\n",
    "print (text.find( \"you\" ))"
   ]
  },
  {
   "cell_type": "code",
   "execution_count": 5,
   "metadata": {},
   "outputs": [
    {
     "name": "stdout",
     "output_type": "stream",
     "text": [
      "h-e-l-l-o- -w-o-r-l-d- -h-e-l-l-o-w-o-r-l-d\n"
     ]
    }
   ],
   "source": [
    "names =\"hello world helloworld\"\n",
    "sep = \"-\"\n",
    "print (sep.join(names))"
   ]
  },
  {
   "cell_type": "code",
   "execution_count": 7,
   "metadata": {},
   "outputs": [
    {
     "name": "stdout",
     "output_type": "stream",
     "text": [
      "I like Anna and Anna is my friend!\n"
     ]
    }
   ],
   "source": [
    "text = \"I like John and John is my friend!\"\n",
    "text = text.replace( \"John\" , \"Anna\" )\n",
    "print(text)"
   ]
  },
  {
   "cell_type": "code",
   "execution_count": 8,
   "metadata": {},
   "outputs": [
    {
     "name": "stdout",
     "output_type": "stream",
     "text": [
      "Name: John Doe, Salary: 50000\n",
      "Name: Jane Smith, Salary: 75000, Department: HR\n",
      "Name: Alice Johnson, Salary: 60000, Age: 30\n"
     ]
    }
   ],
   "source": [
    "# Base class\n",
    "class Employee:\n",
    "    def __init__(self, name, salary,age):\n",
    "        self.name = name\n",
    "        self.salary = salary\n",
    "        self.age = age\n",
    "        \n",
    "\n",
    "    def display_details(self):\n",
    "        print(f\"Name: {self.name}, Salary: {self.salary},{self.age}\")\n",
    "        return False\n",
    "\n",
    "\n",
    "# Derived class\n",
    "class Manager(Employee):\n",
    "    def __init__(self, name, salary, department):\n",
    "        super().__init__(name, salary)\n",
    "        self.department = department\n",
    "\n",
    "    def display_details(self):\n",
    "        print( f\"Name: {self.name}, Salary: {self.salary}, Department: {self.department}\")\n",
    "\n",
    "class a(Employee):\n",
    "     def __init__(self,age ):\n",
    "         super().__init__(age)\n",
    "         \n",
    "     def display_details(self):\n",
    "         print(f\"{self.age}\")\n",
    "# Instantiate objects\n",
    "employee = Employee(\"John Doe\", 50000,78)\n",
    "manager = Manager(\"Jane Smith\", 75000, \"HR\")\n",
    "h=a(67)\n",
    "\n",
    "print(employee.display_details())  # Output: Name: John Doe, Salary: 50000\n",
    "print(manager.display_details())   # Output: Name: Jane Smith, Salary: 75000, Department: HR\n"
   ]
  },
  {
   "cell_type": "code",
   "execution_count": null,
   "metadata": {},
   "outputs": [],
   "source": [
    "class FileHandler:\n",
    "    def __init__(self, filename):\n",
    "        self.filename = filename\n",
    "        self.file = open(filename, 'w')\n",
    "        print(f\"File {filename} opened.\")\n",
    "\n",
    "    def write_data(self, data):\n",
    "        self.file.write(data)\n",
    "        print(f\"Data written to {self.filename}.\")\n",
    "\n",
    "    def __del__(self):\n",
    "        self.file.close()\n",
    "        print(f\"File {self.filename} closed.\")\n",
    "\n",
    "# Creating an instance of FileHandler\n",
    "file_handler = FileHandler('example.txt')\n",
    "file_handler.write_data('Hello, World!')\n",
    "\n",
    "# Explicitly deleting the object (which calls the destructor)\n",
    "del file_handler\n"
   ]
  },
  {
   "cell_type": "code",
   "execution_count": 9,
   "metadata": {},
   "outputs": [
    {
     "name": "stdout",
     "output_type": "stream",
     "text": [
      "Object Example created.\n",
      "Object Example destroyed.\n"
     ]
    }
   ],
   "source": [
    "class SimpleClass:\n",
    "    def __init__(self, name):\n",
    "        self.name = name\n",
    "        print(f\"Object {self.name} created.\")\n",
    "\n",
    "    def __del__(self):\n",
    "        print(f\"Object {self.name} destroyed.\")\n",
    "\n",
    "# Creating an instance of SimpleClass\n",
    "obj = SimpleClass('Example')\n",
    "\n",
    "# Explicitly deleting the object (which calls the destructor)\n",
    "del obj\n"
   ]
  },
  {
   "cell_type": "code",
   "execution_count": 10,
   "metadata": {},
   "outputs": [
    {
     "name": "stdout",
     "output_type": "stream",
     "text": [
      "8\n"
     ]
    }
   ],
   "source": [
    "class mm:\n",
    "   def  m(a):\n",
    "     print(a)\n",
    "    \n",
    "    \n",
    "obj=mm\n",
    "obj.m(8)"
   ]
  },
  {
   "cell_type": "code",
   "execution_count": 2,
   "metadata": {},
   "outputs": [
    {
     "name": "stdout",
     "output_type": "stream",
     "text": [
      "mm.txt does not exist, so it cannot be renamed.\n"
     ]
    }
   ],
   "source": [
    "import os\n",
    "\n",
    "file_to_remove = \"mm.txt\"\n",
    "new_file_name = \"newfile.txt\"\n",
    "\n",
    "if os.path.exists(new_file_name):  \n",
    "    os.rename(file_to_remove, new_file_name)\n",
    "    print(f\"{file_to_remove} has been renamed to {new_file_name}.\")\n",
    "else:\n",
    "    print(f\"{file_to_remove} does not exist, so it cannot be renamed.\")\n",
    "\n",
    "\n",
    "\n",
    "\n",
    "\n"
   ]
  },
  {
   "cell_type": "code",
   "execution_count": 4,
   "metadata": {},
   "outputs": [
    {
     "name": "stdout",
     "output_type": "stream",
     "text": [
      "mm.txt does not exist.\n"
     ]
    }
   ],
   "source": [
    "if os.path.exists(file_to_remove):\n",
    "    os.remove(file_to_remove)\n",
    "    print(f\"{file_to_remove} has been deleted.\")\n",
    "else:\n",
    "    print(f\"{file_to_remove} does not exist.\")"
   ]
  },
  {
   "cell_type": "code",
   "execution_count": null,
   "metadata": {},
   "outputs": [],
   "source": [
    "a=\"hello world0\"\n",
    "print (a.strip())"
   ]
  },
  {
   "cell_type": "code",
   "execution_count": 1,
   "metadata": {},
   "outputs": [
    {
     "data": {
      "text/plain": [
       "3"
      ]
     },
     "execution_count": 1,
     "metadata": {},
     "output_type": "execute_result"
    }
   ],
   "source": [
    "def  name(x,y):\n",
    "    return x+y\n",
    "\n",
    "\n",
    "\n",
    "name(1,2)"
   ]
  }
 ],
 "metadata": {
  "kernelspec": {
   "display_name": "Python 3",
   "language": "python",
   "name": "python3"
  },
  "language_info": {
   "codemirror_mode": {
    "name": "ipython",
    "version": 3
   },
   "file_extension": ".py",
   "mimetype": "text/x-python",
   "name": "python",
   "nbconvert_exporter": "python",
   "pygments_lexer": "ipython3",
   "version": "3.11.2"
  }
 },
 "nbformat": 4,
 "nbformat_minor": 2
}
