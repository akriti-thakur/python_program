{
 "cells": [
  {
   "cell_type": "code",
   "execution_count": 9,
   "metadata": {},
   "outputs": [
    {
     "name": "stdout",
     "output_type": "stream",
     "text": [
      "['C', 'F', 'D', 'D', 'E', 'E', 'E', 'C', 'E', 'D']\n",
      "CFDDEEECED"
     ]
    }
   ],
   "source": [
    "import random\n",
    "character=\"ABCDEF\"\n",
    "random_choices=random.choices(character,k=10)\n",
    "print(random_choices)\n",
    "\n",
    "# password= ''.join(random_choices)\n",
    "# print(password)\n",
    "for i in random_choices:\n",
    "    print(i,end=\"\")\n"
   ]
  },
  {
   "cell_type": "code",
   "execution_count": null,
   "metadata": {},
   "outputs": [],
   "source": []
  },
  {
   "cell_type": "code",
   "execution_count": 6,
   "metadata": {},
   "outputs": [
    {
     "name": "stdout",
     "output_type": "stream",
     "text": [
      "['G', 'B', 'D', 'G', 'D', 'F', 'B', 'B', 'A', 'A']\n",
      "GBDGDFBBAA\n"
     ]
    }
   ],
   "source": [
    "# import random\n",
    "# def mm(character):\n",
    "#     random_choices=random.choices(character,k=10)\n",
    "#     print(random_choices)\n",
    "    \n",
    "#     password= ''.join(random_choices)\n",
    "#     print(password)\n",
    "    \n",
    "    \n",
    "    \n",
    "# mm(\"ABCDEFG\")\n",
    "\n"
   ]
  },
  {
   "cell_type": "markdown",
   "metadata": {},
   "source": [
    "-----------------------------------------------------------------------------------"
   ]
  },
  {
   "cell_type": "code",
   "execution_count": 33,
   "metadata": {},
   "outputs": [
    {
     "name": "stdout",
     "output_type": "stream",
     "text": [
      "10.0\n",
      "10.0\n"
     ]
    }
   ],
   "source": [
    "# typecasting\n",
    "# type change means int->float \n",
    "\n",
    "value=\"10\"\n",
    "number=float(value)\n",
    "\n",
    "print(number)\n",
    "\n",
    "\n",
    "\n"
   ]
  },
  {
   "cell_type": "code",
   "execution_count": 1,
   "metadata": {},
   "outputs": [
    {
     "name": "stdout",
     "output_type": "stream",
     "text": [
      "3\n",
      "4\n",
      "12\n",
      "-1\n",
      "6\n"
     ]
    }
   ],
   "source": [
    "\n",
    "def add(x,y):\n",
    "    a= x+y\n",
    "    return a\n",
    "\n",
    "def sub(x,y):\n",
    "    return x-y\n",
    "def  mul(x,y):\n",
    "    return x*y\n",
    "\n",
    "\n",
    "print(add(1,2))\n",
    "print(add(2,2))\n",
    "print(add(10,2))\n",
    "\n",
    "3,4,56,print(sub(1,2))\n",
    "print(mul(3,2))\n",
    "\n"
   ]
  },
  {
   "cell_type": "code",
   "execution_count": 2,
   "metadata": {},
   "outputs": [
    {
     "name": "stdout",
     "output_type": "stream",
     "text": [
      "False\n"
     ]
    }
   ],
   "source": [
    "a=int(input(\"give your input:\"))\n",
    "\n",
    "b=10\n",
    "if a!=b:\n",
    "    print(True)\n",
    "    \n",
    "else:\n",
    "   print( False)\n"
   ]
  },
  {
   "cell_type": "markdown",
   "metadata": {},
   "source": [
    "# conditions"
   ]
  },
  {
   "cell_type": "code",
   "execution_count": null,
   "metadata": {},
   "outputs": [
    {
     "name": "stdout",
     "output_type": "stream",
     "text": [
      "equal\n"
     ]
    }
   ],
   "source": [
    "# if elif else\n",
    "number=10.0\n",
    "number= int(input(\"enter your number\"))\n",
    "if number<10:\n",
    "    print(\"your number is less than 10\")\n",
    "elif number>10:\n",
    "    print(\"your number is greater than 10\")\n",
    "    \n",
    "else:\n",
    "    print(\"equal\")\n",
    "\n"
   ]
  },
  {
   "cell_type": "code",
   "execution_count": 1,
   "metadata": {},
   "outputs": [
    {
     "name": "stdout",
     "output_type": "stream",
     "text": [
      "1\n",
      "3\n",
      "5\n",
      "7\n",
      "9\n"
     ]
    }
   ],
   "source": [
    "# n=0\n",
    "# while n<=10:\n",
    "#     if n%2==0:\n",
    "#         n +=1\n",
    "#         continue\n",
    "    \n",
    "#     print(n)\n",
    "#     n +=1"
   ]
  },
  {
   "cell_type": "code",
   "execution_count": 4,
   "metadata": {},
   "outputs": [
    {
     "name": "stdout",
     "output_type": "stream",
     "text": [
      "your number is odd\n"
     ]
    }
   ],
   "source": [
    "number = 3\n",
    "\n",
    "if number %2 == 0:\n",
    "    if number ==0:\n",
    "        print(\"zero\")\n",
    "        \n",
    "    else:\n",
    "        print(\"even\")\n",
    "        \n",
    "else:\n",
    "    print(\"your number is odd\")      \n"
   ]
  },
  {
   "cell_type": "markdown",
   "metadata": {},
   "source": [
    "# file operation\n"
   ]
  },
  {
   "cell_type": "code",
   "execution_count": 1,
   "metadata": {},
   "outputs": [
    {
     "name": "stdout",
     "output_type": "stream",
     "text": [
      "hii \n",
      "my \n",
      "name \n",
      "is \n",
      " akriti \n",
      " ///////////////////\n",
      " ''''''''''''''''''''''''''' \n",
      "                  =====================\n"
     ]
    }
   ],
   "source": [
    "file=open('lol.txt','r')\n",
    "print(file.read())\n",
    "file.close()           "
   ]
  },
  {
   "cell_type": "code",
   "execution_count": 2,
   "metadata": {},
   "outputs": [],
   "source": [
    "with open ('lol.txt','w') as file:\n",
    "    file.write('''\"recurrent neural network\"\n",
    "               hello\n",
    "               \n",
    "               \n",
    "                            sjhadud\n",
    "                            \n",
    "                            \n",
    "                            \n",
    "    DVADGHSD\n",
    "               ''')\n",
    "    \n",
    "file.close()\n",
    "    "
   ]
  },
  {
   "cell_type": "code",
   "execution_count": 5,
   "metadata": {},
   "outputs": [
    {
     "name": "stdout",
     "output_type": "stream",
     "text": [
      " 1\n",
      "               2\n",
      "            \n",
      "               hello my name is akriti \n"
     ]
    }
   ],
   "source": [
    "with open('lol.txt','r') as f:\n",
    "    print(f.read())"
   ]
  },
  {
   "cell_type": "code",
   "execution_count": 3,
   "metadata": {},
   "outputs": [],
   "source": [
    "with open('lol.txt','a') as f:\n",
    "    f.write('hello my name is akriti ')\n",
    "    \n",
    "    \n",
    "\n"
   ]
  },
  {
   "cell_type": "code",
   "execution_count": null,
   "metadata": {},
   "outputs": [],
   "source": [
    "\n",
    "with open('multiplication_tables.txt', 'w') as file:\n",
    "    for number in range(1, 11):\n",
    "      \n",
    "        for i in range(1,11):\n",
    "            line = f'{number} x {i} = {number * i}\\n'\n",
    "            file.write(line)\n",
    "            \n",
    "        \n",
    "        file.write('\\n')  \n",
    "        continue\n",
    "\n",
    "\n",
    "\n"
   ]
  },
  {
   "cell_type": "code",
   "execution_count": 2,
   "metadata": {},
   "outputs": [
    {
     "name": "stdout",
     "output_type": "stream",
     "text": [
      "2\n"
     ]
    }
   ],
   "source": [
    "text = \"I like you and you like me!\"\n",
    "print (text.count( \"you\" ))"
   ]
  },
  {
   "cell_type": "code",
   "execution_count": 3,
   "metadata": {},
   "outputs": [
    {
     "name": "stdout",
     "output_type": "stream",
     "text": [
      "7\n"
     ]
    }
   ],
   "source": [
    "text = \"I like you and you like me!\"\n",
    "print (text.find( \"you\" ))"
   ]
  },
  {
   "cell_type": "code",
   "execution_count": 5,
   "metadata": {},
   "outputs": [
    {
     "name": "stdout",
     "output_type": "stream",
     "text": [
      "h-e-l-l-o- -w-o-r-l-d- -h-e-l-l-o-w-o-r-l-d\n"
     ]
    }
   ],
   "source": [
    "names =\"hello world helloworld\"\n",
    "sep = \"-\"\n",
    "print (sep.join(names))"
   ]
  },
  {
   "cell_type": "code",
   "execution_count": 7,
   "metadata": {},
   "outputs": [
    {
     "name": "stdout",
     "output_type": "stream",
     "text": [
      "I like Anna and Anna is my friend!\n"
     ]
    }
   ],
   "source": [
    "text = \"I like John and John is my friend!\"\n",
    "text = text.replace( \"John\" , \"Anna\" )\n",
    "print(text)"
   ]
  },
  {
   "cell_type": "code",
   "execution_count": 20,
   "metadata": {},
   "outputs": [
    {
     "ename": "AttributeError",
     "evalue": "type object 'Employee' has no attribute 'name'",
     "output_type": "error",
     "traceback": [
      "\u001b[1;31m---------------------------------------------------------------------------\u001b[0m",
      "\u001b[1;31mAttributeError\u001b[0m                            Traceback (most recent call last)",
      "Cell \u001b[1;32mIn[20], line 37\u001b[0m\n\u001b[0;32m     35\u001b[0m c\u001b[38;5;241m=\u001b[39m customor(\u001b[38;5;124m\"\u001b[39m\u001b[38;5;124mhello\u001b[39m\u001b[38;5;124m\"\u001b[39m)\n\u001b[0;32m     36\u001b[0m employee \u001b[38;5;241m=\u001b[39m Employee(\u001b[38;5;124m\"\u001b[39m\u001b[38;5;124mJohn Doe\u001b[39m\u001b[38;5;124m\"\u001b[39m, \u001b[38;5;241m50000\u001b[39m, \u001b[38;5;241m78\u001b[39m)\n\u001b[1;32m---> 37\u001b[0m manager \u001b[38;5;241m=\u001b[39m \u001b[43mManager\u001b[49m\u001b[43m(\u001b[49m\u001b[43m \u001b[49m\u001b[38;5;124;43m\"\u001b[39;49m\u001b[38;5;124;43mHR\u001b[39;49m\u001b[38;5;124;43m\"\u001b[39;49m\u001b[43m)\u001b[49m  \u001b[38;5;66;03m# Added age argument\u001b[39;00m\n\u001b[0;32m     38\u001b[0m \u001b[38;5;28mprint\u001b[39m(c\u001b[38;5;241m.\u001b[39mdisplay_details())\n\u001b[0;32m     39\u001b[0m \u001b[38;5;28mprint\u001b[39m(employee\u001b[38;5;241m.\u001b[39mdisplay_details())  \u001b[38;5;66;03m# Output: Name: John Doe, Salary: 50000, Age: 78\u001b[39;00m\n",
      "Cell \u001b[1;32mIn[20], line 26\u001b[0m, in \u001b[0;36mManager.__init__\u001b[1;34m(self, department)\u001b[0m\n\u001b[0;32m     25\u001b[0m \u001b[38;5;28;01mdef\u001b[39;00m \u001b[38;5;21m__init__\u001b[39m(\u001b[38;5;28mself\u001b[39m,department):\n\u001b[1;32m---> 26\u001b[0m     \u001b[38;5;28msuper\u001b[39m()\u001b[38;5;241m.\u001b[39m\u001b[38;5;21m__init__\u001b[39m(\u001b[38;5;28mself\u001b[39m,\u001b[43mEmployee\u001b[49m\u001b[38;5;241;43m.\u001b[39;49m\u001b[43mname\u001b[49m, Employee\u001b[38;5;241m.\u001b[39msalary, Employee\u001b[38;5;241m.\u001b[39mage,customor\u001b[38;5;241m.\u001b[39mn)\n\u001b[0;32m     29\u001b[0m     \u001b[38;5;28mself\u001b[39m\u001b[38;5;241m.\u001b[39mdepartment \u001b[38;5;241m=\u001b[39m department\n",
      "\u001b[1;31mAttributeError\u001b[0m: type object 'Employee' has no attribute 'name'"
     ]
    }
   ],
   "source": [
    "# Base class\n",
    "class customor:\n",
    "\n",
    "    def __init__(self, n):\n",
    "        self.n = n\n",
    "\n",
    "\n",
    "    def display_details(self):\n",
    "        print(f\"Name: {self.n}\")\n",
    "\n",
    "class Employee:\n",
    "    \n",
    "\n",
    "    def __init__(self, name, salary, age):\n",
    "        self.name = name\n",
    "        self.salary = salary\n",
    "        self.age = age\n",
    "\n",
    "    def display_details(self):\n",
    "        print(f\"Name: {self.name}, Salary: {self.salary}, Age: {self.age}\")\n",
    "\n",
    "\n",
    "# Derived class\n",
    "class Manager(Employee,customor):\n",
    "    def __init__(self,department):\n",
    "        super().__init__(self,Employee.name, Employee.salary, Employee.age,customor.n)\n",
    "       \n",
    "        \n",
    "        self.department = department\n",
    "\n",
    "    def display_details(self):\n",
    "        print(f\"Name: {self.name}, Salary: {self.salary}, Age: {self.age}, Department: {self.department} and the customer is {self.name}\")\n",
    "\n",
    "# Instantiate objects\n",
    "c= customor(\"hello\")\n",
    "employee = Employee(\"John Doe\", 50000, 78)\n",
    "manager = Manager( \"HR\")  # Added age argument\n",
    "print(c.display_details())\n",
    "print(employee.display_details())  # Output: Name: John Doe, Salary: 50000, Age: 78\n",
    "print(manager.display_details())   # Output: Name: Jane Smith, Salary: 75000, Age: 45, Department: HR\n"
   ]
  },
  {
   "cell_type": "code",
   "execution_count": null,
   "metadata": {},
   "outputs": [],
   "source": [
    "class FileHandler:\n",
    "    def __init__(self, filename):\n",
    "        self.filename = filename\n",
    "        self.file = open(filename, 'w')\n",
    "        print(f\"File {filename} opened.\")\n",
    "\n",
    "    def write_data(self, data):\n",
    "        self.file.write(data)\n",
    "        print(f\"Data written to {self.filename}.\")\n",
    "\n",
    "    def __del__(self):\n",
    "        self.file.close()\n",
    "        print(f\"File {self.filename} closed.\")\n",
    "\n",
    "# Creating an instance of FileHandler\n",
    "file_handler = FileHandler('example.txt')\n",
    "file_handler.write_data('Hello, World!')\n",
    "\n",
    "# Explicitly deleting the object (which calls the destructor)\n",
    "del file_handler\n"
   ]
  },
  {
   "cell_type": "code",
   "execution_count": 9,
   "metadata": {},
   "outputs": [
    {
     "name": "stdout",
     "output_type": "stream",
     "text": [
      "Object Example created.\n",
      "Object Example destroyed.\n"
     ]
    }
   ],
   "source": [
    "class SimpleClass:\n",
    "    def __init__(self, name):\n",
    "        self.name = name\n",
    "        print(f\"Object {self.name} created.\")\n",
    "\n",
    "    def __del__(self):\n",
    "        print(f\"Object {self.name} destroyed.\")\n",
    "\n",
    "# Creating an instance of SimpleClass\n",
    "obj = SimpleClass('Example')\n",
    "\n",
    "# Explicitly deleting the object (which calls the destructor)\n",
    "del obj\n"
   ]
  },
  {
   "cell_type": "code",
   "execution_count": 10,
   "metadata": {},
   "outputs": [
    {
     "name": "stdout",
     "output_type": "stream",
     "text": [
      "8\n"
     ]
    }
   ],
   "source": [
    "class mm:\n",
    "   def  m(a):\n",
    "     print(a)\n",
    "    \n",
    "    \n",
    "obj=mm\n",
    "obj.m(8)"
   ]
  },
  {
   "cell_type": "code",
   "execution_count": 2,
   "metadata": {},
   "outputs": [
    {
     "name": "stdout",
     "output_type": "stream",
     "text": [
      "mm.txt does not exist, so it cannot be renamed.\n"
     ]
    }
   ],
   "source": [
    "import os\n",
    "\n",
    "file_to_remove = \"mm.txt\"\n",
    "new_file_name = \"newfile.txt\"\n",
    "\n",
    "if os.path.exists(new_file_name):  \n",
    "    os.rename(file_to_remove, new_file_name)\n",
    "    print(f\"{file_to_remove} has been renamed to {new_file_name}.\")\n",
    "else:\n",
    "    print(f\"{file_to_remove} does not exist, so it cannot be renamed.\")\n",
    "\n",
    "\n",
    "\n",
    "\n",
    "\n"
   ]
  },
  {
   "cell_type": "code",
   "execution_count": 4,
   "metadata": {},
   "outputs": [
    {
     "name": "stdout",
     "output_type": "stream",
     "text": [
      "mm.txt does not exist.\n"
     ]
    }
   ],
   "source": [
    "if os.path.exists(file_to_remove):\n",
    "    os.remove(file_to_remove)\n",
    "    print(f\"{file_to_remove} has been deleted.\")\n",
    "else:\n",
    "    print(f\"{file_to_remove} does not exist.\")"
   ]
  },
  {
   "cell_type": "code",
   "execution_count": null,
   "metadata": {},
   "outputs": [],
   "source": [
    "a=\"hello world0\"\n",
    "print (a.strip())"
   ]
  },
  {
   "cell_type": "code",
   "execution_count": 1,
   "metadata": {},
   "outputs": [
    {
     "data": {
      "text/plain": [
       "3"
      ]
     },
     "execution_count": 1,
     "metadata": {},
     "output_type": "execute_result"
    }
   ],
   "source": [
    "def  name(x,y):\n",
    "    return x+y\n",
    "\n",
    "\n",
    "\n",
    "name(1,2)"
   ]
  },
  {
   "cell_type": "code",
   "execution_count": 11,
   "metadata": {},
   "outputs": [
    {
     "name": "stdout",
     "output_type": "stream",
     "text": [
      "16\n"
     ]
    }
   ],
   "source": [
    "def ll(x,y):\n",
    "    return x+y\n",
    "\n",
    "def main():\n",
    " a=9\n",
    " b=7\n",
    " print(ll(a,b))\n",
    "\n",
    "\n",
    "if __name__=='__main__':\n",
    "    main()"
   ]
  },
  {
   "cell_type": "code",
   "execution_count": 3,
   "metadata": {},
   "outputs": [
    {
     "name": "stdout",
     "output_type": "stream",
     "text": [
      " * Serving Flask app '__main__'\n",
      " * Debug mode: on\n"
     ]
    },
    {
     "name": "stderr",
     "output_type": "stream",
     "text": [
      "WARNING: This is a development server. Do not use it in a production deployment. Use a production WSGI server instead.\n",
      " * Running on http://127.0.0.1:5000\n",
      "Press CTRL+C to quit\n",
      " * Restarting with watchdog (windowsapi)\n"
     ]
    },
    {
     "ename": "SystemExit",
     "evalue": "1",
     "output_type": "error",
     "traceback": [
      "An exception has occurred, use %tb to see the full traceback.\n",
      "\u001b[1;31mSystemExit\u001b[0m\u001b[1;31m:\u001b[0m 1\n"
     ]
    },
    {
     "name": "stderr",
     "output_type": "stream",
     "text": [
      "C:\\Users\\akrit\\AppData\\Roaming\\Python\\Python311\\site-packages\\IPython\\core\\interactiveshell.py:3585: UserWarning: To exit: use 'exit', 'quit', or Ctrl-D.\n",
      "  warn(\"To exit: use 'exit', 'quit', or Ctrl-D.\", stacklevel=1)\n"
     ]
    }
   ],
   "source": [
    "from flask import Flask\n",
    "app = Flask(__name__)\n",
    "\n",
    "@app.route('/')\n",
    "def hello_world():\n",
    "    return 'Hello, World!'\n",
    "\n",
    "if __name__ == '__main__':\n",
    "    app.run(debug=True)\n"
   ]
  },
  {
   "cell_type": "code",
   "execution_count": 4,
   "metadata": {},
   "outputs": [
    {
     "name": "stdout",
     "output_type": "stream",
     "text": [
      "the name is akriti\n"
     ]
    }
   ],
   "source": [
    "class mm():\n",
    "    def __init__(self,name):\n",
    "        self.name=name \n",
    "        \n",
    "    def m(self):\n",
    "       print(f\"the name is {self.name}\")\n",
    "       \n",
    "       \n",
    "obj=mm(\"akriti\")\n",
    "obj.m()     "
   ]
  },
  {
   "cell_type": "code",
   "execution_count": 5,
   "metadata": {},
   "outputs": [
    {
     "ename": "ValueError",
     "evalue": "invalid literal for int() with base 10: '10.90'",
     "output_type": "error",
     "traceback": [
      "\u001b[1;31m---------------------------------------------------------------------------\u001b[0m",
      "\u001b[1;31mValueError\u001b[0m                                Traceback (most recent call last)",
      "Cell \u001b[1;32mIn[5], line 2\u001b[0m\n\u001b[0;32m      1\u001b[0m a\u001b[38;5;241m=\u001b[39m\u001b[38;5;124m\"\u001b[39m\u001b[38;5;124m10.90\u001b[39m\u001b[38;5;124m\"\u001b[39m\n\u001b[1;32m----> 2\u001b[0m \u001b[38;5;28mprint\u001b[39m(\u001b[38;5;28;43mint\u001b[39;49m\u001b[43m(\u001b[49m\u001b[43ma\u001b[49m\u001b[43m)\u001b[49m)\n",
      "\u001b[1;31mValueError\u001b[0m: invalid literal for int() with base 10: '10.90'"
     ]
    }
   ],
   "source": [
    "a=\"10.90\"\n",
    "print(int(a))"
   ]
  },
  {
   "cell_type": "code",
   "execution_count": 13,
   "metadata": {},
   "outputs": [
    {
     "name": "stdout",
     "output_type": "stream",
     "text": [
      "15\n"
     ]
    }
   ],
   "source": [
    "# A lambda function that adds 10 to the input value\n",
    "add_ten = lambda x: x + 10\n",
    "\n",
    "# Using the lambda function\n",
    "print(add_ten(5))  # Output: 15\n"
   ]
  },
  {
   "cell_type": "code",
   "execution_count": 15,
   "metadata": {},
   "outputs": [
    {
     "name": "stdout",
     "output_type": "stream",
     "text": [
      "[1, 4, 9, 16, 25]\n"
     ]
    }
   ],
   "source": [
    "# A list of numbers\n",
    "numbers = [1, 2, 3, 4, 5]\n",
    "\n",
    "# Using map() with a lambda function to square each number in the list\n",
    "squared_numbers = list(map(lambda x: x ** 2, numbers))\n",
    "\n",
    "# Output: [1, 4, 9, 16, 25]\n",
    "print(squared_numbers)\n"
   ]
  },
  {
   "cell_type": "code",
   "execution_count": 16,
   "metadata": {},
   "outputs": [
    {
     "name": "stdout",
     "output_type": "stream",
     "text": [
      "['John Doe', 'Jane Smith', 'Jim Beam']\n"
     ]
    }
   ],
   "source": [
    "# Combining Strings\n",
    "first_names = [\"John\", \"Jane\", \"Jim\"]\n",
    "last_names = [\"Doe\", \"Smith\", \"Beam\"]\n",
    "full_names = list(map(lambda x, y: x + \" \" + y, first_names, last_names))\n",
    "print(full_names)\n"
   ]
  },
  {
   "cell_type": "code",
   "execution_count": 29,
   "metadata": {},
   "outputs": [
    {
     "name": "stdout",
     "output_type": "stream",
     "text": [
      "[None, 2, None, 4, None, 6]\n"
     ]
    }
   ],
   "source": [
    "# Filtering with Lambda and Map\n",
    "numbers = [1, 2, 3, 4, 5, 6]\n",
    "even_numbers = list(map(lambda x: x if x % 2 == 0 else None, numbers))\n",
    "# print(even_numbers)\n",
    "# even_numbers = [num for num in even_numbers if num is not None]\n",
    "print(even_numbers)\n"
   ]
  },
  {
   "cell_type": "code",
   "execution_count": 28,
   "metadata": {},
   "outputs": [
    {
     "name": "stdout",
     "output_type": "stream",
     "text": [
      "[30, 25, 40]\n"
     ]
    }
   ],
   "source": [
    "# Transforming Complex Data\n",
    "people = [{'name': 'John', 'age': 30}, {'name': 'Jane', 'age': 25}, {'name': 'Jim', 'age': 40}]\n",
    "ages = list(map(lambda n: n['age'], people))\n",
    "print(ages)\n"
   ]
  },
  {
   "cell_type": "code",
   "execution_count": null,
   "metadata": {},
   "outputs": [
    {
     "name": "stdout",
     "output_type": "stream",
     "text": [
      "14\n"
     ]
    }
   ],
   "source": [
    "file=open(\"lol.txt\",\"w\")\n",
    "print(file.write(\"for i in range(1,11)\" for i in range))\n",
    "file.close()"
   ]
  },
  {
   "cell_type": "code",
   "execution_count": null,
   "metadata": {},
   "outputs": [
    {
     "name": "stdout",
     "output_type": "stream",
     "text": [
      "akriti\n"
     ]
    }
   ],
   "source": [
    "a= input(\"write your name:\")\n",
    "a=\"10\"\n",
    "print(a)"
   ]
  },
  {
   "cell_type": "code",
   "execution_count": null,
   "metadata": {},
   "outputs": [],
   "source": []
  }
 ],
 "metadata": {
  "kernelspec": {
   "display_name": "Python 3",
   "language": "python",
   "name": "python3"
  },
  "language_info": {
   "codemirror_mode": {
    "name": "ipython",
    "version": 3
   },
   "file_extension": ".py",
   "mimetype": "text/x-python",
   "name": "python",
   "nbconvert_exporter": "python",
   "pygments_lexer": "ipython3",
   "version": "3.11.2"
  }
 },
 "nbformat": 4,
 "nbformat_minor": 2
}
