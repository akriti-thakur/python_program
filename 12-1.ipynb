{
 "cells": [
  {
   "cell_type": "code",
   "execution_count": 8,
   "metadata": {},
   "outputs": [
    {
     "name": "stdout",
     "output_type": "stream",
     "text": [
      "+byS5=2HfO%4\n",
      "abcdefghijklmnopqrstuvwxyzABCDEFGHIJKLMNOPQRSTUVWXYZ\n",
      "0123456789\n",
      "!\"#$%&'()*+,-./:;<=>?@[\\]^_`{|}~\n"
     ]
    }
   ],
   "source": [
    "# random password\n",
    "import string \n",
    "import random \n",
    "\n",
    "def generate_pass(lenght=12):\n",
    "    characters=string.ascii_letters+string.digits+string.punctuation\n",
    "    \n",
    "    password=''.join(random.choices(characters,k=lenght))\n",
    "    return password\n",
    "\n",
    "\n",
    "\n",
    "print(generate_pass())\n",
    "print(string.ascii_letters)\n",
    "print(string.digits)\n",
    "print(string.punctuation)"
   ]
  },
  {
   "cell_type": "code",
   "execution_count": 25,
   "metadata": {},
   "outputs": [
    {
     "name": "stdout",
     "output_type": "stream",
     "text": [
      "['E', 'B', 'E', 'E', 'E', 'D', 'F', 'C', 'A', 'A']\n",
      "EBEEEDFCAA\n"
     ]
    }
   ],
   "source": [
    "import random\n",
    "character=\"ABCDEF\"\n",
    "random_choices=random.choices(character,k=10)\n",
    "print(random_choices)\n",
    "\n",
    "password= ''.join(random_choices)\n",
    "print(password)\n",
    "\n"
   ]
  },
  {
   "cell_type": "markdown",
   "metadata": {},
   "source": [
    "-----------------------------------------------------------------------------------"
   ]
  },
  {
   "cell_type": "code",
   "execution_count": 33,
   "metadata": {},
   "outputs": [
    {
     "name": "stdout",
     "output_type": "stream",
     "text": [
      "10.0\n",
      "10.0\n"
     ]
    }
   ],
   "source": [
    "# typecasting\n",
    "# type change means int->float \n",
    "\n",
    "value=\"10\"\n",
    "number=float(value)\n",
    "\n",
    "print(number)\n",
    "\n",
    "\n",
    "\n"
   ]
  },
  {
   "cell_type": "code",
   "execution_count": 1,
   "metadata": {},
   "outputs": [
    {
     "name": "stdout",
     "output_type": "stream",
     "text": [
      "3\n",
      "4\n",
      "12\n",
      "-1\n",
      "6\n"
     ]
    }
   ],
   "source": [
    "\n",
    "def add(x,y):\n",
    "    a= x+y\n",
    "    return a\n",
    "\n",
    "def sub(x,y):\n",
    "    return x-y\n",
    "def  mul(x,y):\n",
    "    return x*y\n",
    "\n",
    "\n",
    "print(add(1,2))\n",
    "print(add(2,2))\n",
    "print(add(10,2))\n",
    "\n",
    "3,4,56,print(sub(1,2))\n",
    "print(mul(3,2))\n",
    "\n"
   ]
  },
  {
   "cell_type": "code",
   "execution_count": 2,
   "metadata": {},
   "outputs": [
    {
     "name": "stdout",
     "output_type": "stream",
     "text": [
      "False\n"
     ]
    }
   ],
   "source": [
    "a=int(input(\"give your input:\"))\n",
    "\n",
    "b=10\n",
    "if a!=b:\n",
    "    print(True)\n",
    "    \n",
    "else:\n",
    "   print( False)\n"
   ]
  },
  {
   "cell_type": "markdown",
   "metadata": {},
   "source": [
    "# conditions"
   ]
  },
  {
   "cell_type": "code",
   "execution_count": null,
   "metadata": {},
   "outputs": [
    {
     "name": "stdout",
     "output_type": "stream",
     "text": [
      "equal\n"
     ]
    }
   ],
   "source": [
    "# if elif else\n",
    "number=10.0\n",
    "number= int(input(\"enter your number\"))\n",
    "if number<10:\n",
    "    print(\"your number is less than 10\")\n",
    "elif number>10:\n",
    "    print(\"your number is greater than 10\")\n",
    "    \n",
    "else:\n",
    "    print(\"equal\")\n",
    "\n"
   ]
  },
  {
   "cell_type": "code",
   "execution_count": 1,
   "metadata": {},
   "outputs": [
    {
     "name": "stdout",
     "output_type": "stream",
     "text": [
      "1\n",
      "3\n",
      "5\n",
      "7\n",
      "9\n"
     ]
    }
   ],
   "source": [
    "# n=0\n",
    "# while n<=10:\n",
    "#     if n%2==0:\n",
    "#         n +=1\n",
    "#         continue\n",
    "    \n",
    "#     print(n)\n",
    "#     n +=1"
   ]
  },
  {
   "cell_type": "code",
   "execution_count": 4,
   "metadata": {},
   "outputs": [
    {
     "name": "stdout",
     "output_type": "stream",
     "text": [
      "your number is odd\n"
     ]
    }
   ],
   "source": [
    "number = 3\n",
    "\n",
    "if number %2 == 0:\n",
    "    if number ==0:\n",
    "        print(\"zero\")\n",
    "        \n",
    "    else:\n",
    "        print(\"even\")\n",
    "        \n",
    "else:\n",
    "    print(\"your number is odd\")      \n"
   ]
  },
  {
   "cell_type": "markdown",
   "metadata": {},
   "source": [
    "# file operation\n"
   ]
  },
  {
   "cell_type": "code",
   "execution_count": 1,
   "metadata": {},
   "outputs": [
    {
     "name": "stdout",
     "output_type": "stream",
     "text": [
      " hhhhhhhhhhhhhhhhhhhh\n",
      "               \n",
      "               \n",
      "               \n",
      "               \n",
      "               hhhhhhhhhhhhhhhhhhhhhh\n",
      "               \n"
     ]
    },
    {
     "data": {
      "text/plain": [
       "<function TextIOWrapper.close()>"
      ]
     },
     "execution_count": 1,
     "metadata": {},
     "output_type": "execute_result"
    }
   ],
   "source": [
    "file=open('lol.txt','r')\n",
    "print(file.read())\n",
    "file.close"
   ]
  },
  {
   "cell_type": "code",
   "execution_count": 2,
   "metadata": {},
   "outputs": [],
   "source": [
    "with open ('lol.txt','w') as file:\n",
    "    file.write(''' ghwdueuifrkj\n",
    "               wiuhefieifh\n",
    "               deghfuefeif\n",
    "               ''')\n",
    "    \n",
    "file.close()\n",
    "    "
   ]
  },
  {
   "cell_type": "code",
   "execution_count": 3,
   "metadata": {},
   "outputs": [
    {
     "name": "stdout",
     "output_type": "stream",
     "text": [
      " ghwdueuifrkj\n",
      "               wiuhefieifh\n",
      "               deghfuefeif\n",
      "               \n"
     ]
    }
   ],
   "source": [
    "with open('lol.txt','r') as f:\n",
    "    print(f.read())"
   ]
  },
  {
   "cell_type": "code",
   "execution_count": 4,
   "metadata": {},
   "outputs": [],
   "source": [
    "with open('lol.txt','a') as f:\n",
    "    f.write('hello my name is akriti ')\n",
    "    \n",
    "    \n",
    "\n"
   ]
  },
  {
   "cell_type": "code",
   "execution_count": 1,
   "metadata": {},
   "outputs": [],
   "source": [
    "\n",
    "with open('multiplication_tables.txt', 'w') as file:\n",
    "    for number in range(1, 11):\n",
    "        for i in range(1,11):\n",
    "            line = f'{number} x {i} = {number * i}\\n'\n",
    "            file.write(line)\n",
    "            \n",
    "        \n",
    "        file.write('\\n')  \n",
    "        continue\n",
    "\n",
    "\n",
    "\n"
   ]
  },
  {
   "cell_type": "code",
   "execution_count": 2,
   "metadata": {},
   "outputs": [
    {
     "name": "stdout",
     "output_type": "stream",
     "text": [
      "2\n"
     ]
    }
   ],
   "source": [
    "text = \"I like you and you like me!\"\n",
    "print (text.count( \"you\" ))"
   ]
  },
  {
   "cell_type": "code",
   "execution_count": 3,
   "metadata": {},
   "outputs": [
    {
     "name": "stdout",
     "output_type": "stream",
     "text": [
      "7\n"
     ]
    }
   ],
   "source": [
    "text = \"I like you and you like me!\"\n",
    "print (text.find( \"you\" ))"
   ]
  },
  {
   "cell_type": "code",
   "execution_count": 5,
   "metadata": {},
   "outputs": [
    {
     "name": "stdout",
     "output_type": "stream",
     "text": [
      "h-e-l-l-o- -w-o-r-l-d- -h-e-l-l-o-w-o-r-l-d\n"
     ]
    }
   ],
   "source": [
    "names =\"hello world helloworld\"\n",
    "sep = \"-\"\n",
    "print (sep.join(names))"
   ]
  },
  {
   "cell_type": "code",
   "execution_count": 7,
   "metadata": {},
   "outputs": [
    {
     "name": "stdout",
     "output_type": "stream",
     "text": [
      "I like Anna and Anna is my friend!\n"
     ]
    }
   ],
   "source": [
    "text = \"I like John and John is my friend!\"\n",
    "text = text.replace( \"John\" , \"Anna\" )\n",
    "print(text)"
   ]
  }
 ],
 "metadata": {
  "kernelspec": {
   "display_name": "Python 3",
   "language": "python",
   "name": "python3"
  },
  "language_info": {
   "codemirror_mode": {
    "name": "ipython",
    "version": 3
   },
   "file_extension": ".py",
   "mimetype": "text/x-python",
   "name": "python",
   "nbconvert_exporter": "python",
   "pygments_lexer": "ipython3",
   "version": "3.11.2"
  }
 },
 "nbformat": 4,
 "nbformat_minor": 2
}
