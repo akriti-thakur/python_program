{
 "cells": [
  {
   "cell_type": "code",
   "execution_count": null,
   "metadata": {},
   "outputs": [
    {
     "name": "stdout",
     "output_type": "stream",
     "text": [
      "['tail', 'tail', 'tail', 'tail', 'head', 'head', 'tail', 'tail', 'head', 'tail', 'head', 'head', 'head', 'tail', 'head', 'tail', 'tail', 'head', 'head', 'tail', 'head', 'head', 'tail', 'tail', 'head', 'head', 'tail', 'head', 'tail', 'tail', 'head', 'tail', 'tail', 'head', 'tail', 'tail', 'tail', 'head', 'tail', 'head', 'tail', 'tail', 'tail', 'tail', 'tail', 'tail', 'tail', 'head', 'head', 'tail', 'head', 'tail', 'head', 'tail', 'tail', 'tail', 'head', 'tail', 'head', 'head', 'tail', 'head', 'tail', 'head', 'head', 'head', 'tail', 'head', 'tail', 'head', 'tail', 'tail', 'tail', 'head', 'tail', 'tail', 'tail', 'tail', 'tail', 'tail', 'head', 'head', 'head', 'tail', 'tail', 'head', 'tail', 'tail', 'tail', 'head', 'tail', 'tail', 'head', 'head', 'tail', 'head', 'tail', 'head', 'head', 'head']\n",
      "Counter({'tail': 57, 'head': 43})\n"
     ]
    },
    {
     "data": {
      "image/png": "[encoded data removed]",
      "text/plain": [
       "<Figure size 640x480 with 1 Axes>"
      ]
     },
     "metadata": {},
     "output_type": "display_data"
    }
   ],
   "source": [
    "import random \n",
    "from collections import Counter\n",
    "import pandas as pd\n",
    "import matplotlib.pyplot as py\n",
    "def toss():\n",
    "    return 'head' if random.randint(0,1)==1 else 'tail'\n",
    "\n",
    "\n",
    "tosses=[toss() for i in range(0,100)]\n",
    "print(tosses)\n",
    "\n",
    "m=Counter(tosses)\n",
    "print(m)\n",
    "# d=pd.DataFrame.from_dict(data=m,orient='index')\n",
    "# d.plot(kind='bar')\n",
    "# py.show()"
   ]
  },
  {
   "cell_type": "code",
   "execution_count": 10,
   "metadata": {},
   "outputs": [
    {
     "name": "stdout",
     "output_type": "stream",
     "text": [
      "Enter 9 elements for the 3x3 matrix:\n",
      "3x3 Matrix:\n",
      "[1, 2, 3]\n",
      "[4, 5, 6]\n",
      "[7, 8, 9]\n"
     ]
    }
   ],
   "source": [
    "# n=0\n",
    "# while n<10:\n",
    "#     n+=1\n",
    "#     if n==5:\n",
    "#         continue\n",
    "    \n",
    "# print(n) \n",
    "\n",
    "\n",
    "\n",
    "# Function to create a 3x3 matrix from user input\n",
    "def create_matrix():\n",
    "    matrix = []\n",
    "    print(\"Enter 9 elements for the 3x3 matrix:\")\n",
    "    for i in range(3):\n",
    "        row = []\n",
    "        for j in range(3):\n",
    "            element = int(input(f\"Element [{i}][{j}]: \"))\n",
    "            row.append(element)\n",
    "        matrix.append(row)\n",
    "    return matrix\n",
    "\n",
    "# Create and print the matrix\n",
    "matrix = create_matrix()\n",
    "print(\"3x3 Matrix:\")\n",
    "for row in matrix:\n",
    "    print(row)\n",
    "\n",
    "\n"
   ]
  },
  {
   "cell_type": "code",
   "execution_count": 7,
   "metadata": {},
   "outputs": [
    {
     "name": "stdout",
     "output_type": "stream",
     "text": [
      "3x3 Matrix:\n",
      "[[1, 2, 3], '\\n', [4, 5, 6], '\\n', [7, 8, 9], '\\n']\n"
     ]
    }
   ],
   "source": [
    "def make():\n",
    "    matrix=[]\n",
    "    for i in range(3):\n",
    "        row=[]\n",
    "        for j in range(3):\n",
    "            ele=int(input(f'enter the input for {i}{j}'))\n",
    "            row.append(ele)\n",
    "        matrix.append(row)\n",
    "\n",
    "        \n",
    "    \n",
    "    \n",
    "    return matrix \n",
    "\n",
    "\n",
    "mat = make()\n",
    "print(\"3x3 Matrix:\")\n",
    "print(mat)"
   ]
  },
  {
   "cell_type": "code",
   "execution_count": 27,
   "metadata": {},
   "outputs": [
    {
     "name": "stdout",
     "output_type": "stream",
     "text": [
      "3\n"
     ]
    }
   ],
   "source": [
    "def linearSearch(arr, targetVal):\n",
    "    for i in range(len(arr)):\n",
    "        if arr[i] == targetVal:\n",
    "            return str(i)\n",
    "    return -1\n",
    "\n",
    "arr = [3, 7, 2, 9, 5]\n",
    "targetVal = 9\n",
    "\n",
    "\n",
    "result = linearSearch(arr, targetVal)\n",
    "print(result)"
   ]
  },
  {
   "cell_type": "code",
   "execution_count": 3,
   "metadata": {},
   "outputs": [
    {
     "ename": "NameError",
     "evalue": "name 'n' is not defined",
     "output_type": "error",
     "traceback": [
      "\u001b[1;31m---------------------------------------------------------------------------\u001b[0m",
      "\u001b[1;31mNameError\u001b[0m                                 Traceback (most recent call last)",
      "Cell \u001b[1;32mIn[3], line 7\u001b[0m\n\u001b[0;32m      5\u001b[0m \u001b[38;5;28;01mdef\u001b[39;00m \u001b[38;5;21mm\u001b[39m():\n\u001b[0;32m      6\u001b[0m     \u001b[38;5;28mprint\u001b[39m(n)\n\u001b[1;32m----> 7\u001b[0m \u001b[38;5;28mprint\u001b[39m(\u001b[43mn\u001b[49m)\n\u001b[0;32m      8\u001b[0m s()\n",
      "\u001b[1;31mNameError\u001b[0m: name 'n' is not defined"
     ]
    }
   ],
   "source": [
    "def s():\n",
    "    n=2\n",
    "    print(n)\n",
    "\n",
    "\n",
    "\n"
   ]
  },
  {
   "cell_type": "code",
   "execution_count": 15,
   "metadata": {},
   "outputs": [
    {
     "name": "stdout",
     "output_type": "stream",
     "text": [
      "0\n"
     ]
    }
   ],
   "source": [
    "try:\n",
    "    print(10%-1)\n",
    "    \n",
    "except ZeroDivisionError:\n",
    "    print(\"not divides by zero\")\n",
    "    \n",
    "except ValueError:\n",
    "    print(\"hello0\")"
   ]
  },
  {
   "cell_type": "code",
   "execution_count": 27,
   "metadata": {},
   "outputs": [
    {
     "name": "stdout",
     "output_type": "stream",
     "text": [
      "ook\n"
     ]
    },
    {
     "ename": "ZeroDivisionError",
     "evalue": "integer modulo by zero",
     "output_type": "error",
     "traceback": [
      "\u001b[1;31m---------------------------------------------------------------------------\u001b[0m",
      "\u001b[1;31mZeroDivisionError\u001b[0m                         Traceback (most recent call last)",
      "Cell \u001b[1;32mIn[27], line 5\u001b[0m\n\u001b[0;32m      1\u001b[0m \u001b[38;5;66;03m# Example of ValueError\u001b[39;00m\n\u001b[0;32m      2\u001b[0m \n\u001b[0;32m      3\u001b[0m \u001b[38;5;66;03m# Trying to convert a string that doesn't represent a number to an integer\u001b[39;00m\n\u001b[0;32m      4\u001b[0m \u001b[38;5;28;01mtry\u001b[39;00m:\n\u001b[1;32m----> 5\u001b[0m    \u001b[38;5;28mprint\u001b[39m(\u001b[38;5;241;43m10\u001b[39;49m\u001b[38;5;241;43m%\u001b[39;49m\u001b[38;5;241;43m0\u001b[39;49m)\n\u001b[0;32m      7\u001b[0m \u001b[38;5;28;01mexcept\u001b[39;00m \u001b[38;5;167;01mValueError\u001b[39;00m \u001b[38;5;28;01mas\u001b[39;00m f :\n\u001b[0;32m      8\u001b[0m     \u001b[38;5;28mprint\u001b[39m(\u001b[38;5;124m\"\u001b[39m\u001b[38;5;124mValueError occurred: \u001b[39m\u001b[38;5;124m\"\u001b[39m,f)\n",
      "\u001b[1;31mZeroDivisionError\u001b[0m: integer modulo by zero"
     ]
    }
   ],
   "source": [
    "# Example of ValueError\n",
    "\n",
    "# Trying to convert a string that doesn't represent a number to an integer\n",
    "try:\n",
    "   print(10%0)\n",
    "   \n",
    "except ValueError as f :\n",
    "    print(\"ValueError occurred: \",f)\n",
    "    \n",
    "finally:\n",
    "    print(\"ook\")\n"
   ]
  },
  {
   "cell_type": "code",
   "execution_count": 38,
   "metadata": {},
   "outputs": [
    {
     "name": "stdout",
     "output_type": "stream",
     "text": [
      "the name is mm , and the age is this8\n",
      "the name is mm and the age is this 8\n"
     ]
    }
   ],
   "source": [
    "h=\"mm\"\n",
    "d=8\n",
    "print(f\"the name is {h} , and the age is this{d}\")\n",
    "print(\"the name is\", h , \"and the age is this\",d)"
   ]
  },
  {
   "cell_type": "code",
   "execution_count": 26,
   "metadata": {},
   "outputs": [
    {
     "name": "stdout",
     "output_type": "stream",
     "text": [
      "10\n",
      "30\n",
      "60\n",
      "100\n"
     ]
    }
   ],
   "source": [
    "\n",
    "def print_sum(*numbers):\n",
    "    result = 0\n",
    "    for x in numbers:\n",
    "       result += x\n",
    "       print (result)\n",
    "    \n",
    "print_sum(10,20,30,40)"
   ]
  },
  {
   "cell_type": "code",
   "execution_count": 30,
   "metadata": {},
   "outputs": [
    {
     "name": "stdout",
     "output_type": "stream",
     "text": [
      "11\n",
      "11\n"
     ]
    }
   ],
   "source": [
    "num=10\n",
    "def n():\n",
    "    global num \n",
    "    num +=1\n",
    "    print(num)\n",
    "    \n",
    "def mm():\n",
    "    print(num)\n",
    "    \n",
    "n()\n",
    "mm()"
   ]
  },
  {
   "cell_type": "code",
   "execution_count": 4,
   "metadata": {},
   "outputs": [
    {
     "name": "stdout",
     "output_type": "stream",
     "text": [
      "1\n",
      "2\n",
      "3\n",
      "4\n",
      "5\n",
      "6\n",
      "7\n",
      "8\n",
      "9\n",
      "10\n"
     ]
    }
   ],
   "source": [
    "n= [10,\"hello\",10.98,True]\n",
    "n=10\n",
    "for i in range(1,n+1):\n",
    "    print(i)"
   ]
  },
  {
   "cell_type": "code",
   "execution_count": 8,
   "metadata": {},
   "outputs": [
    {
     "name": "stdout",
     "output_type": "stream",
     "text": [
      "this number is 5\n",
      "11\n"
     ]
    }
   ],
   "source": [
    "number = 0\n",
    "while number <= 10 :\n",
    "  number += 1 \n",
    "  if number == 5 :\n",
    "   print(\"this number is 5\")\n",
    "   continue \n",
    "\n",
    "print(number)\n",
    "  \n",
    "  \n"
   ]
  },
  {
   "cell_type": "code",
   "execution_count": 2,
   "metadata": {},
   "outputs": [
    {
     "data": {
      "text/plain": [
       "2.5"
      ]
     },
     "execution_count": 2,
     "metadata": {},
     "output_type": "execute_result"
    }
   ],
   "source": [
    "\n",
    "def sum (numbers):\n",
    "    total = 0\n",
    "    n=len(numbers)\n",
    "    for n in numbers:\n",
    "        \n",
    "        total +=  n\n",
    "        \n",
    "    return total/n\n",
    "\n",
    "a=[1,2,3,4]\n",
    "sum(a)\n"
   ]
  },
  {
   "cell_type": "code",
   "execution_count": 14,
   "metadata": {},
   "outputs": [
    {
     "name": "stdout",
     "output_type": "stream",
     "text": [
      "other\n"
     ]
    }
   ],
   "source": [
    "try:\n",
    "    result =\"hee\"\n",
    "    s=int(result)\n",
    "    print\n",
    "    \n",
    "except ZeroDivisionError as e:\n",
    "    print(e)\n",
    "except:\n",
    "    print(\"other\")\n"
   ]
  },
  {
   "cell_type": "code",
   "execution_count": 15,
   "metadata": {},
   "outputs": [
    {
     "name": "stdout",
     "output_type": "stream",
     "text": [
      "Error!\n",
      "Always executed!\n"
     ]
    }
   ],
   "source": [
    "try :\n",
    "    print ( 10 / 0 )\n",
    "except :\n",
    "     print ( \"Error!\" )\n",
    "finally :\n",
    "     print ( \"Always executed!\" )"
   ]
  },
  {
   "cell_type": "code",
   "execution_count": 3,
   "metadata": {},
   "outputs": [
    {
     "name": "stdout",
     "output_type": "stream",
     "text": [
      "1 * 1 = 1\n",
      "1 * 2 = 2\n",
      "1 * 3 = 3\n",
      "1 * 4 = 4\n",
      "1 * 5 = 5\n",
      "1 * 6 = 6\n",
      "1 * 7 = 7\n",
      "1 * 8 = 8\n",
      "1 * 9 = 9\n",
      "1 * 10 = 10\n",
      "2 * 1 = 2\n",
      "2 * 2 = 4\n",
      "2 * 3 = 6\n",
      "2 * 4 = 8\n",
      "2 * 5 = 10\n",
      "2 * 6 = 12\n",
      "2 * 7 = 14\n",
      "2 * 8 = 16\n",
      "2 * 9 = 18\n",
      "2 * 10 = 20\n",
      "3 * 1 = 3\n",
      "3 * 2 = 6\n",
      "3 * 3 = 9\n",
      "3 * 4 = 12\n",
      "3 * 5 = 15\n",
      "3 * 6 = 18\n",
      "3 * 7 = 21\n",
      "3 * 8 = 24\n",
      "3 * 9 = 27\n",
      "3 * 10 = 30\n",
      "4 * 1 = 4\n",
      "4 * 2 = 8\n",
      "4 * 3 = 12\n",
      "4 * 4 = 16\n",
      "4 * 5 = 20\n",
      "4 * 6 = 24\n",
      "4 * 7 = 28\n",
      "4 * 8 = 32\n",
      "4 * 9 = 36\n",
      "4 * 10 = 40\n",
      "\n",
      "\n"
     ]
    }
   ],
   "source": [
    "for a in range(1,5):\n",
    "    for i in range (1,11):\n",
    "        print (a, \"*\", i, \"=\", a*i)\n",
    "        \n",
    "        \n",
    "print(\"\\n\")\n",
    "        \n"
   ]
  },
  {
   "cell_type": "code",
   "execution_count": 6,
   "metadata": {},
   "outputs": [
    {
     "name": "stdout",
     "output_type": "stream",
     "text": [
      "1\n",
      "2\n",
      "3\n",
      "4\n",
      "this number is five\n",
      "6\n",
      "7\n",
      "8\n",
      "9\n",
      "10\n"
     ]
    }
   ],
   "source": [
    "number = 0\n",
    "while number < 10 :\n",
    "    number += 1\n",
    "    if number == 5 :\n",
    "       print(\"this number is five\")\n",
    "       continue\n",
    "    print (number)"
   ]
  },
  {
   "cell_type": "code",
   "execution_count": 5,
   "metadata": {},
   "outputs": [
    {
     "name": "stdout",
     "output_type": "stream",
     "text": [
      "hello\n"
     ]
    }
   ],
   "source": [
    "class astha:\n",
    "    def m():\n",
    "        print(\"hello\")\n",
    "        \n",
    "    def n():\n",
    "        print(\"astha\")\n",
    "        \n",
    "        \n",
    "obj= astha\n",
    "obj.m()\n",
    "obj.n()\n",
    "        "
   ]
  },
  {
   "cell_type": "code",
   "execution_count": 6,
   "metadata": {},
   "outputs": [
    {
     "name": "stdout",
     "output_type": "stream",
     "text": [
      "This function is in the parent class.\n",
      "This function is in the child class.\n"
     ]
    }
   ],
   "source": [
    "class Parent:\n",
    "    def func1(self):\n",
    "        print(\"This function is in the parent class.\")\n",
    "\n",
    "class Child(Parent):\n",
    "    def func2(self):\n",
    "        print(\"This function is in the child class.\")\n",
    "\n",
    "obj = Child()\n",
    "obj.func1()\n",
    "obj.func2()\n",
    "# single inheriteance"
   ]
  },
  {
   "cell_type": "code",
   "execution_count": 7,
   "metadata": {},
   "outputs": [
    {
     "name": "stdout",
     "output_type": "stream",
     "text": [
      "This function is in Mother class.\n",
      "This function is in Father class.\n",
      "This function is in Child class.\n"
     ]
    }
   ],
   "source": [
    "class Mother:\n",
    "    def func1(self):\n",
    "        print(\"This function is in Mother class.\")\n",
    "\n",
    "class Father:\n",
    "    def func2(self):\n",
    "        print(\"This function is in Father class.\")\n",
    "\n",
    "class Child(Mother, Father):\n",
    "    def func3(self):\n",
    "        print(\"This function is in Child class.\")\n",
    "\n",
    "obj = Child()\n",
    "obj.func1()\n",
    "obj.func2()\n",
    "obj.func3()\n",
    "# multiple inher..."
   ]
  },
  {
   "cell_type": "code",
   "execution_count": 8,
   "metadata": {},
   "outputs": [
    {
     "name": "stdout",
     "output_type": "stream",
     "text": [
      "This function is in Grandparent class.\n",
      "This function is in Parent class.\n",
      "This function is in Child class.\n"
     ]
    }
   ],
   "source": [
    "class Grandparent:\n",
    "    def func1(self):\n",
    "        print(\"This function is in Grandparent class.\")\n",
    "\n",
    "class Parent(Grandparent):\n",
    "    def func2(self):\n",
    "        print(\"This function is in Parent class.\")\n",
    "\n",
    "class Child(Parent):\n",
    "    def func3(self):\n",
    "        print(\"This function is in Child class.\")\n",
    "\n",
    "obj = Child()\n",
    "obj.func1()\n",
    "obj.func2()\n",
    "obj.func3()\n"
   ]
  },
  {
   "cell_type": "code",
   "execution_count": 9,
   "metadata": {},
   "outputs": [
    {
     "name": "stdout",
     "output_type": "stream",
     "text": [
      "This function is in Parent class.\n",
      "This function is in Child1 class.\n",
      "This function is in Parent class.\n",
      "This function is in Child2 class.\n"
     ]
    }
   ],
   "source": [
    "class Parent:\n",
    "    def func1(self):\n",
    "        print(\"This function is in Parent class.\")\n",
    "\n",
    "class Child1(Parent):\n",
    "    def func2(self):\n",
    "        print(\"This function is in Child1 class.\")\n",
    "\n",
    "class Child2(Parent):\n",
    "    def func3(self):\n",
    "        print(\"This function is in Child2 class.\")\n",
    "\n",
    "obj1 = Child1()\n",
    "obj2 = Child2()\n",
    "obj1.func1()\n",
    "obj1.func2()\n",
    "obj2.func1()\n",
    "obj2.func3()\n",
    "\n",
    "# Hierarchical Inheritance:\n",
    " "
   ]
  },
  {
   "cell_type": "code",
   "execution_count": 10,
   "metadata": {},
   "outputs": [
    {
     "name": "stdout",
     "output_type": "stream",
     "text": [
      "This function is in Base class.\n",
      "This function is in Child1 class.\n",
      "This function is in Child2 class.\n",
      "This function is in Grandchild class.\n"
     ]
    }
   ],
   "source": [
    "# Hybrid Inheritance:\n",
    "\n",
    "class Base:\n",
    "    def func1(self):\n",
    "        print(\"This function is in Base class.\")\n",
    "\n",
    "class Child1(Base):\n",
    "    def func2(self):\n",
    "        print(\"This function is in Child1 class.\")\n",
    "\n",
    "class Child2(Base):\n",
    "    def func3(self):\n",
    "        print(\"This function is in Child2 class.\")\n",
    "\n",
    "class Grandchild(Child1, Child2):\n",
    "    def func4(self):\n",
    "        print(\"This function is in Grandchild class.\")\n",
    "\n",
    "obj = Grandchild()\n",
    "obj.func1()\n",
    "obj.func2()\n",
    "obj.func3()\n",
    "obj.func4()\n"
   ]
  },
  {
   "cell_type": "code",
   "execution_count": null,
   "metadata": {},
   "outputs": [],
   "source": [
    "# simple system\n",
    "\n",
    "\n",
    "class employe:\n",
    "    def __init__(self,name,age,salary):\n",
    "        self.n=name\n",
    "        self.a=age\n",
    "        self.s=salary\n",
    "        \n",
    "    def display(self):\n",
    "        print(f'the name of the employe is {self.n} and the age is {self.a} and the salary is {self.s}')\n",
    "        \n",
    "        \n",
    "class manager(employe):\n",
    "    def __init__(self, name, age, salary,department):\n",
    "        super().__init__(name, age, salary)\n",
    "    \n",
    "        \n",
    "        \n",
    "        \n",
    "        "
   ]
  }
 ],
 "metadata": {
  "kernelspec": {
   "display_name": "Python 3",
   "language": "python",
   "name": "python3"
  },
  "language_info": {
   "codemirror_mode": {
    "name": "ipython",
    "version": 3
   },
   "file_extension": ".py",
   "mimetype": "text/x-python",
   "name": "python",
   "nbconvert_exporter": "python",
   "pygments_lexer": "ipython3",
   "version": "3.11.2"
  }
 },
 "nbformat": 4,
 "nbformat_minor": 2
}
