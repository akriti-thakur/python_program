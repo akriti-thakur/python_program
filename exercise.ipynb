{
 "cells": [
  {
   "cell_type": "code",
   "execution_count": null,
   "metadata": {},
   "outputs": [
    {
     "name": "stdout",
     "output_type": "stream",
     "text": [
      "Enter 9 elements for the 3x3 matrix:\n",
      "[[1, 2, 3, 1], [3, 34, 2, 22], [32, 34, 54, 6], [73, 32, 65, 7], [3, 67, 87, 357]]\n",
      "3x3 Matrix:\n",
      "[1, 2, 3, 1]\n",
      "[3, 34, 2, 22]\n",
      "[32, 34, 54, 6]\n",
      "[73, 32, 65, 7]\n",
      "[3, 67, 87, 357]\n"
     ]
    }
   ],
   "source": [
    "# n=0\n",
    "# while n<10:\n",
    "#     n+=1\n",
    "#     if n==5:\n",
    "#         continue\n",
    "    \n",
    "# print(n) \n",
    "\n",
    "\n",
    "\n",
    "# Function to create a 3x3 matrix from user input\n",
    "def create_matrix():\n",
    "    matrix = []\n",
    "    print(\"Enter 9 elements for the 3x3 matrix:\")\n",
    "    for i in range():\n",
    "        row = []\n",
    "        for j in range(4):\n",
    "            element = int(input(f\"Element [{i}][{j}]: \"))\n",
    "            row.append(element)\n",
    "        matrix.append(row)\n",
    "        \n",
    "    print(matrix)\n",
    "    return matrix\n",
    "\n",
    "# Create and print the matrix\n",
    "matrix = create_matrix()\n",
    "print(\"3x3 Matrix:\")\n",
    "\n",
    "for i in matrix:\n",
    "    print(i)\n",
    "   \n",
    "  import random\n",
    "  \n",
    "  \n",
    "a= \n"
   ]
  },
  {
   "cell_type": "code",
   "execution_count": 2,
   "metadata": {},
   "outputs": [
    {
     "name": "stdout",
     "output_type": "stream",
     "text": [
      "[1, 2, 3, 4, 10]\n"
     ]
    }
   ],
   "source": [
    "a=[1,2,3,4]\n",
    "a.append(10)\n",
    "print(a)"
   ]
  },
  {
   "cell_type": "code",
   "execution_count": 9,
   "metadata": {},
   "outputs": [
    {
     "name": "stdout",
     "output_type": "stream",
     "text": [
      "90\n",
      "10\n",
      "None\n"
     ]
    }
   ],
   "source": [
    "a=10\n",
    "def m ():\n",
    "    a=90\n",
    "    return a\n",
    "    print(a)\n",
    "\n",
    "def n():\n",
    "    print(a)\n",
    "    \n",
    "print(m())\n",
    "print(n())\n",
    "\n",
    "\n",
    "\n",
    "    "
   ]
  },
  {
   "cell_type": "code",
   "execution_count": null,
   "metadata": {},
   "outputs": [
    {
     "name": "stdout",
     "output_type": "stream",
     "text": [
      "['tail', 'head', 'tail', 'tail', 'head', 'tail', 'head', 'tail', 'tail', 'head', 'head', 'head', 'tail', 'head', 'head', 'head', 'tail', 'head', 'head', 'head', 'tail', 'head', 'tail', 'tail', 'tail', 'head', 'head', 'head', 'tail', 'head', 'head', 'head', 'head', 'head', 'tail', 'tail', 'head', 'head', 'tail', 'head', 'tail', 'head', 'tail', 'head', 'head', 'head', 'tail', 'tail', 'tail', 'head', 'tail', 'head', 'head', 'tail', 'tail', 'tail', 'head', 'tail', 'tail', 'tail', 'head', 'head', 'head', 'head', 'tail', 'head', 'tail', 'head', 'head', 'head', 'tail', 'tail', 'tail', 'tail', 'tail', 'head', 'head', 'head', 'head', 'head', 'head', 'head', 'tail', 'tail', 'tail', 'head', 'tail', 'tail', 'tail', 'tail', 'head', 'head', 'tail', 'tail', 'tail', 'head', 'tail', 'head', 'tail', 'head']\n",
      "Counter({'head': 53, 'tail': 47})\n"
     ]
    }
   ],
   "source": [
    "import random \n",
    "from collections import Counter\n",
    "import pandas as pd\n",
    "import matplotlib.pyplot as py\n",
    "def toss():\n",
    "    return 'head' if random.randint(0,1)==1 else 'tail'\n",
    "\n",
    "\n",
    "tosses=[toss() for i in range(0,100)]\n",
    "print(tosses)\n",
    "\n",
    "m=Counter(tosses)\n",
    "print(m)\n",
    "# d=pd.DataFrame.from_dict(data=m,orient='index')\n",
    "# d.plot(kind='bar')\n",
    "# py.show()\n",
    "list1=[]\n",
    "\n",
    "for i \n",
    "     a= random.randint(0,1)\n",
    "     iif a==0\n",
    "     \n",
    "     list.ap(a\"\"head)\n",
    " else:\n",
    "     tail\n",
    "     \n",
    " head=0\n",
    " tail=0    \n",
    "for i in range(len(list1)):\n",
    "    if i ==head:\n",
    "        head +=1\n",
    "        \n",
    "    else:\n",
    "        tail +=1\n",
    "        "
   ]
  },
  {
   "cell_type": "code",
   "execution_count": 30,
   "metadata": {},
   "outputs": [
    {
     "name": "stdout",
     "output_type": "stream",
     "text": [
      "hello\n"
     ]
    },
    {
     "data": {
      "text/plain": [
       "3"
      ]
     },
     "execution_count": 30,
     "metadata": {},
     "output_type": "execute_result"
    }
   ],
   "source": [
    "def hello(num1,num2):\n",
    "    print(\"hello\")\n",
    "    return  num1+num2\n",
    "\n",
    "    \n",
    "    \n",
    "hello(1,2)"
   ]
  },
  {
   "cell_type": "code",
   "execution_count": 7,
   "metadata": {},
   "outputs": [
    {
     "name": "stdout",
     "output_type": "stream",
     "text": [
      "3x3 Matrix:\n",
      "[[1, 2, 3], '\\n', [4, 5, 6], '\\n', [7, 8, 9], '\\n']\n"
     ]
    }
   ],
   "source": [
    "def make():\n",
    "    matrix=[]\n",
    "    for i in range(3):\n",
    "        row=[]\n",
    "        for j in range(3):\n",
    "            ele=int(input(f'enter the input for {i}{j}'))\n",
    "            row.append(ele)\n",
    "        matrix.append(row)\n",
    "\n",
    "        \n",
    "    \n",
    "    \n",
    "    return matrix \n",
    "\n",
    "\n",
    "mat = make()\n",
    "print(\"3x3 Matrix:\")\n",
    "print(mat)"
   ]
  },
  {
   "cell_type": "code",
   "execution_count": 27,
   "metadata": {},
   "outputs": [
    {
     "name": "stdout",
     "output_type": "stream",
     "text": [
      "3\n"
     ]
    }
   ],
   "source": [
    "def linearSearch(arr, targetVal):\n",
    "    for i in range(len(arr)):\n",
    "        if arr[i] == targetVal:\n",
    "            return str(i)\n",
    "    return -1\n",
    "\n",
    "arr = [3, 7, 2, 9, 5]\n",
    "targetVal = 9\n",
    "\n",
    "\n",
    "result = linearSearch(arr, targetVal)\n",
    "print(result)"
   ]
  },
  {
   "cell_type": "code",
   "execution_count": 3,
   "metadata": {},
   "outputs": [
    {
     "ename": "NameError",
     "evalue": "name 'n' is not defined",
     "output_type": "error",
     "traceback": [
      "\u001b[1;31m---------------------------------------------------------------------------\u001b[0m",
      "\u001b[1;31mNameError\u001b[0m                                 Traceback (most recent call last)",
      "Cell \u001b[1;32mIn[3], line 7\u001b[0m\n\u001b[0;32m      5\u001b[0m \u001b[38;5;28;01mdef\u001b[39;00m \u001b[38;5;21mm\u001b[39m():\n\u001b[0;32m      6\u001b[0m     \u001b[38;5;28mprint\u001b[39m(n)\n\u001b[1;32m----> 7\u001b[0m \u001b[38;5;28mprint\u001b[39m(\u001b[43mn\u001b[49m)\n\u001b[0;32m      8\u001b[0m s()\n",
      "\u001b[1;31mNameError\u001b[0m: name 'n' is not defined"
     ]
    }
   ],
   "source": [
    "def s():\n",
    "    n=2\n",
    "    print(n)\n",
    "\n",
    "\n",
    "\n"
   ]
  },
  {
   "cell_type": "code",
   "execution_count": 15,
   "metadata": {},
   "outputs": [
    {
     "name": "stdout",
     "output_type": "stream",
     "text": [
      "0\n"
     ]
    }
   ],
   "source": [
    "try:\n",
    "    print(10%-1)\n",
    "    \n",
    "except ZeroDivisionError:\n",
    "    print(\"not divides by zero\")\n",
    "    \n",
    "except ValueError:\n",
    "    print(\"hello0\")"
   ]
  },
  {
   "cell_type": "code",
   "execution_count": 27,
   "metadata": {},
   "outputs": [
    {
     "name": "stdout",
     "output_type": "stream",
     "text": [
      "ook\n"
     ]
    },
    {
     "ename": "ZeroDivisionError",
     "evalue": "integer modulo by zero",
     "output_type": "error",
     "traceback": [
      "\u001b[1;31m---------------------------------------------------------------------------\u001b[0m",
      "\u001b[1;31mZeroDivisionError\u001b[0m                         Traceback (most recent call last)",
      "Cell \u001b[1;32mIn[27], line 5\u001b[0m\n\u001b[0;32m      1\u001b[0m \u001b[38;5;66;03m# Example of ValueError\u001b[39;00m\n\u001b[0;32m      2\u001b[0m \n\u001b[0;32m      3\u001b[0m \u001b[38;5;66;03m# Trying to convert a string that doesn't represent a number to an integer\u001b[39;00m\n\u001b[0;32m      4\u001b[0m \u001b[38;5;28;01mtry\u001b[39;00m:\n\u001b[1;32m----> 5\u001b[0m    \u001b[38;5;28mprint\u001b[39m(\u001b[38;5;241;43m10\u001b[39;49m\u001b[38;5;241;43m%\u001b[39;49m\u001b[38;5;241;43m0\u001b[39;49m)\n\u001b[0;32m      7\u001b[0m \u001b[38;5;28;01mexcept\u001b[39;00m \u001b[38;5;167;01mValueError\u001b[39;00m \u001b[38;5;28;01mas\u001b[39;00m f :\n\u001b[0;32m      8\u001b[0m     \u001b[38;5;28mprint\u001b[39m(\u001b[38;5;124m\"\u001b[39m\u001b[38;5;124mValueError occurred: \u001b[39m\u001b[38;5;124m\"\u001b[39m,f)\n",
      "\u001b[1;31mZeroDivisionError\u001b[0m: integer modulo by zero"
     ]
    }
   ],
   "source": [
    "# Example of ValueError\n",
    "\n",
    "# Trying to convert a string that doesn't represent a number to an integer\n",
    "try:\n",
    "   print(10%0)\n",
    "   \n",
    "except ValueError as f :\n",
    "    print(\"ValueError occurred: \",f)\n",
    "    \n",
    "finally:\n",
    "    print(\"ook\")\n"
   ]
  },
  {
   "cell_type": "code",
   "execution_count": 38,
   "metadata": {},
   "outputs": [
    {
     "name": "stdout",
     "output_type": "stream",
     "text": [
      "the name is mm , and the age is this8\n",
      "the name is mm and the age is this 8\n"
     ]
    }
   ],
   "source": [
    "h=\"mm\"\n",
    "d=8\n",
    "print(f\"the name is {h} , and the age is this{d}\")\n",
    "print(\"the name is\", h , \"and the age is this\",d)"
   ]
  },
  {
   "cell_type": "code",
   "execution_count": 26,
   "metadata": {},
   "outputs": [
    {
     "name": "stdout",
     "output_type": "stream",
     "text": [
      "10\n",
      "30\n",
      "60\n",
      "100\n"
     ]
    }
   ],
   "source": [
    "\n",
    "def print_sum(*numbers):\n",
    "    result = 0\n",
    "    for x in numbers:\n",
    "       result += x\n",
    "       print (result)\n",
    "    \n",
    "print_sum(10,20,30,40)"
   ]
  },
  {
   "cell_type": "code",
   "execution_count": 30,
   "metadata": {},
   "outputs": [
    {
     "name": "stdout",
     "output_type": "stream",
     "text": [
      "11\n",
      "11\n"
     ]
    }
   ],
   "source": [
    "num=10\n",
    "def n():\n",
    "    global num \n",
    "    num +=1\n",
    "    print(num)\n",
    "    \n",
    "def mm():\n",
    "    print(num)\n",
    "    \n",
    "n()\n",
    "mm()"
   ]
  },
  {
   "cell_type": "code",
   "execution_count": 4,
   "metadata": {},
   "outputs": [
    {
     "name": "stdout",
     "output_type": "stream",
     "text": [
      "1\n",
      "2\n",
      "3\n",
      "4\n",
      "5\n",
      "6\n",
      "7\n",
      "8\n",
      "9\n",
      "10\n"
     ]
    }
   ],
   "source": [
    "n= [10,\"hello\",10.98,True]\n",
    "n=10\n",
    "for i in range(1,n+1):\n",
    "    print(i)"
   ]
  },
  {
   "cell_type": "code",
   "execution_count": 8,
   "metadata": {},
   "outputs": [
    {
     "name": "stdout",
     "output_type": "stream",
     "text": [
      "this number is 5\n",
      "11\n"
     ]
    }
   ],
   "source": [
    "number = 0\n",
    "while number <= 10 :\n",
    "  number += 1 \n",
    "  if number == 5 :\n",
    "   print(\"this number is 5\")\n",
    "   continue \n",
    "\n",
    "print(number)\n",
    "  \n",
    "  \n"
   ]
  },
  {
   "cell_type": "code",
   "execution_count": 2,
   "metadata": {},
   "outputs": [
    {
     "data": {
      "text/plain": [
       "2.5"
      ]
     },
     "execution_count": 2,
     "metadata": {},
     "output_type": "execute_result"
    }
   ],
   "source": [
    "\n",
    "def sum (numbers):\n",
    "    total = 0\n",
    "    n=len(numbers)\n",
    "    for n in numbers:\n",
    "        \n",
    "        total +=  n\n",
    "        \n",
    "    return total/n\n",
    "\n",
    "a=[1,2,3,4]\n",
    "sum(a)\n"
   ]
  },
  {
   "cell_type": "code",
   "execution_count": 14,
   "metadata": {},
   "outputs": [
    {
     "name": "stdout",
     "output_type": "stream",
     "text": [
      "other\n"
     ]
    }
   ],
   "source": [
    "try:\n",
    "    result =\"hee\"\n",
    "    s=int(result)\n",
    "    print\n",
    "    \n",
    "except ZeroDivisionError as e:\n",
    "    print(e)\n",
    "except:\n",
    "    print(\"other\")\n"
   ]
  },
  {
   "cell_type": "code",
   "execution_count": 15,
   "metadata": {},
   "outputs": [
    {
     "name": "stdout",
     "output_type": "stream",
     "text": [
      "Error!\n",
      "Always executed!\n"
     ]
    }
   ],
   "source": [
    "try :\n",
    "    print ( 10 / 0 )\n",
    "except :\n",
    "     print ( \"Error!\" )\n",
    "finally :\n",
    "     print ( \"Always executed!\" )"
   ]
  },
  {
   "cell_type": "code",
   "execution_count": 3,
   "metadata": {},
   "outputs": [
    {
     "name": "stdout",
     "output_type": "stream",
     "text": [
      "1 * 1 = 1\n",
      "1 * 2 = 2\n",
      "1 * 3 = 3\n",
      "1 * 4 = 4\n",
      "1 * 5 = 5\n",
      "1 * 6 = 6\n",
      "1 * 7 = 7\n",
      "1 * 8 = 8\n",
      "1 * 9 = 9\n",
      "1 * 10 = 10\n",
      "2 * 1 = 2\n",
      "2 * 2 = 4\n",
      "2 * 3 = 6\n",
      "2 * 4 = 8\n",
      "2 * 5 = 10\n",
      "2 * 6 = 12\n",
      "2 * 7 = 14\n",
      "2 * 8 = 16\n",
      "2 * 9 = 18\n",
      "2 * 10 = 20\n",
      "3 * 1 = 3\n",
      "3 * 2 = 6\n",
      "3 * 3 = 9\n",
      "3 * 4 = 12\n",
      "3 * 5 = 15\n",
      "3 * 6 = 18\n",
      "3 * 7 = 21\n",
      "3 * 8 = 24\n",
      "3 * 9 = 27\n",
      "3 * 10 = 30\n",
      "4 * 1 = 4\n",
      "4 * 2 = 8\n",
      "4 * 3 = 12\n",
      "4 * 4 = 16\n",
      "4 * 5 = 20\n",
      "4 * 6 = 24\n",
      "4 * 7 = 28\n",
      "4 * 8 = 32\n",
      "4 * 9 = 36\n",
      "4 * 10 = 40\n",
      "\n",
      "\n"
     ]
    }
   ],
   "source": [
    "for a in range(1,5):\n",
    "    for i in range (1,11):\n",
    "        print (a, \"*\", i, \"=\", a*i)\n",
    "        \n",
    "        \n",
    "print(\"\\n\")\n",
    "        \n"
   ]
  },
  {
   "cell_type": "code",
   "execution_count": 6,
   "metadata": {},
   "outputs": [
    {
     "name": "stdout",
     "output_type": "stream",
     "text": [
      "1\n",
      "2\n",
      "3\n",
      "4\n",
      "this number is five\n",
      "6\n",
      "7\n",
      "8\n",
      "9\n",
      "10\n"
     ]
    }
   ],
   "source": [
    "number = 0\n",
    "while number < 10 :\n",
    "    number += 1\n",
    "    if number == 5 :\n",
    "       print(\"this number is five\")\n",
    "       continue\n",
    "    print (number)"
   ]
  },
  {
   "cell_type": "code",
   "execution_count": 5,
   "metadata": {},
   "outputs": [
    {
     "name": "stdout",
     "output_type": "stream",
     "text": [
      "astha\n",
      "hello\n"
     ]
    }
   ],
   "source": [
    "class astha():\n",
    "    def m(self):\n",
    "\n",
    "        print(\"hello\")\n",
    "        \n",
    "        \n",
    "    def n(self):\n",
    "        print(\"astha\")\n",
    "        \n",
    "        \n",
    "obj= astha()\n",
    "obj.n()\n",
    "obj.m()\n",
    "\n",
    "\n",
    "        "
   ]
  },
  {
   "cell_type": "code",
   "execution_count": 6,
   "metadata": {},
   "outputs": [
    {
     "name": "stdout",
     "output_type": "stream",
     "text": [
      "This function is in the parent class.\n",
      "This function is in the child class.\n"
     ]
    }
   ],
   "source": [
    "class Parent():\n",
    "    def func1():\n",
    "        print(\"This function is in the parent class.\")\n",
    "\n",
    "class Child(Parent):\n",
    "    def func2():\n",
    "        print(\"This function is in the child class.\")\n",
    "\n",
    "obj = Child\n",
    "\n",
    "obj.func1()\n",
    "obj.func2()\n",
    "# single inheriteance"
   ]
  },
  {
   "cell_type": "code",
   "execution_count": 7,
   "metadata": {},
   "outputs": [
    {
     "name": "stdout",
     "output_type": "stream",
     "text": [
      "This function is in Mother class.\n",
      "This function is in Father class.\n",
      "This function is in Child class.\n"
     ]
    }
   ],
   "source": [
    "class Mother:\n",
    "    def func1(self):\n",
    "        print(\"This function is in Mother class.\")\n",
    "\n",
    "class Father:\n",
    "    def func2(self):\n",
    "        print(\"This function is in Father class.\")\n",
    "\n",
    "class Child(Mother, Father):\n",
    "    def func3(self):\n",
    "        print(\"This function is in Child class.\")\n",
    "\n",
    "obj = Child()\n",
    "obj.func1()\n",
    "obj.func2()\n",
    "obj.func3()\n",
    "# multiple inher..."
   ]
  },
  {
   "cell_type": "code",
   "execution_count": null,
   "metadata": {},
   "outputs": [
    {
     "name": "stdout",
     "output_type": "stream",
     "text": [
      "This function is in Grandparent class.\n",
      "This function is in Parent class.\n",
      "This function is in Child class.\n"
     ]
    }
   ],
   "source": [
    "class Grandparent:\n",
    "    def func1(self):\n",
    "        print(\"This function is in Grandparent class.\")\n",
    "\n",
    "class Parent(Grandparent):\n",
    "    def func2(self):\n",
    "        print(\"This function is in Parent class.\")\n",
    "\n",
    "class Child(Parent):\n",
    "    def func3(self):\n",
    "        print(\"This function is in Child class.\")\n",
    "\n",
    "obj = Child()\n",
    "obj.func1()\n",
    "obj.func2()\n",
    "obj.func3()\n",
    "# multi-level"
   ]
  },
  {
   "cell_type": "code",
   "execution_count": 9,
   "metadata": {},
   "outputs": [
    {
     "name": "stdout",
     "output_type": "stream",
     "text": [
      "This function is in Parent class.\n",
      "This function is in Child1 class.\n",
      "This function is in Parent class.\n",
      "This function is in Child2 class.\n"
     ]
    }
   ],
   "source": [
    "class Parent:\n",
    "    def func1(self):\n",
    "        print(\"This function is in Parent class.\")\n",
    "\n",
    "class Child1(Parent):\n",
    "    def func2(self):\n",
    "        print(\"This function is in Child1 class.\")\n",
    "\n",
    "class Child2(Parent):\n",
    "    def func3(self):\n",
    "        print(\"This function is in Child2 class.\")\n",
    "\n",
    "obj1 = Child1()\n",
    "obj2 = Child2()\n",
    "obj1.func1()\n",
    "obj1.func2()\n",
    "obj2.func1()\n",
    "obj2.func3()\n",
    "\n",
    "# Hierarchical Inheritance:\n",
    " "
   ]
  },
  {
   "cell_type": "code",
   "execution_count": 10,
   "metadata": {},
   "outputs": [
    {
     "name": "stdout",
     "output_type": "stream",
     "text": [
      "This function is in Base class.\n",
      "This function is in Child1 class.\n",
      "This function is in Child2 class.\n",
      "This function is in Grandchild class.\n"
     ]
    }
   ],
   "source": [
    "# Hybrid Inheritance:\n",
    "\n",
    "class Base:\n",
    "    def func1(self):\n",
    "        print(\"This function is in Base class.\")\n",
    "\n",
    "class Child1(Base):\n",
    "    def func2(self):\n",
    "        print(\"This function is in Child1 class.\")\n",
    "\n",
    "class Child2(Base):\n",
    "    def func3(self):\n",
    "        print(\"This function is in Child2 class.\")\n",
    "\n",
    "class Grandchild(Child1, Child2):\n",
    "    def func4(self):\n",
    "        print(\"This function is in Grandchild class.\")\n",
    "\n",
    "obj = Grandchild()\n",
    "obj.func1()\n",
    "obj.func2()\n",
    "obj.func3()\n",
    "obj.func4()\n"
   ]
  },
  {
   "cell_type": "code",
   "execution_count": null,
   "metadata": {},
   "outputs": [],
   "source": [
    "# simple system\n",
    "\n",
    "\n",
    "class employe:\n",
    "    def __init__(self,name,age,salary):\n",
    "        self.n=name\n",
    "        self.a=age\n",
    "        self.s=salary\n",
    "        \n",
    "    def display(self):\n",
    "        print(f'the name of the employe is {self.n} and the age is {self.a} and the salary is {self.s}')\n",
    "        \n",
    "        \n",
    "class manager(employe):\n",
    "    def __init__(self, name, age, salary,department):\n",
    "        super().__init__(name, age, salary)\n",
    "    \n",
    "        \n",
    "        \n",
    "        \n",
    "        "
   ]
  },
  {
   "cell_type": "code",
   "execution_count": null,
   "metadata": {},
   "outputs": [
    {
     "name": "stdout",
     "output_type": "stream",
     "text": [
      "ONE\n",
      "ONE\n",
      "ONE\n",
      "ONE\n",
      "ONE\n",
      "ONE\n",
      "ONE\n",
      "ONE\n",
      "ONE\n",
      "ONE\n",
      "ONE\n",
      "ONE\n",
      "ONE\n",
      "ONE\n",
      "ONE\n",
      "ONE\n",
      "ONE\n",
      "ONE\n",
      "ONE\n",
      "ONE\n",
      "ONE\n",
      "ONE\n",
      "ONE\n",
      "ONE\n",
      "ONE\n",
      "ONE\n",
      "ONE\n",
      "ONE\n",
      "ONE\n",
      "ONE\n",
      "ONE\n",
      "ONE\n",
      "ONE\n",
      "ONE\n",
      "ONE\n",
      "ONE\n",
      "ONE\n",
      "ONE\n",
      "ONE\n",
      "ONE\n",
      "ONE\n",
      "ONE\n",
      "ONE\n",
      "ONE\n",
      "ONE\n",
      "ONE\n",
      "ONE\n",
      "ONE\n",
      "ONE\n",
      "ONE\n",
      "TWO\n",
      "TWO\n",
      "TWO\n",
      "TWO\n",
      "TWO\n",
      "TWO\n",
      "TWO\n",
      "TWO\n",
      "TWO\n",
      "TWO\n",
      "TWO\n",
      "TWO\n",
      "TWO\n",
      "TWO\n",
      "TWO\n",
      "TWO\n",
      "TWO\n",
      "TWO\n",
      "TWO\n",
      "TWO\n",
      "TWO\n",
      "TWO\n",
      "TWO\n",
      "TWO\n",
      "TWO\n",
      "TWO\n",
      "TWO\n",
      "TWO\n",
      "TWO\n",
      "TWO\n",
      "TWO\n",
      "TWO\n",
      "TWO\n",
      "TWO\n",
      "TWO\n",
      "TWO\n",
      "TWO\n",
      "TWO\n",
      "TWO\n",
      "TWO\n"
     ]
    }
   ],
   "source": [
    "# import threading\n",
    "# def function1():\n",
    "#     for x in range ( 50):\n",
    "#       print ( \"ONE\" )\n",
    "# def function2():\n",
    "#      for x in range ( 40):\n",
    "#        print ( \"TWO\" )\n",
    "# t1 = threading.Thread( target =function1)\n",
    "# t2 = threading.Thread( target =function2)\n",
    "# t1.start()\n",
    "# t2.start()"
   ]
  },
  {
   "cell_type": "code",
   "execution_count": 8,
   "metadata": {},
   "outputs": [
    {
     "name": "stdout",
     "output_type": "stream",
     "text": [
      "HELLO WORLD!THIS IS THE END!\n",
      "\n",
      "HELLO WORLD!\n",
      "HELLO WORLD!\n",
      "HELLO WORLD!\n",
      "HELLO WORLD!\n",
      "HELLO WORLD!\n",
      "HELLO WORLD!\n",
      "HELLO WORLD!\n",
      "HELLO WORLD!\n",
      "HELLO WORLD!\n",
      "HELLO WORLD!\n",
      "HELLO WORLD!\n",
      "HELLO WORLD!\n",
      "HELLO WORLD!\n",
      "HELLO WORLD!\n",
      "HELLO WORLD!\n",
      "HELLO WORLD!\n",
      "HELLO WORLD!\n",
      "HELLO WORLD!\n",
      "HELLO WORLD!\n",
      "HELLO WORLD!\n",
      "HELLO WORLD!\n",
      "HELLO WORLD!\n",
      "HELLO WORLD!\n",
      "HELLO WORLD!\n",
      "HELLO WORLD!\n",
      "HELLO WORLD!\n",
      "HELLO WORLD!\n",
      "HELLO WORLD!\n",
      "HELLO WORLD!\n",
      "HELLO WORLD!\n",
      "HELLO WORLD!\n",
      "HELLO WORLD!\n",
      "HELLO WORLD!\n",
      "HELLO WORLD!\n",
      "HELLO WORLD!\n",
      "HELLO WORLD!\n",
      "HELLO WORLD!\n",
      "HELLO WORLD!\n",
      "HELLO WORLD!\n",
      "HELLO WORLD!\n",
      "HELLO WORLD!\n",
      "HELLO WORLD!\n",
      "HELLO WORLD!\n",
      "HELLO WORLD!\n",
      "HELLO WORLD!\n",
      "HELLO WORLD!\n",
      "HELLO WORLD!\n",
      "HELLO WORLD!\n",
      "HELLO WORLD!\n"
     ]
    }
   ],
   "source": [
    "import threading\n",
    "def function():\n",
    "   for x in range ( 50):\n",
    "      print ( \"HELLO WORLD!\" )\n",
    "t1 = threading.Thread( target =function)\n",
    "t1.start()\n",
    "print ( \"THIS IS THE END!\" )"
   ]
  },
  {
   "cell_type": "code",
   "execution_count": 9,
   "metadata": {},
   "outputs": [
    {
     "name": "stdout",
     "output_type": "stream",
     "text": [
      "The largest number in the list is: 78\n"
     ]
    }
   ],
   "source": [
    "def find_largest(nums):\n",
    "    if not nums:  # Check if the list is empty\n",
    "        return None\n",
    "\n",
    "    largest = nums[0]  # Assume the first element is the largest\n",
    "    for num in nums:\n",
    "        if num > largest:\n",
    "            largest = num\n",
    "    return largest\n",
    "\n",
    "# Example usage\n",
    "numbers = [10, 34, 12, 56, 78, 23, 45]\n",
    "largest_number = find_largest(numbers)\n",
    "print(f\"The largest number in the list is: {largest_number}\")\n"
   ]
  },
  {
   "cell_type": "code",
   "execution_count": 18,
   "metadata": {},
   "outputs": [
    {
     "name": "stdout",
     "output_type": "stream",
     "text": [
      "100 is the largest number in the list\n"
     ]
    }
   ],
   "source": [
    "def num(a, b):\n",
    "    x = 0\n",
    "    for i in range(b):\n",
    "        if a[i] > a[x]: \n",
    "            x = i\n",
    "    return x\n",
    "\n",
    "Hhh = [91, 93, 55, 76, 87, 100]\n",
    "h = len(Hhh)\n",
    "J = num(Hhh, h)  \n",
    "print(f'{Hhh[J]} is the largest number in the list')\n",
    "\n",
    "\n"
   ]
  },
  {
   "cell_type": "code",
   "execution_count": 3,
   "metadata": {},
   "outputs": [
    {
     "name": "stdout",
     "output_type": "stream",
     "text": [
      "the value in a is  10 and the value in b is  5\n",
      "the value in a is 10 and the vakue in b is 5\n"
     ]
    }
   ],
   "source": [
    "a=10\n",
    "b=5\n",
    "print(\"the value in a is \",a,\"and the value in b is \",b)\n",
    "print(f\"the value in a is {a} and the vakue in b is {b}\")"
   ]
  },
  {
   "cell_type": "code",
   "execution_count": null,
   "metadata": {},
   "outputs": [
    {
     "name": "stdout",
     "output_type": "stream",
     "text": [
      "[1, 0, 0]\n",
      "[0, 1, 0]\n",
      "[0, 0, 1]\n"
     ]
    }
   ],
   "source": [
    "def make():\n",
    "    matrix=[] \n",
    "    for i in range(3):\n",
    "        row=[]\n",
    "        for j in range(3):\n",
    "            input\n",
    "            if i==j:\n",
    "               row.append(1)\n",
    "               \n",
    "               \n",
    "               \n",
    "            else:\n",
    "                row.append(0)\n",
    "        matrix.append(row)\n",
    "        \n",
    "\n",
    "        \n",
    "    \n",
    "\n",
    "    return matrix \n",
    "\n",
    "\n",
    "mat = make()\n",
    "for m in mat:\n",
    "   print(m)  \n",
    "\n",
    "   \n"
   ]
  },
  {
   "cell_type": "code",
   "execution_count": 8,
   "metadata": {},
   "outputs": [
    {
     "ename": "SyntaxError",
     "evalue": "invalid syntax (2241164640.py, line 3)",
     "output_type": "error",
     "traceback": [
      "\u001b[1;36m  Cell \u001b[1;32mIn[8], line 3\u001b[1;36m\u001b[0m\n\u001b[1;33m    reverse_a = a[]\u001b[0m\n\u001b[1;37m                  ^\u001b[0m\n\u001b[1;31mSyntaxError\u001b[0m\u001b[1;31m:\u001b[0m invalid syntax\n"
     ]
    }
   ],
   "source": [
    "a=\"hello  - world - hii\"\n",
    "print(a.split(\"1\"))\n",
    "reverse_a = a[]\n",
    "print(reverse_a)\n"
   ]
  },
  {
   "cell_type": "code",
   "execution_count": 27,
   "metadata": {},
   "outputs": [
    {
     "name": "stdout",
     "output_type": "stream",
     "text": [
      "Name: John Doe, Salary: 50000, Age: 78\n",
      "Name: John Doe, Salary: 50000, Age: 78, Department: HR\n"
     ]
    }
   ],
   "source": [
    "class Employee:\n",
    "    def __init__(self, name, salary, age):\n",
    "        self.name = name\n",
    "        self.salary = salary\n",
    "        self.age = age\n",
    "\n",
    "    def display(self):\n",
    "        print(f\"Name: {self.name}, Salary: {self.salary}, Age: {self.age}\")\n",
    "\n",
    "# Derived class\n",
    "class Manager(Employee):\n",
    "    def __init__(self, e, department):\n",
    "        super().__init__(e.name, e.salary, e.age)\n",
    "        self.department = department\n",
    "\n",
    "    def display_details(self):\n",
    "        print(f\"Name: {self.name}, Salary: {self.salary}, Age: {self.age}, Department: {self.department}\")\n",
    "\n",
    "# Instantiate objects\n",
    "e = Employee(\"John Doe\", 50000, 78)\n",
    "manager = Manager(e, \"HR\")\n",
    "\n",
    "# Display details\n",
    "manager.display()  # Output: Name: John Doe, Salary: 50000, Age: 78\n",
    "manager.display_details()   # Output: Name: John Doe, Salary: 50000, Age: 78, Department: HR\n",
    "\n"
   ]
  },
  {
   "cell_type": "code",
   "execution_count": 7,
   "metadata": {},
   "outputs": [
    {
     "name": "stdout",
     "output_type": "stream",
     "text": [
      "hello\n",
      "3\n"
     ]
    }
   ],
   "source": [
    "def vanshika():\n",
    "    print(\"hello\")\n",
    "    \n",
    "    \n",
    "def naman(x,y):\n",
    "    print(x+y)\n",
    "    \n",
    "    \n",
    "vanshika()\n",
    "naman(1,2)"
   ]
  },
  {
   "cell_type": "code",
   "execution_count": null,
   "metadata": {},
   "outputs": [
    {
     "name": "stdout",
     "output_type": "stream",
     "text": [
      "Matrix Multiplication Result:\n",
      "[[19 22]\n",
      " [43 50]]\n"
     ]
    }
   ],
   "source": [
    "import numpy as np\n",
    "\n",
    "\n",
    "# Define two matrices as NumPy arrays\n",
    "A = np.array([[1, 2], [3, 4]]) \n",
    "B = np.array([[5, 6], [7, 8]])\n",
    "\n",
    "# Perform matrix multiplication\n",
    "result = np.dot(A, B)\n",
    "# Alternatively: result = A @ B\n",
    "\n",
    "# Display the result\n",
    "print(\"Matrix Multiplication Result:\")\n",
    "print(result)"
   ]
  },
  {
   "cell_type": "code",
   "execution_count": 2,
   "metadata": {},
   "outputs": [
    {
     "name": "stdout",
     "output_type": "stream",
     "text": [
      "Matrix Multiplication Result:\n",
      "[19, 22]\n",
      "[43, 50]\n"
     ]
    }
   ],
   "source": [
    "# Define two matrices\n",
    "A = [[1, 2], \n",
    "     [3, 4]]\n",
    "\n",
    "B = [[5, 6], \n",
    "     [7, 8]]\n",
    "\n",
    "# Initialize the result matrix with zeros\n",
    "result = [[0, 0], [0, 0]]\n",
    "\n",
    "\n",
    "for i in range(len(A)):         # Iterate over rows of A\n",
    "    for j in range(len(B[0])):  # Iterate over columns of B\n",
    "        for k in range(len(B)): # Iterate over rows of B\n",
    "            result[i][j] += A[i][k] * B[k][j]\n",
    "\n",
    "# Display the result\n",
    "print(\"Matrix Multiplication Result:\")\n",
    "for row in result:\n",
    "    print(row)"
   ]
  },
  {
   "cell_type": "code",
   "execution_count": 5,
   "metadata": {},
   "outputs": [
    {
     "name": "stdout",
     "output_type": "stream",
     "text": [
      "a is the value in a \n",
      "10 is the value in a  10 10\n",
      "10 is the value in a 101010\n"
     ]
    }
   ],
   "source": [
    "a=10\n",
    "print(\"a is the value in a \")\n",
    "print(a ,\"is the value in a \",a,a)\n",
    "print(f\"{a} is the value in a {a}{a}{a}\")\n",
    "\n",
    "\n"
   ]
  },
  {
   "cell_type": "code",
   "execution_count": null,
   "metadata": {},
   "outputs": [
    {
     "name": "stdout",
     "output_type": "stream",
     "text": [
      "Your number is odd\n"
     ]
    }
   ],
   "source": [
    "number=  3\n",
    "if number % 2 == 0 : \n",
    "   if number == 0 :\n",
    "      print ( \"Your number is even but zero\" )\n",
    "   else :\n",
    "        print ( \"Your number is even\" )\n",
    "else :\n",
    " print ( \"Your number is odd\" )\n",
    "\n"
   ]
  },
  {
   "cell_type": "code",
   "execution_count": 4,
   "metadata": {},
   "outputs": [
    {
     "name": "stdout",
     "output_type": "stream",
     "text": [
      "hi\n",
      "hi\n",
      "hi\n",
      "9\n"
     ]
    }
   ],
   "source": [
    "n=12\n",
    "while n>=10:\n",
    "    # n -=1\n",
    "    n = n-1   \n",
    "    print(\"hi\")\n",
    "    \n",
    "    \n",
    "print(n)"
   ]
  },
  {
   "cell_type": "code",
   "execution_count": 7,
   "metadata": {},
   "outputs": [
    {
     "name": "stdout",
     "output_type": "stream",
     "text": [
      "12 enttelegent \n"
     ]
    }
   ],
   "source": [
    "n= int(input(\"enter\"))\n",
    "l=[]\n",
    "for i in range(n):\n",
    "    e= input(\"enter the word\")\n",
    "    l.append(e)\n",
    "    \n",
    "max=0\n",
    "lon=0\n",
    "\n",
    "for i in l:\n",
    "    count=0\n",
    "    for j in i:\n",
    "        count+=1\n",
    "        \n",
    "    if max<count:\n",
    "        max= count\n",
    "        lon=i\n",
    "        \n",
    "        \n",
    "        \n",
    "print(max,lon)\n"
   ]
  },
  {
   "cell_type": "code",
   "execution_count": null,
   "metadata": {},
   "outputs": [],
   "source": [
    "# list1=[\"apple\",\"apple\",\"apple\",\"world\",\"akriti\"]\n",
    "# input1  = \"apple\"\n",
    "# input=4  cal=3\n",
    "# cal>=input:\n",
    "#     count =0\n",
    "# if input1 in list1:\n",
    "#     for i in range(len(list1)):\n",
    "#          count +=\n",
    "#          coutn=3\n",
    "#          if countn>cal:\n",
    "             \n",
    "    \n",
    "# else:\n",
    "#     \"not present\"\n",
    "\n",
    "\n",
    "# list1=[\"apple\",\"world\",\"akriti\"]"
   ]
  },
  {
   "cell_type": "code",
   "execution_count": 13,
   "metadata": {},
   "outputs": [],
   "source": [
    "l=[1,1,2,3,4]\n",
    "\n"
   ]
  },
  {
   "cell_type": "code",
   "execution_count": 16,
   "metadata": {},
   "outputs": [
    {
     "name": "stdout",
     "output_type": "stream",
     "text": [
      "<class 'float'>\n"
     ]
    }
   ],
   "source": []
  },
  {
   "cell_type": "code",
   "execution_count": 9,
   "metadata": {},
   "outputs": [
    {
     "name": "stdout",
     "output_type": "stream",
     "text": [
      "1 \n",
      "1 2 \n",
      "1 2 3 \n",
      "1 2 3 4 \n",
      "1 2 3 4 5 \n"
     ]
    }
   ],
   "source": [
    "for i in range(1,6):\n",
    "    for j in range(1,i+1):\n",
    "        print(j,end=\" \") \n",
    "        \n",
    "        \n",
    "    \n",
    "    print()"
   ]
  },
  {
   "cell_type": "code",
   "execution_count": null,
   "metadata": {},
   "outputs": [],
   "source": [
    "\n",
    "i=1 \n",
    "while i:\n",
    "    "
   ]
  },
  {
   "cell_type": "code",
   "execution_count": 22,
   "metadata": {},
   "outputs": [
    {
     "name": "stdout",
     "output_type": "stream",
     "text": [
      "{'name': 'john', 'age': 12, 'height': 6.1}\n",
      "{'name': 'john', 'age': 12, 'height': 6.1}\n",
      "{'a': None, 'g': None, 'e': None}\n",
      "key not present\n"
     ]
    }
   ],
   "source": [
    "\n",
    "dict1={\n",
    "    \n",
    "    \"name\":\"john\",\n",
    "    \"age\":12,\n",
    "    \"height\":6.1\n",
    "    }\n",
    "\n",
    "\n",
    "# print(len(dict1))\n",
    "# print(str(dict1))\n",
    "# print(dict1.clear())\n",
    "print(dict1)\n",
    "print(dict1.copy())\n",
    "two= dict1.fromkeys(\"age\")\n",
    "print(two)\n",
    "print(dict1.get(\"akriti\",\"key not present\"))\n",
    "\n",
    "\n",
    "\n"
   ]
  },
  {
   "cell_type": "code",
   "execution_count": 24,
   "metadata": {},
   "outputs": [
    {
     "name": "stdout",
     "output_type": "stream",
     "text": [
      "True\n"
     ]
    }
   ],
   "source": [
    "list1=[189,3,\"e382\",283]\n",
    "\n",
    "\n",
    "print(20  not in list1)"
   ]
  },
  {
   "cell_type": "code",
   "execution_count": 28,
   "metadata": {},
   "outputs": [
    {
     "name": "stdout",
     "output_type": "stream",
     "text": [
      "[(1, 1), (2, 4), (3, 9), (4, 16), (5, 25), (6, 36), (7, 49), (8, 64), (9, 81), (10, 100)]\n"
     ]
    }
   ],
   "source": [
    "# Python Program to Create a List of Tuples with the First Element as the Number and Second Element as the Square of the Number\n",
    "\n",
    "\n",
    "\n",
    "# [(2,4),(3,9),(4,16),(5,25)]\n",
    "\n",
    "# b=10\n",
    "# a=[(x,x**2) for x in range(1,b+1)]\n",
    "# print(a)\n",
    "\n",
    "\n",
    "list1=[]\n",
    "for i in range(1,10+1):\n",
    "    list1.append((i,i**2))\n",
    "    \n",
    "    \n",
    "print(list1)\n",
    "\n"
   ]
  },
  {
   "cell_type": "code",
   "execution_count": null,
   "metadata": {},
   "outputs": [],
   "source": [
    "# Python Program to Remove All \n",
    "# Tuples in a List Outside the Given Range\n",
    "\n",
    "\n",
    "# Python Program to Check if a Key Exists in a Dictionary or Not\n",
    "# Python Program to Find the Sum of All the Items in a Dictionary\n",
    "\n",
    "\n",
    "# Python Program to Concatenate Two Dictionaries"
   ]
  },
  {
   "cell_type": "code",
   "execution_count": 9,
   "metadata": {},
   "outputs": [
    {
     "name": "stdout",
     "output_type": "stream",
     "text": [
      "3\n",
      "<class 'int'>\n",
      "<class 'int'>\n"
     ]
    }
   ],
   "source": [
    "# typecasting\n",
    "a= int(input(\"enter your marks: \"))\n",
    "b=input(\"enter your marks: \")\n",
    "b=int(b)\n",
    "print(a+b)\n",
    "\n",
    "print(type(a))\n",
    "print(type(b))\n",
    "\n"
   ]
  },
  {
   "cell_type": "code",
   "execution_count": null,
   "metadata": {},
   "outputs": [
    {
     "name": "stdout",
     "output_type": "stream",
     "text": [
      "[(20, 'b', 89.9), (30, 'c', 90.89), (40, 'd', 100.89)]\n"
     ]
    }
   ],
   "source": [
    "tup1=[(10,'a',10.90),(20,'b',89.90),(30,'c',90.89),(40,'d',100.89),(50,'e',120.878)]\n",
    "\n",
    "\n",
    "\n",
    "min,max=20,40\n",
    "\n",
    "\n",
    "\n",
    "\n",
    "print(filtered)"
   ]
  },
  {
   "cell_type": "code",
   "execution_count": null,
   "metadata": {},
   "outputs": [],
   "source": [
    "# Case 1:\n",
    "# Enter string:hello world program world test\n",
    "# {'test': 1, 'world': 2, 'program': 1, 'hello': 1}\n",
    " \n",
    "# Case 2:\n",
    "# Enter string:orange banana apple apple orange pineapple\n",
    "# {'orange': 2, 'pineapple': 1, 'banana': 1, 'apple': 2}"
   ]
  },
  {
   "cell_type": "code",
   "execution_count": 18,
   "metadata": {},
   "outputs": [
    {
     "ename": "TypeError",
     "evalue": "'tuple' object does not support item assignment",
     "output_type": "error",
     "traceback": [
      "\u001b[1;31m---------------------------------------------------------------------------\u001b[0m",
      "\u001b[1;31mTypeError\u001b[0m                                 Traceback (most recent call last)",
      "Cell \u001b[1;32mIn[18], line 3\u001b[0m\n\u001b[0;32m      1\u001b[0m tup1\u001b[38;5;241m=\u001b[39m(\u001b[38;5;241m10\u001b[39m,\u001b[38;5;241m89\u001b[39m,\u001b[38;5;241m89\u001b[39m,\u001b[38;5;241m89\u001b[39m)\n\u001b[1;32m----> 3\u001b[0m \u001b[43mtup1\u001b[49m\u001b[43m[\u001b[49m\u001b[38;5;241;43m0\u001b[39;49m\u001b[43m]\u001b[49m\u001b[38;5;241m=\u001b[39m\u001b[38;5;124m\"\u001b[39m\u001b[38;5;124makriti\u001b[39m\u001b[38;5;124m\"\u001b[39m\n",
      "\u001b[1;31mTypeError\u001b[0m: 'tuple' object does not support item assignment"
     ]
    }
   ],
   "source": [
    "tup1=(10,89,89,89)\n",
    "\n",
    "tup1[0]=\"akriti\"\n",
    "\n"
   ]
  },
  {
   "cell_type": "code",
   "execution_count": null,
   "metadata": {},
   "outputs": [
    {
     "name": "stdout",
     "output_type": "stream",
     "text": [
      "{'name': 'john', 'age': 45}\n"
     ]
    }
   ],
   "source": [
    "dict1={\n",
    "    \"name\":90,\n",
    "    \"age\":45\n",
    "}\n",
    "\n",
    "\n",
    "\n",
    "print(dict1)\n"
   ]
  },
  {
   "cell_type": "code",
   "execution_count": 9,
   "metadata": {},
   "outputs": [
    {
     "name": "stdout",
     "output_type": "stream",
     "text": [
      "even\n"
     ]
    }
   ],
   "source": [
    "num=0\n",
    "\n",
    "     \n",
    "if num%2 == 0:\n",
    "    print(\"even\")\n",
    "else:\n",
    "    print(\"odd\")"
   ]
  },
  {
   "cell_type": "code",
   "execution_count": null,
   "metadata": {},
   "outputs": [
    {
     "name": "stdout",
     "output_type": "stream",
     "text": [
      "['my', 'name', 'is', 'akriti', 'hi', 'my', 'name', 'is', 'anmika', 'hello', 'world']\n",
      "{'my': 2, 'name': 2, 'is': 2, 'akriti': 1, 'hi': 1, 'anmika': 1, 'hello': 1, 'world': 1}\n"
     ]
    }
   ],
   "source": [
    "inp= input(\"enter the string \")\n",
    "words= inp.split()\n",
    "print(words)\n",
    "\n",
    "cou={}   \n",
    "for i in words:\n",
    "    cou[i]= cou.get(i,0)+1\n",
    "\n",
    "\n",
    "\n",
    "\n",
    "print(cou)"
   ]
  },
  {
   "cell_type": "code",
   "execution_count": null,
   "metadata": {},
   "outputs": [
    {
     "name": "stdout",
     "output_type": "stream",
     "text": [
      "the index is4\n"
     ]
    }
   ],
   "source": [
    "# list1=[1,4,5,2,7]\n",
    "# O(1)->best case \n",
    "# worst case -> O(n)->linear time complex\n",
    "\n",
    "# n=7\n",
    "# for i in range(len(list1)):\n",
    "#     if(list1[i]==n):\n",
    "#         print(f\"the index is{i}\")\n",
    "        \n",
    "    \n",
    "    "
   ]
  },
  {
   "cell_type": "code",
   "execution_count": 12,
   "metadata": {},
   "outputs": [
    {
     "name": "stdout",
     "output_type": "stream",
     "text": [
      "ok\n",
      "ok\n",
      "ok\n",
      "element found16\n"
     ]
    }
   ],
   "source": [
    "# binary search \n",
    "array = [2, 4, 6, 8, 10, 12, 14, 16]\n",
    "x=16\n",
    "\n",
    "right=len(array)-1\n",
    "left=0\n",
    "\n",
    "\n",
    "while left<= right:\n",
    "    mid= left+(right-left)//2\n",
    "    \n",
    "    \n",
    "    if array[mid]==x:\n",
    "        print(f\"element found{array[mid]}\")\n",
    "        break\n",
    "    \n",
    "    elif array[mid]<x:\n",
    "        left = mid+1\n",
    "        print(\"ok\")\n",
    "        \n",
    "    else:\n",
    "        right = mid-1\n",
    "        print(\"oooo\")\n",
    "else:\n",
    "    print(\"element not found \")\n"
   ]
  },
  {
   "cell_type": "code",
   "execution_count": 18,
   "metadata": {},
   "outputs": [
    {
     "name": "stdout",
     "output_type": "stream",
     "text": [
      "3\n",
      "17\n",
      "15\n"
     ]
    }
   ],
   "source": [
    "def hello(num1,num2):\n",
    "    sum= num1+num2\n",
    "    print(sum)\n",
    "\n",
    "\n",
    "\n",
    "mm = hello(1,2)\n",
    "nn=hello(8,9)\n",
    "n=hello(7,8)\n",
    "mm"
   ]
  }
 ],
 "metadata": {
  "kernelspec": {
   "display_name": "Python 3",
   "language": "python",
   "name": "python3"
  },
  "language_info": {
   "codemirror_mode": {
    "name": "ipython",
    "version": 3
   },
   "file_extension": ".py",
   "mimetype": "text/x-python",
   "name": "python",
   "nbconvert_exporter": "python",
   "pygments_lexer": "ipython3",
   "version": "3.11.2"
  }
 },
 "nbformat": 4,
 "nbformat_minor": 2
}
