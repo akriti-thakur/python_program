{
 "cells": [
  {
   "cell_type": "code",
   "execution_count": 22,
   "metadata": {},
   "outputs": [
    {
     "name": "stdout",
     "output_type": "stream",
     "text": [
      "text has been written\n"
     ]
    }
   ],
   "source": [
    "import requests\n",
    "from bs4 import BeautifulSoup\n",
    "\n",
    "\n",
    "url=\"https://storage.googleapis.com/download.tensorflow.org/data/shakespeare.txt\"\n",
    "\n",
    "response = requests.get(url)\n",
    "\n",
    "if response.status_code==200:\n",
    "    soup = BeautifulSoup(response.content,\"html.parser\")\n",
    "    text= soup.get_text()\n",
    "    with open(\"output.txt\",'w',encoding='utf-8') as f:\n",
    "        f.write(text)\n",
    "        \n",
    "    print(\"text has been written\")\n",
    "    \n",
    "else:\n",
    "    print(\"failed to write the content\",requests.status_codes)\n",
    "    "
   ]
  },
  {
   "cell_type": "code",
   "execution_count": 23,
   "metadata": {},
   "outputs": [
    {
     "name": "stdout",
     "output_type": "stream",
     "text": [
      "the file was read\n"
     ]
    }
   ],
   "source": [
    "import random\n",
    "import numpy as np\n",
    "import tensorflow as tf\n",
    "from tensorflow.keras.models import Sequential\n",
    "from tensorflow.keras.optimizers import RMSprop\n",
    "from tensorflow.keras.layers import Activation, Dense, LSTM\n",
    "\n",
    "\n",
    "filepath = \"./output.txt\"\n",
    "try:\n",
    "    with open(filepath,'r',encoding='utf-8') as f:\n",
    "        \n",
    "        text = f.read().lower()\n",
    "        print(\"the file was read\")\n",
    "        \n",
    "except FileNotFoundError:\n",
    "    print(\"the file was not found\")\n",
    "    \n",
    "except Exception as e :\n",
    "    print(f\"an error has occured: {e}\")"
   ]
  },
  {
   "cell_type": "code",
   "execution_count": 24,
   "metadata": {},
   "outputs": [],
   "source": [
    "te=text[300:8000000]\n",
    "character=sorted(set(te))"
   ]
  },
  {
   "cell_type": "code",
   "execution_count": 26,
   "metadata": {},
   "outputs": [],
   "source": [
    "# character"
   ]
  },
  {
   "cell_type": "code",
   "execution_count": 27,
   "metadata": {},
   "outputs": [],
   "source": [
    "char_to_index= dict((c,i)for i,c in enumerate(character))\n",
    "\n",
    "index_to_char= dict((i,c)for i,c in enumerate(character))"
   ]
  },
  {
   "cell_type": "code",
   "execution_count": null,
   "metadata": {},
   "outputs": [],
   "source": []
  }
 ],
 "metadata": {
  "kernelspec": {
   "display_name": "Python 3",
   "language": "python",
   "name": "python3"
  },
  "language_info": {
   "codemirror_mode": {
    "name": "ipython",
    "version": 3
   },
   "file_extension": ".py",
   "mimetype": "text/x-python",
   "name": "python",
   "nbconvert_exporter": "python",
   "pygments_lexer": "ipython3",
   "version": "3.11.2"
  }
 },
 "nbformat": 4,
 "nbformat_minor": 2
}
