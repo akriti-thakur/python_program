{
 "cells": [
  {
   "cell_type": "code",
   "execution_count": 32,
   "metadata": {},
   "outputs": [],
   "source": [
    "import pandas as pd\n",
    "import numpy as np\n",
    "import tensorflow as tf\n",
    "from tensorflow.keras.models import Sequential\n",
    "from tensorflow.keras.optimizers import RMSprop\n",
    "from tensorflow.keras.layers import Activation, Dense, LSTM"
   ]
  },
  {
   "cell_type": "code",
   "execution_count": 1,
   "metadata": {},
   "outputs": [],
   "source": [
    "# import requests\n",
    "# from bs4 import BeautifulSoup\n",
    "\n",
    "\n",
    "# url=\"https://storage.googleapis.com/download.tensorflow.org/data/shakespeare.txt\"\n",
    "\n",
    "# response = requests.get(url)\n",
    "\n",
    "# if response.status_code==200:\n",
    "#     soup = BeautifulSoup(response.content,\"html.parser\")\n",
    "#     text= soup.get_text()\n",
    "#     with open(\"output.txt\",'w',encoding='utf-8') as f:\n",
    "#         f.write(text)\n",
    "        \n",
    "#     print(\"text has been written\")\n",
    "    \n",
    "# else:\n",
    "#     print(\"failed to write the content\",requests.status_codes)\n",
    "    "
   ]
  },
  {
   "cell_type": "code",
   "execution_count": 2,
   "metadata": {},
   "outputs": [
    {
     "name": "stdout",
     "output_type": "stream",
     "text": [
      "the file was read\n"
     ]
    }
   ],
   "source": [
    "import random\n",
    "import numpy as np\n",
    "import tensorflow as tf\n",
    "from tensorflow.keras.models import Sequential\n",
    "from tensorflow.keras.optimizers import RMSprop\n",
    "from tensorflow.keras.layers import Activation, Dense, LSTM\n",
    "\n",
    "\n",
    "filepath = \"./output.txt\"\n",
    "try:\n",
    "    with open(filepath,'r',encoding='utf-8') as f:\n",
    "        \n",
    "        text = f.read().lower()\n",
    "        print(\"the file was read\")\n",
    "        \n",
    "except FileNotFoundError:\n",
    "    print(\"the file was not found\")\n",
    "    \n",
    "except Exception as e :\n",
    "    print(f\"an error has occured: {e}\")"
   ]
  },
  {
   "cell_type": "code",
   "execution_count": 3,
   "metadata": {},
   "outputs": [],
   "source": [
    "te=text[300:8000000]\n",
    "character=sorted(set(te))"
   ]
  },
  {
   "cell_type": "code",
   "execution_count": 4,
   "metadata": {},
   "outputs": [],
   "source": [
    "# character"
   ]
  },
  {
   "cell_type": "code",
   "execution_count": 5,
   "metadata": {},
   "outputs": [],
   "source": [
    "char_to_index= dict((c,i)for i,c in enumerate(character))\n",
    "\n",
    "index_to_char= dict((i,c)for i,c in enumerate(character))"
   ]
  },
  {
   "cell_type": "code",
   "execution_count": 6,
   "metadata": {},
   "outputs": [],
   "source": [
    "seq_lenght=40\n",
    "step_size=3\n",
    "sentence=[]\n",
    "next_character=[]"
   ]
  },
  {
   "cell_type": "code",
   "execution_count": 7,
   "metadata": {},
   "outputs": [],
   "source": [
    "for i in range(0,len(te)-seq_lenght,step_size):\n",
    "    sentence.append(te[i:i+seq_lenght])b\n",
    "    \n",
    "    next_character.append(te[i+seq_lenght])"
   ]
  },
  {
   "cell_type": "code",
   "execution_count": 10,
   "metadata": {},
   "outputs": [
    {
     "name": "stdout",
     "output_type": "stream",
     "text": [
      "Sequence: ' kill him, and we'll have corn at our ow' -> Next Character: 'n'\n",
      "Sequence: 'll him, and we'll have corn at our own p' -> Next Character: 'r'\n",
      "Sequence: 'him, and we'll have corn at our own pric' -> Next Character: 'e'\n",
      "Sequence: ', and we'll have corn at our own price.\n",
      "' -> Next Character: 'i'\n",
      "Sequence: 'nd we'll have corn at our own price.\n",
      "is'' -> Next Character: 't'\n",
      "Sequence: 'we'll have corn at our own price.\n",
      "is't a' -> Next Character: ' '\n",
      "Sequence: 'll have corn at our own price.\n",
      "is't a ve' -> Next Character: 'r'\n",
      "Sequence: 'have corn at our own price.\n",
      "is't a verdi' -> Next Character: 'c'\n",
      "Sequence: 'e corn at our own price.\n",
      "is't a verdict?' -> Next Character: '\n",
      "'\n",
      "Sequence: 'orn at our own price.\n",
      "is't a verdict?\n",
      "\n",
      "a' -> Next Character: 'l'\n"
     ]
    }
   ],
   "source": [
    "for s, n in zip(sentence[:10], next_character[:10]):\n",
    "    print(f\"Sequence: '{s}' -> Next Character: '{n}'\")"
   ]
  },
  {
   "cell_type": "code",
   "execution_count": 19,
   "metadata": {},
   "outputs": [],
   "source": [
    "df_sentence= pd.DataFrame([list(s) for s in sentence])\n",
    "df_next_char= pd.DataFrame(next_character,columns=['next_character'])"
   ]
  },
  {
   "cell_type": "code",
   "execution_count": 40,
   "metadata": {},
   "outputs": [],
   "source": [
    "num_chars = len(character)"
   ]
  },
  {
   "cell_type": "code",
   "execution_count": 17,
   "metadata": {},
   "outputs": [
    {
     "data": {
      "text/html": [
       "<div>\n",
       "<style scoped>\n",
       "    .dataframe tbody tr th:only-of-type {\n",
       "        vertical-align: middle;\n",
       "    }\n",
       "\n",
       "    .dataframe tbody tr th {\n",
       "        vertical-align: top;\n",
       "    }\n",
       "\n",
       "    .dataframe thead th {\n",
       "        text-align: right;\n",
       "    }\n",
       "</style>\n",
       "<table border=\"1\" class=\"dataframe\">\n",
       "  <thead>\n",
       "    <tr style=\"text-align: right;\">\n",
       "      <th></th>\n",
       "      <th>0</th>\n",
       "      <th>1</th>\n",
       "      <th>2</th>\n",
       "      <th>3</th>\n",
       "      <th>4</th>\n",
       "      <th>5</th>\n",
       "      <th>6</th>\n",
       "      <th>7</th>\n",
       "      <th>8</th>\n",
       "      <th>9</th>\n",
       "      <th>...</th>\n",
       "      <th>30</th>\n",
       "      <th>31</th>\n",
       "      <th>32</th>\n",
       "      <th>33</th>\n",
       "      <th>34</th>\n",
       "      <th>35</th>\n",
       "      <th>36</th>\n",
       "      <th>37</th>\n",
       "      <th>38</th>\n",
       "      <th>39</th>\n",
       "    </tr>\n",
       "  </thead>\n",
       "  <tbody>\n",
       "    <tr>\n",
       "      <th>0</th>\n",
       "      <td></td>\n",
       "      <td>k</td>\n",
       "      <td>i</td>\n",
       "      <td>l</td>\n",
       "      <td>l</td>\n",
       "      <td></td>\n",
       "      <td>h</td>\n",
       "      <td>i</td>\n",
       "      <td>m</td>\n",
       "      <td>,</td>\n",
       "      <td>...</td>\n",
       "      <td></td>\n",
       "      <td>a</td>\n",
       "      <td>t</td>\n",
       "      <td></td>\n",
       "      <td>o</td>\n",
       "      <td>u</td>\n",
       "      <td>r</td>\n",
       "      <td></td>\n",
       "      <td>o</td>\n",
       "      <td>w</td>\n",
       "    </tr>\n",
       "    <tr>\n",
       "      <th>1</th>\n",
       "      <td>l</td>\n",
       "      <td>l</td>\n",
       "      <td></td>\n",
       "      <td>h</td>\n",
       "      <td>i</td>\n",
       "      <td>m</td>\n",
       "      <td>,</td>\n",
       "      <td></td>\n",
       "      <td>a</td>\n",
       "      <td>n</td>\n",
       "      <td>...</td>\n",
       "      <td></td>\n",
       "      <td>o</td>\n",
       "      <td>u</td>\n",
       "      <td>r</td>\n",
       "      <td></td>\n",
       "      <td>o</td>\n",
       "      <td>w</td>\n",
       "      <td>n</td>\n",
       "      <td></td>\n",
       "      <td>p</td>\n",
       "    </tr>\n",
       "    <tr>\n",
       "      <th>2</th>\n",
       "      <td>h</td>\n",
       "      <td>i</td>\n",
       "      <td>m</td>\n",
       "      <td>,</td>\n",
       "      <td></td>\n",
       "      <td>a</td>\n",
       "      <td>n</td>\n",
       "      <td>d</td>\n",
       "      <td></td>\n",
       "      <td>w</td>\n",
       "      <td>...</td>\n",
       "      <td>r</td>\n",
       "      <td></td>\n",
       "      <td>o</td>\n",
       "      <td>w</td>\n",
       "      <td>n</td>\n",
       "      <td></td>\n",
       "      <td>p</td>\n",
       "      <td>r</td>\n",
       "      <td>i</td>\n",
       "      <td>c</td>\n",
       "    </tr>\n",
       "    <tr>\n",
       "      <th>3</th>\n",
       "      <td>,</td>\n",
       "      <td></td>\n",
       "      <td>a</td>\n",
       "      <td>n</td>\n",
       "      <td>d</td>\n",
       "      <td></td>\n",
       "      <td>w</td>\n",
       "      <td>e</td>\n",
       "      <td>'</td>\n",
       "      <td>l</td>\n",
       "      <td>...</td>\n",
       "      <td>w</td>\n",
       "      <td>n</td>\n",
       "      <td></td>\n",
       "      <td>p</td>\n",
       "      <td>r</td>\n",
       "      <td>i</td>\n",
       "      <td>c</td>\n",
       "      <td>e</td>\n",
       "      <td>.</td>\n",
       "      <td>\\n</td>\n",
       "    </tr>\n",
       "    <tr>\n",
       "      <th>4</th>\n",
       "      <td>n</td>\n",
       "      <td>d</td>\n",
       "      <td></td>\n",
       "      <td>w</td>\n",
       "      <td>e</td>\n",
       "      <td>'</td>\n",
       "      <td>l</td>\n",
       "      <td>l</td>\n",
       "      <td></td>\n",
       "      <td>h</td>\n",
       "      <td>...</td>\n",
       "      <td>p</td>\n",
       "      <td>r</td>\n",
       "      <td>i</td>\n",
       "      <td>c</td>\n",
       "      <td>e</td>\n",
       "      <td>.</td>\n",
       "      <td>\\n</td>\n",
       "      <td>i</td>\n",
       "      <td>s</td>\n",
       "      <td>'</td>\n",
       "    </tr>\n",
       "    <tr>\n",
       "      <th>...</th>\n",
       "      <td>...</td>\n",
       "      <td>...</td>\n",
       "      <td>...</td>\n",
       "      <td>...</td>\n",
       "      <td>...</td>\n",
       "      <td>...</td>\n",
       "      <td>...</td>\n",
       "      <td>...</td>\n",
       "      <td>...</td>\n",
       "      <td>...</td>\n",
       "      <td>...</td>\n",
       "      <td>...</td>\n",
       "      <td>...</td>\n",
       "      <td>...</td>\n",
       "      <td>...</td>\n",
       "      <td>...</td>\n",
       "      <td>...</td>\n",
       "      <td>...</td>\n",
       "      <td>...</td>\n",
       "      <td>...</td>\n",
       "      <td>...</td>\n",
       "    </tr>\n",
       "    <tr>\n",
       "      <th>371680</th>\n",
       "      <td>e</td>\n",
       "      <td></td>\n",
       "      <td>s</td>\n",
       "      <td>l</td>\n",
       "      <td>e</td>\n",
       "      <td>e</td>\n",
       "      <td>p</td>\n",
       "      <td>-</td>\n",
       "      <td>-</td>\n",
       "      <td>d</td>\n",
       "      <td>...</td>\n",
       "      <td>w</td>\n",
       "      <td>h</td>\n",
       "      <td>i</td>\n",
       "      <td>l</td>\n",
       "      <td>e</td>\n",
       "      <td>s</td>\n",
       "      <td></td>\n",
       "      <td>t</td>\n",
       "      <td>h</td>\n",
       "      <td>o</td>\n",
       "    </tr>\n",
       "    <tr>\n",
       "      <th>371681</th>\n",
       "      <td>l</td>\n",
       "      <td>e</td>\n",
       "      <td>e</td>\n",
       "      <td>p</td>\n",
       "      <td>-</td>\n",
       "      <td>-</td>\n",
       "      <td>d</td>\n",
       "      <td>i</td>\n",
       "      <td>e</td>\n",
       "      <td>,</td>\n",
       "      <td>...</td>\n",
       "      <td>l</td>\n",
       "      <td>e</td>\n",
       "      <td>s</td>\n",
       "      <td></td>\n",
       "      <td>t</td>\n",
       "      <td>h</td>\n",
       "      <td>o</td>\n",
       "      <td>u</td>\n",
       "      <td></td>\n",
       "      <td>a</td>\n",
       "    </tr>\n",
       "    <tr>\n",
       "      <th>371682</th>\n",
       "      <td>p</td>\n",
       "      <td>-</td>\n",
       "      <td>-</td>\n",
       "      <td>d</td>\n",
       "      <td>i</td>\n",
       "      <td>e</td>\n",
       "      <td>,</td>\n",
       "      <td></td>\n",
       "      <td>r</td>\n",
       "      <td>a</td>\n",
       "      <td>...</td>\n",
       "      <td></td>\n",
       "      <td>t</td>\n",
       "      <td>h</td>\n",
       "      <td>o</td>\n",
       "      <td>u</td>\n",
       "      <td></td>\n",
       "      <td>a</td>\n",
       "      <td>r</td>\n",
       "      <td>t</td>\n",
       "      <td></td>\n",
       "    </tr>\n",
       "    <tr>\n",
       "      <th>371683</th>\n",
       "      <td>d</td>\n",
       "      <td>i</td>\n",
       "      <td>e</td>\n",
       "      <td>,</td>\n",
       "      <td></td>\n",
       "      <td>r</td>\n",
       "      <td>a</td>\n",
       "      <td>t</td>\n",
       "      <td>h</td>\n",
       "      <td>e</td>\n",
       "      <td>...</td>\n",
       "      <td>o</td>\n",
       "      <td>u</td>\n",
       "      <td></td>\n",
       "      <td>a</td>\n",
       "      <td>r</td>\n",
       "      <td>t</td>\n",
       "      <td></td>\n",
       "      <td>w</td>\n",
       "      <td>a</td>\n",
       "      <td>k</td>\n",
       "    </tr>\n",
       "    <tr>\n",
       "      <th>371684</th>\n",
       "      <td>,</td>\n",
       "      <td></td>\n",
       "      <td>r</td>\n",
       "      <td>a</td>\n",
       "      <td>t</td>\n",
       "      <td>h</td>\n",
       "      <td>e</td>\n",
       "      <td>r</td>\n",
       "      <td>;</td>\n",
       "      <td></td>\n",
       "      <td>...</td>\n",
       "      <td>a</td>\n",
       "      <td>r</td>\n",
       "      <td>t</td>\n",
       "      <td></td>\n",
       "      <td>w</td>\n",
       "      <td>a</td>\n",
       "      <td>k</td>\n",
       "      <td>i</td>\n",
       "      <td>n</td>\n",
       "      <td>g</td>\n",
       "    </tr>\n",
       "  </tbody>\n",
       "</table>\n",
       "<p>371685 rows × 40 columns</p>\n",
       "</div>"
      ],
      "text/plain": [
       "       0  1  2  3  4  5  6  7  8  9   ... 30 31 32 33 34 35  36 37 38  39\n",
       "0          k  i  l  l     h  i  m  ,  ...     a  t     o  u   r     o   w\n",
       "1       l  l     h  i  m  ,     a  n  ...     o  u  r     o   w  n      p\n",
       "2       h  i  m  ,     a  n  d     w  ...  r     o  w  n      p  r  i   c\n",
       "3       ,     a  n  d     w  e  '  l  ...  w  n     p  r  i   c  e  .  \\n\n",
       "4       n  d     w  e  '  l  l     h  ...  p  r  i  c  e  .  \\n  i  s   '\n",
       "...    .. .. .. .. .. .. .. .. .. ..  ... .. .. .. .. .. ..  .. .. ..  ..\n",
       "371680  e     s  l  e  e  p  -  -  d  ...  w  h  i  l  e  s      t  h   o\n",
       "371681  l  e  e  p  -  -  d  i  e  ,  ...  l  e  s     t  h   o  u      a\n",
       "371682  p  -  -  d  i  e  ,     r  a  ...     t  h  o  u      a  r  t    \n",
       "371683  d  i  e  ,     r  a  t  h  e  ...  o  u     a  r  t      w  a   k\n",
       "371684  ,     r  a  t  h  e  r  ;     ...  a  r  t     w  a   k  i  n   g\n",
       "\n",
       "[371685 rows x 40 columns]"
      ]
     },
     "execution_count": 17,
     "metadata": {},
     "output_type": "execute_result"
    }
   ],
   "source": [
    "df_sentence"
   ]
  },
  {
   "cell_type": "code",
   "execution_count": 30,
   "metadata": {},
   "outputs": [],
   "source": [
    "x_encoded = pd.get_dummies(df_sentence.apply(pd.Series).stack()).groupby(level=0).sum().reset_index(drop=True)\n",
    "y_encoded = pd.get_dummies(df_next_char['next_character'])\n"
   ]
  },
  {
   "cell_type": "code",
   "execution_count": 31,
   "metadata": {},
   "outputs": [],
   "source": [
    "x = x_encoded.values.astype(np.bool_)\n",
    "y = y_encoded.values.astype(np.bool_)"
   ]
  },
  {
   "cell_type": "code",
   "execution_count": 41,
   "metadata": {},
   "outputs": [
    {
     "data": {
      "text/html": [
       "<pre style=\"white-space:pre;overflow-x:auto;line-height:normal;font-family:Menlo,'DejaVu Sans Mono',consolas,'Courier New',monospace\"><span style=\"font-weight: bold\">Model: \"sequential_6\"</span>\n",
       "</pre>\n"
      ],
      "text/plain": [
       "\u001b[1mModel: \"sequential_6\"\u001b[0m\n"
      ]
     },
     "metadata": {},
     "output_type": "display_data"
    },
    {
     "data": {
      "text/html": [
       "<pre style=\"white-space:pre;overflow-x:auto;line-height:normal;font-family:Menlo,'DejaVu Sans Mono',consolas,'Courier New',monospace\">┏━━━━━━━━━━━━━━━━━━━━━━━━━━━━━━━━━┳━━━━━━━━━━━━━━━━━━━━━━━━┳━━━━━━━━━━━━━━━┓\n",
       "┃<span style=\"font-weight: bold\"> Layer (type)                    </span>┃<span style=\"font-weight: bold\"> Output Shape           </span>┃<span style=\"font-weight: bold\">       Param # </span>┃\n",
       "┡━━━━━━━━━━━━━━━━━━━━━━━━━━━━━━━━━╇━━━━━━━━━━━━━━━━━━━━━━━━╇━━━━━━━━━━━━━━━┩\n",
       "│ lstm_4 (<span style=\"color: #0087ff; text-decoration-color: #0087ff\">LSTM</span>)                   │ (<span style=\"color: #00d7ff; text-decoration-color: #00d7ff\">None</span>, <span style=\"color: #00af00; text-decoration-color: #00af00\">128</span>)            │        <span style=\"color: #00af00; text-decoration-color: #00af00\">86,016</span> │\n",
       "├─────────────────────────────────┼────────────────────────┼───────────────┤\n",
       "│ dense_2 (<span style=\"color: #0087ff; text-decoration-color: #0087ff\">Dense</span>)                 │ (<span style=\"color: #00d7ff; text-decoration-color: #00d7ff\">None</span>, <span style=\"color: #00af00; text-decoration-color: #00af00\">39</span>)             │         <span style=\"color: #00af00; text-decoration-color: #00af00\">5,031</span> │\n",
       "├─────────────────────────────────┼────────────────────────┼───────────────┤\n",
       "│ activation_2 (<span style=\"color: #0087ff; text-decoration-color: #0087ff\">Activation</span>)       │ (<span style=\"color: #00d7ff; text-decoration-color: #00d7ff\">None</span>, <span style=\"color: #00af00; text-decoration-color: #00af00\">39</span>)             │             <span style=\"color: #00af00; text-decoration-color: #00af00\">0</span> │\n",
       "└─────────────────────────────────┴────────────────────────┴───────────────┘\n",
       "</pre>\n"
      ],
      "text/plain": [
       "┏━━━━━━━━━━━━━━━━━━━━━━━━━━━━━━━━━┳━━━━━━━━━━━━━━━━━━━━━━━━┳━━━━━━━━━━━━━━━┓\n",
       "┃\u001b[1m \u001b[0m\u001b[1mLayer (type)                   \u001b[0m\u001b[1m \u001b[0m┃\u001b[1m \u001b[0m\u001b[1mOutput Shape          \u001b[0m\u001b[1m \u001b[0m┃\u001b[1m \u001b[0m\u001b[1m      Param #\u001b[0m\u001b[1m \u001b[0m┃\n",
       "┡━━━━━━━━━━━━━━━━━━━━━━━━━━━━━━━━━╇━━━━━━━━━━━━━━━━━━━━━━━━╇━━━━━━━━━━━━━━━┩\n",
       "│ lstm_4 (\u001b[38;5;33mLSTM\u001b[0m)                   │ (\u001b[38;5;45mNone\u001b[0m, \u001b[38;5;34m128\u001b[0m)            │        \u001b[38;5;34m86,016\u001b[0m │\n",
       "├─────────────────────────────────┼────────────────────────┼───────────────┤\n",
       "│ dense_2 (\u001b[38;5;33mDense\u001b[0m)                 │ (\u001b[38;5;45mNone\u001b[0m, \u001b[38;5;34m39\u001b[0m)             │         \u001b[38;5;34m5,031\u001b[0m │\n",
       "├─────────────────────────────────┼────────────────────────┼───────────────┤\n",
       "│ activation_2 (\u001b[38;5;33mActivation\u001b[0m)       │ (\u001b[38;5;45mNone\u001b[0m, \u001b[38;5;34m39\u001b[0m)             │             \u001b[38;5;34m0\u001b[0m │\n",
       "└─────────────────────────────────┴────────────────────────┴───────────────┘\n"
      ]
     },
     "metadata": {},
     "output_type": "display_data"
    },
    {
     "data": {
      "text/html": [
       "<pre style=\"white-space:pre;overflow-x:auto;line-height:normal;font-family:Menlo,'DejaVu Sans Mono',consolas,'Courier New',monospace\"><span style=\"font-weight: bold\"> Total params: </span><span style=\"color: #00af00; text-decoration-color: #00af00\">91,047</span> (355.65 KB)\n",
       "</pre>\n"
      ],
      "text/plain": [
       "\u001b[1m Total params: \u001b[0m\u001b[38;5;34m91,047\u001b[0m (355.65 KB)\n"
      ]
     },
     "metadata": {},
     "output_type": "display_data"
    },
    {
     "data": {
      "text/html": [
       "<pre style=\"white-space:pre;overflow-x:auto;line-height:normal;font-family:Menlo,'DejaVu Sans Mono',consolas,'Courier New',monospace\"><span style=\"font-weight: bold\"> Trainable params: </span><span style=\"color: #00af00; text-decoration-color: #00af00\">91,047</span> (355.65 KB)\n",
       "</pre>\n"
      ],
      "text/plain": [
       "\u001b[1m Trainable params: \u001b[0m\u001b[38;5;34m91,047\u001b[0m (355.65 KB)\n"
      ]
     },
     "metadata": {},
     "output_type": "display_data"
    },
    {
     "data": {
      "text/html": [
       "<pre style=\"white-space:pre;overflow-x:auto;line-height:normal;font-family:Menlo,'DejaVu Sans Mono',consolas,'Courier New',monospace\"><span style=\"font-weight: bold\"> Non-trainable params: </span><span style=\"color: #00af00; text-decoration-color: #00af00\">0</span> (0.00 B)\n",
       "</pre>\n"
      ],
      "text/plain": [
       "\u001b[1m Non-trainable params: \u001b[0m\u001b[38;5;34m0\u001b[0m (0.00 B)\n"
      ]
     },
     "metadata": {},
     "output_type": "display_data"
    }
   ],
   "source": [
    "model=Sequential()\n",
    "model.add(LSTM(128,input_shape=(seq_lenght,num_chars)))\n",
    "model.add(Dense(num_chars))\n",
    "model.add(Activation('softmax'))\n",
    "\n",
    "model.summary()"
   ]
  },
  {
   "cell_type": "code",
   "execution_count": 44,
   "metadata": {},
   "outputs": [
    {
     "name": "stdout",
     "output_type": "stream",
     "text": [
      "Epoch 1/4\n"
     ]
    },
    {
     "ename": "ValueError",
     "evalue": "Exception encountered when calling Sequential.call().\n\n\u001b[1mInvalid input shape for input Tensor(\"sequential_6_1/Cast:0\", shape=(None, 39), dtype=float32). Expected shape (None, 40, 39), but input has incompatible shape (None, 39)\u001b[0m\n\nArguments received by Sequential.call():\n  • inputs=tf.Tensor(shape=(None, 39), dtype=bool)\n  • training=True\n  • mask=None",
     "output_type": "error",
     "traceback": [
      "\u001b[1;31m---------------------------------------------------------------------------\u001b[0m",
      "\u001b[1;31mValueError\u001b[0m                                Traceback (most recent call last)",
      "Cell \u001b[1;32mIn[44], line 4\u001b[0m\n\u001b[0;32m      1\u001b[0m model\u001b[38;5;241m.\u001b[39mcompile(loss\u001b[38;5;241m=\u001b[39m\u001b[38;5;124m'\u001b[39m\u001b[38;5;124mcategorical_crossentropy\u001b[39m\u001b[38;5;124m'\u001b[39m,\n\u001b[0;32m      2\u001b[0m               optimizer\u001b[38;5;241m=\u001b[39mRMSprop(learning_rate\u001b[38;5;241m=\u001b[39m\u001b[38;5;241m0.01\u001b[39m))\n\u001b[1;32m----> 4\u001b[0m \u001b[43mmodel\u001b[49m\u001b[38;5;241;43m.\u001b[39;49m\u001b[43mfit\u001b[49m\u001b[43m(\u001b[49m\u001b[43mx\u001b[49m\u001b[43m,\u001b[49m\u001b[43m \u001b[49m\u001b[43my\u001b[49m\u001b[43m,\u001b[49m\u001b[43m \u001b[49m\u001b[43mbatch_size\u001b[49m\u001b[38;5;241;43m=\u001b[39;49m\u001b[38;5;241;43m256\u001b[39;49m\u001b[43m,\u001b[49m\u001b[43m \u001b[49m\u001b[43mepochs\u001b[49m\u001b[38;5;241;43m=\u001b[39;49m\u001b[38;5;241;43m4\u001b[39;49m\u001b[43m)\u001b[49m\n",
      "File \u001b[1;32mc:\\Python311\\Lib\\site-packages\\keras\\src\\utils\\traceback_utils.py:122\u001b[0m, in \u001b[0;36mfilter_traceback.<locals>.error_handler\u001b[1;34m(*args, **kwargs)\u001b[0m\n\u001b[0;32m    119\u001b[0m     filtered_tb \u001b[38;5;241m=\u001b[39m _process_traceback_frames(e\u001b[38;5;241m.\u001b[39m__traceback__)\n\u001b[0;32m    120\u001b[0m     \u001b[38;5;66;03m# To get the full stack trace, call:\u001b[39;00m\n\u001b[0;32m    121\u001b[0m     \u001b[38;5;66;03m# `keras.config.disable_traceback_filtering()`\u001b[39;00m\n\u001b[1;32m--> 122\u001b[0m     \u001b[38;5;28;01mraise\u001b[39;00m e\u001b[38;5;241m.\u001b[39mwith_traceback(filtered_tb) \u001b[38;5;28;01mfrom\u001b[39;00m \u001b[38;5;28;01mNone\u001b[39;00m\n\u001b[0;32m    123\u001b[0m \u001b[38;5;28;01mfinally\u001b[39;00m:\n\u001b[0;32m    124\u001b[0m     \u001b[38;5;28;01mdel\u001b[39;00m filtered_tb\n",
      "File \u001b[1;32mc:\\Python311\\Lib\\site-packages\\keras\\src\\models\\functional.py:264\u001b[0m, in \u001b[0;36mFunctional._adjust_input_rank\u001b[1;34m(self, flat_inputs)\u001b[0m\n\u001b[0;32m    262\u001b[0m             adjusted\u001b[38;5;241m.\u001b[39mappend(ops\u001b[38;5;241m.\u001b[39mexpand_dims(x, axis\u001b[38;5;241m=\u001b[39m\u001b[38;5;241m-\u001b[39m\u001b[38;5;241m1\u001b[39m))\n\u001b[0;32m    263\u001b[0m             \u001b[38;5;28;01mcontinue\u001b[39;00m\n\u001b[1;32m--> 264\u001b[0m     \u001b[38;5;28;01mraise\u001b[39;00m \u001b[38;5;167;01mValueError\u001b[39;00m(\n\u001b[0;32m    265\u001b[0m         \u001b[38;5;124mf\u001b[39m\u001b[38;5;124m\"\u001b[39m\u001b[38;5;124mInvalid input shape for input \u001b[39m\u001b[38;5;132;01m{\u001b[39;00mx\u001b[38;5;132;01m}\u001b[39;00m\u001b[38;5;124m. Expected shape \u001b[39m\u001b[38;5;124m\"\u001b[39m\n\u001b[0;32m    266\u001b[0m         \u001b[38;5;124mf\u001b[39m\u001b[38;5;124m\"\u001b[39m\u001b[38;5;132;01m{\u001b[39;00mref_shape\u001b[38;5;132;01m}\u001b[39;00m\u001b[38;5;124m, but input has incompatible shape \u001b[39m\u001b[38;5;132;01m{\u001b[39;00mx\u001b[38;5;241m.\u001b[39mshape\u001b[38;5;132;01m}\u001b[39;00m\u001b[38;5;124m\"\u001b[39m\n\u001b[0;32m    267\u001b[0m     )\n\u001b[0;32m    268\u001b[0m \u001b[38;5;66;03m# Add back metadata.\u001b[39;00m\n\u001b[0;32m    269\u001b[0m \u001b[38;5;28;01mfor\u001b[39;00m i \u001b[38;5;129;01min\u001b[39;00m \u001b[38;5;28mrange\u001b[39m(\u001b[38;5;28mlen\u001b[39m(flat_inputs)):\n",
      "\u001b[1;31mValueError\u001b[0m: Exception encountered when calling Sequential.call().\n\n\u001b[1mInvalid input shape for input Tensor(\"sequential_6_1/Cast:0\", shape=(None, 39), dtype=float32). Expected shape (None, 40, 39), but input has incompatible shape (None, 39)\u001b[0m\n\nArguments received by Sequential.call():\n  • inputs=tf.Tensor(shape=(None, 39), dtype=bool)\n  • training=True\n  • mask=None"
     ]
    }
   ],
   "source": [
    "model.compile(loss='categorical_crossentropy',\n",
    "              optimizer=RMSprop(learning_rate=0.01))\n",
    "\n",
    "model.fit(x, y, batch_size=256, epochs=4)"
   ]
  }
 ],
 "metadata": {
  "kernelspec": {
   "display_name": "Python 3",
   "language": "python",
   "name": "python3"
  },
  "language_info": {
   "codemirror_mode": {
    "name": "ipython",
    "version": 3
   },
   "file_extension": ".py",
   "mimetype": "text/x-python",
   "name": "python",
   "nbconvert_exporter": "python",
   "pygments_lexer": "ipython3",
   "version": "3.11.2"
  }
 },
 "nbformat": 4,
 "nbformat_minor": 2
}
