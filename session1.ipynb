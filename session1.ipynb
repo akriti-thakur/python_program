{
 "cells": [
  {
   "cell_type": "code",
   "execution_count": 12,
   "metadata": {},
   "outputs": [
    {
     "name": "stdout",
     "output_type": "stream",
     "text": [
      "(1, 2, 3)\n"
     ]
    }
   ],
   "source": [
    "tup1=(1,2,3)\n",
    "print(tup1)"
   ]
  },
  {
   "cell_type": "code",
   "execution_count": 14,
   "metadata": {},
   "outputs": [
    {
     "name": "stdout",
     "output_type": "stream",
     "text": [
      "2\n"
     ]
    },
    {
     "ename": "TypeError",
     "evalue": "'tuple' object does not support item assignment",
     "output_type": "error",
     "traceback": [
      "\u001b[1;31m---------------------------------------------------------------------------\u001b[0m",
      "\u001b[1;31mTypeError\u001b[0m                                 Traceback (most recent call last)",
      "Cell \u001b[1;32mIn[14], line 2\u001b[0m\n\u001b[0;32m      1\u001b[0m \u001b[38;5;28mprint\u001b[39m(tup1[\u001b[38;5;241m1\u001b[39m])\n\u001b[1;32m----> 2\u001b[0m \u001b[43mtup1\u001b[49m\u001b[43m[\u001b[49m\u001b[38;5;241;43m0\u001b[39;49m\u001b[43m]\u001b[49m\u001b[38;5;241m=\u001b[39m\u001b[38;5;241m10\u001b[39m\n",
      "\u001b[1;31mTypeError\u001b[0m: 'tuple' object does not support item assignment"
     ]
    }
   ],
   "source": [
    "print(tup1[1])\n",
    "tup1[0]=10"
   ]
  },
  {
   "cell_type": "code",
   "execution_count": 17,
   "metadata": {},
   "outputs": [
    {
     "name": "stdout",
     "output_type": "stream",
     "text": [
      "1\n",
      "3\n",
      "3\n"
     ]
    }
   ],
   "source": [
    "print(min(tup1))\n",
    "print(max(tup1))\n",
    "print(len(tup1))\n",
    "\n"
   ]
  },
  {
   "cell_type": "code",
   "execution_count": 18,
   "metadata": {},
   "outputs": [],
   "source": [
    "dct={\"name\":\"john\",\n",
    "     \"age\":25,\n",
    "     \"height\":6.1}"
   ]
  },
  {
   "cell_type": "code",
   "execution_count": 19,
   "metadata": {},
   "outputs": [
    {
     "name": "stdout",
     "output_type": "stream",
     "text": [
      "john\n"
     ]
    }
   ],
   "source": [
    "print(dct[\"name\"])"
   ]
  },
  {
   "cell_type": "code",
   "execution_count": 80,
   "metadata": {},
   "outputs": [
    {
     "name": "stdout",
     "output_type": "stream",
     "text": [
      "maths\n",
      "physics\n",
      "chemistry\n"
     ]
    }
   ],
   "source": [
    "students={ \"name\":\"allice\",\n",
    "          \"age\":21,\n",
    "          \"courses\":[\"maths\",\"physics\",\"chemistry\"]}\n",
    "\n",
    "\n",
    "\n",
    "\n",
    "\n",
    "for i in  students['courses']:\n",
    "    print(i)"
   ]
  },
  {
   "cell_type": "code",
   "execution_count": 3,
   "metadata": {},
   "outputs": [
    {
     "name": "stdout",
     "output_type": "stream",
     "text": [
      "maruti:2021\n",
      "maruti\n"
     ]
    }
   ],
   "source": [
    "class car:\n",
    "    def __init__(self,model,year):\n",
    "        self.model=model\n",
    "        self.year=year\n",
    "        \n",
    "    def  display(self):\n",
    "        print(f'{self.model}:{self.year}')\n",
    "        \n",
    "    def onemore(self):\n",
    "        print(f'{self.model}')\n",
    "        \n",
    "\n",
    "my_car=car(\"maruti\",2021)\n",
    "my_car.display()\n",
    "my_car.onemore()"
   ]
  },
  {
   "cell_type": "code",
   "execution_count": 9,
   "metadata": {},
   "outputs": [
    {
     "name": "stdout",
     "output_type": "stream",
     "text": [
      "file mm.txt has opened\n"
     ]
    }
   ],
   "source": [
    "class  filehandler:\n",
    "    def __init__(self,filename):\n",
    "        self.filename=filename\n",
    "        self.file= open(filename,'w')\n",
    "        print(f'file {self.filename} has opened')\n",
    "        \n",
    "        \n",
    "    def write(self, data):\n",
    "        self.file.write(data)\n",
    "        \n",
    "    def __del__(self):\n",
    "        self.file.close()\n",
    "        \n",
    "        \n",
    "handle= filehandler(\"mm.txt\")\n",
    "handle.write(\"hello anuj\")\n",
    "\n",
    "\n",
    "del handle"
   ]
  },
  {
   "cell_type": "code",
   "execution_count": 20,
   "metadata": {},
   "outputs": [
    {
     "name": "stdout",
     "output_type": "stream",
     "text": [
      "anuj\n",
      "100\n",
      "100 has been deposited\n",
      "200\n",
      "200 has been deposited\n",
      "400\n",
      "600\n"
     ]
    }
   ],
   "source": [
    "class bankaccount:\n",
    "    def __init__(self,owner,balance):\n",
    "        self.owner=owner\n",
    "        self.__balance=balance\n",
    "        \n",
    "        \n",
    "    def deposoit(self,amount):\n",
    "        if amount>0:\n",
    "            self.__balance+= amount\n",
    "            print(f'{amount} has been deposited')\n",
    "            \n",
    "        else:\n",
    "            self.__balance = amount\n",
    "    \n",
    "    def get_balance(self):\n",
    "        return self.__balance\n",
    "    \n",
    "    \n",
    "account= bankaccount(\"anuj\",100)\n",
    "print(account.owner)\n",
    "# print(account.__balance)\n",
    "print(account.get_balance())\n",
    "account.deposoit(100)\n",
    "print(account.get_balance())\n",
    "account.deposoit(200)\n",
    "print(account.get_balance())\n",
    "\n",
    "\n",
    "\n"
   ]
  },
  {
   "cell_type": "code",
   "execution_count": 21,
   "metadata": {},
   "outputs": [
    {
     "name": "stdout",
     "output_type": "stream",
     "text": [
      "some sound\n",
      "bark\n"
     ]
    }
   ],
   "source": [
    "\n",
    "class animal:\n",
    "    def __init__(self,name):\n",
    "        self.name=name\n",
    "    \n",
    "    \n",
    "    def make_sound(self):\n",
    "        print(\"some sound\")\n",
    "        \n",
    "\n",
    "class dog(animal):\n",
    "    def __init__(self,name):\n",
    "        super(dog,self).__init__(name)\n",
    "        \n",
    "    def make_sound(self):\n",
    "        print(\"bark\")\n",
    "    \n",
    "ani=animal(\"dog\")\n",
    "d=dog(\"hh\")\n",
    "\n",
    "ani.make_sound()\n",
    "d.make_sound()"
   ]
  },
  {
   "cell_type": "code",
   "execution_count": 30,
   "metadata": {},
   "outputs": [
    {
     "name": "stdout",
     "output_type": "stream",
     "text": [
      "this is a vehicle\n",
      "hello\n"
     ]
    }
   ],
   "source": [
    "class vehicle:\n",
    "    def des(self):\n",
    "        return 'this is a vehicle'\n",
    "    \n",
    "class car(vehicle):\n",
    "    def des(self):\n",
    "        return 'other'\n",
    "    \n",
    "    def des(self):\n",
    "        return \"hello\"\n",
    "    \n",
    "veh=vehicle()\n",
    "c=car()\n",
    "\n",
    "print(veh.des())\n",
    "print(c.des())\n"
   ]
  },
  {
   "cell_type": "code",
   "execution_count": 37,
   "metadata": {},
   "outputs": [
    {
     "name": "stdout",
     "output_type": "stream",
     "text": [
      "this is father\n",
      "this is mother\n",
      "this is parent\n"
     ]
    }
   ],
   "source": [
    "class father:\n",
    "    def father_method(self):\n",
    "        print(\"this is father\")\n",
    "        \n",
    "        \n",
    "class child1(father,child2):\n",
    "    def mother_method(self):\n",
    "        print(\"this is mother\")\n",
    "class child2(father):\n",
    "    def child_method(self):\n",
    "          print(\"this is parent\")\n",
    "          \n",
    "c1=child1()\n",
    "c2=child2()\n",
    "c1.father_method()\n",
    "c1.mother_method()\n",
    "c1.child_method()\n"
   ]
  },
  {
   "cell_type": "code",
   "execution_count": 8,
   "metadata": {},
   "outputs": [
    {
     "name": "stdout",
     "output_type": "stream",
     "text": [
      "this is a vehicle\n",
      "this is elicar\n"
     ]
    }
   ],
   "source": [
    "class vehicle:\n",
    "    def info(self):\n",
    "        return \"this is a vehicle\"\n",
    "    \n",
    "    \n",
    "class engine:\n",
    "    def eng_info(self):\n",
    "        return \"this is engine\"\n",
    "    \n",
    "\n",
    "class car(vehicle,engine):\n",
    "    def car_info(self):\n",
    "        return \"this is car\"\n",
    "\n",
    "\n",
    "class eliccar(car):\n",
    "    def eli_info(self):\n",
    "        return \"this is elicar\"\n",
    "    \n",
    "    \n",
    "\n",
    "\n",
    "obj= eliccar()\n",
    "\n",
    "print(obj.info())\n",
    "print(obj.eli_info())\n",
    "    \n",
    "    \n",
    "\n",
    "\n"
   ]
  },
  {
   "cell_type": "code",
   "execution_count": 41,
   "metadata": {},
   "outputs": [
    {
     "name": "stdout",
     "output_type": "stream",
     "text": [
      "(27, 50)\n",
      "(-3, -4)\n"
     ]
    }
   ],
   "source": [
    "class Vector:\n",
    "    def __init__(self, x, y):\n",
    "        self.x = x\n",
    "        self.y = y\n",
    "    \n",
    "    # Overloading the + operator\n",
    "    def __add__(self, other):\n",
    "        return Vector(self.x + other.x, self.y + other.y)\n",
    "    \n",
    "    # Overloading the - operator\n",
    "    def __sub__(self, other):\n",
    "        return Vector(self.x - other.x, self.y - other.y)\n",
    "    \n",
    "    def __str__(self):\n",
    "        return f\"({self.x}, {self.y})\"\n",
    "\n",
    "# Creating instances of Vector\n",
    "v1 = Vector(2, 3)\n",
    "v2 = Vector(5, 7)\n",
    "v3 = Vector(10,20)\n",
    "v4 = Vector(10,20)\n",
    "\n",
    "\n",
    "\n",
    "# Using overloaded operators\n",
    "v3 = v1 + v2 + v3 +v4\n",
    "v4 = v1 - v2\n",
    "\n",
    "# Printing the results\n",
    "print(v3)  # Output: (7, 10)\n",
    "print(v4)  # Output: (-3, -4)\n"
   ]
  },
  {
   "cell_type": "code",
   "execution_count": 42,
   "metadata": {},
   "outputs": [],
   "source": [
    "import threading"
   ]
  },
  {
   "cell_type": "code",
   "execution_count": null,
   "metadata": {},
   "outputs": [
    {
     "name": "stdout",
     "output_type": "stream",
     "text": [
      "one\n",
      "one\n",
      "one\n",
      "one\n",
      "one\n",
      "one\n",
      "one\n",
      "one\n",
      "one\n",
      "one\n",
      "one\n",
      "one\n",
      "one\n",
      "one\n",
      "one\n",
      "one\n",
      "one\n",
      "one\n",
      "one\n",
      "one\n",
      "one\n",
      "one\n",
      "one\n",
      "one\n",
      "one\n",
      "one\n",
      "one\n",
      "one\n",
      "one\n",
      "one\n",
      "one\n",
      "one\n",
      "one\n",
      "one\n",
      "one\n",
      "one\n",
      "one\n",
      "one\n",
      "one\n",
      "one\n",
      "one\n",
      "one\n",
      "one\n",
      "one\n",
      "one\n",
      "one\n",
      "one\n",
      "one\n",
      "one\n",
      "one\n",
      "one\n",
      "one\n",
      "one\n",
      "one\n",
      "one\n",
      "one\n",
      "one\n",
      "one\n",
      "one\n",
      "one\n",
      "one\n",
      "one\n",
      "one\n",
      "one\n",
      "one\n",
      "one\n",
      "one\n",
      "one\n",
      "one\n",
      "one\n",
      "one\n",
      "one\n",
      "one\n",
      "one\n",
      "one\n",
      "one\n",
      "one\n",
      "one\n",
      "one\n",
      "one\n",
      "one\n",
      "one\n",
      "one\n",
      "one\n",
      "one\n",
      "one\n",
      "one\n",
      "one\n",
      "one\n",
      "one\n",
      "one\n",
      "one\n",
      "one\n",
      "one\n",
      "one\n",
      "one\n",
      "one\n",
      "one\n",
      "one\n",
      "one\n",
      "two\n",
      "two\n",
      "two\n",
      "two\n",
      "two\n",
      "two\n",
      "two\n",
      "two\n",
      "two\n",
      "two\n",
      "two\n",
      "two\n",
      "two\n",
      "two\n",
      "two\n",
      "two\n",
      "two\n",
      "two\n",
      "two\n",
      "two\n",
      "two\n",
      "two\n",
      "two\n",
      "two\n",
      "two\n",
      "two\n",
      "two\n",
      "two\n",
      "two\n",
      "two\n",
      "two\n",
      "two\n",
      "two\n",
      "two\n",
      "two\n",
      "two\n",
      "two\n",
      "two\n",
      "two\n",
      "two\n",
      "two\n",
      "two\n",
      "two\n",
      "two\n",
      "two\n",
      "two\n",
      "two\n",
      "two\n",
      "two\n",
      "two\n",
      "two\n",
      "two\n",
      "two\n",
      "two\n",
      "two\n",
      "two\n",
      "two\n",
      "two\n",
      "two\n",
      "two\n",
      "two\n",
      "two\n",
      "two\n",
      "two\n",
      "two\n",
      "two\n",
      "two\n",
      "two\n",
      "two\n",
      "two\n",
      "two\n",
      "two\n",
      "two\n",
      "two\n",
      "two\n",
      "two\n",
      "two\n",
      "two\n",
      "two\n",
      "two\n",
      "two\n",
      "two\n",
      "two\n",
      "two\n",
      "two\n",
      "two\n",
      "two\n",
      "two\n",
      "two\n",
      "two\n",
      "two\n",
      "two\n",
      "two\n",
      "two\n",
      "two\n",
      "two\n",
      "two\n",
      "two\n",
      "two\n",
      "two\n"
     ]
    }
   ],
   "source": [
    "def fun1():\n",
    "    for _ in range(100):\n",
    "        print(\"one\")\n",
    " \n",
    " \n",
    "def fun2():\n",
    "    for _ in range(100):\n",
    "        print(\"two\")       \n",
    "        \n",
    "t1=threading.Thread(target=fun1)\n",
    "t2=threading.Thread(target=fun2)\n",
    "\n",
    "t1.start()\n",
    "t2.start()\n",
    "\n",
    "\n"
   ]
  },
  {
   "cell_type": "code",
   "execution_count": 45,
   "metadata": {},
   "outputs": [],
   "source": [
    "import numpy as np"
   ]
  },
  {
   "cell_type": "code",
   "execution_count": 56,
   "metadata": {},
   "outputs": [
    {
     "name": "stdout",
     "output_type": "stream",
     "text": [
      "4\n"
     ]
    }
   ],
   "source": [
    "a= np.array([[1,2,3],[2,3,4]])\n",
    "print(a[1][2])"
   ]
  }
 ],
 "metadata": {
  "kernelspec": {
   "display_name": "Python 3",
   "language": "python",
   "name": "python3"
  },
  "language_info": {
   "codemirror_mode": {
    "name": "ipython",
    "version": 3
   },
   "file_extension": ".py",
   "mimetype": "text/x-python",
   "name": "python",
   "nbconvert_exporter": "python",
   "pygments_lexer": "ipython3",
   "version": "3.11.2"
  }
 },
 "nbformat": 4,
 "nbformat_minor": 2
}
