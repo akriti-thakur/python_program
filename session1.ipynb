{
 "cells": [
  {
   "cell_type": "markdown",
   "metadata": {},
   "source": [
    "# tuple\n"
   ]
  },
  {
   "cell_type": "markdown",
   "metadata": {},
   "source": [
    "1.Python Program to Create a List of Tuples\n",
    "with the First Element as the Number and Second Element as the Square of the Number"
   ]
  },
  {
   "cell_type": "code",
   "execution_count": 13,
   "metadata": {},
   "outputs": [
    {
     "name": "stdout",
     "output_type": "stream",
     "text": [
      "[(2, 4), (3, 9), (4, 16), (5, 25), (6, 36), (7, 49), (8, 64), (9, 81), (10, 100)]\n"
     ]
    }
   ],
   "source": [
    "def create_tuple(n):\n",
    "    tuple_list=[]\n",
    "    for i in range(2,n+1):\n",
    "      tuple_list.append((i,i**2))\n",
    "    return  tuple_list\n",
    "  \n",
    "n=10\n",
    "li=create_tuple(n)\n",
    "print(li)"
   ]
  },
  {
   "cell_type": "code",
   "execution_count": 18,
   "metadata": {},
   "outputs": [
    {
     "name": "stdout",
     "output_type": "stream",
     "text": [
      "[(1, 1), (2, 4), (3, 9), (4, 16), (5, 25), (6, 36), (7, 49), (8, 64), (9, 81), (10, 100)]\n"
     ]
    }
   ],
   "source": [
    "def create_tuple(n):\n",
    "    return list(map(lambda x:(x,x**2),range(1,n+1)))\n",
    "\n",
    "n=10\n",
    "li=create_tuple(n)\n",
    "print(li)"
   ]
  },
  {
   "cell_type": "code",
   "execution_count": 24,
   "metadata": {},
   "outputs": [
    {
     "name": "stdout",
     "output_type": "stream",
     "text": [
      "[(10, 100), (9, 81), (8, 64), (7, 49), (6, 36), (5, 25), (4, 16), (3, 9), (2, 4), (1, 1)]\n"
     ]
    }
   ],
   "source": [
    "def create_tuple(n,result=None):\n",
    "    if result is None:\n",
    "        result=[]\n",
    "        \n",
    "    if n==0:\n",
    "        return result\n",
    "    \n",
    "    else:\n",
    "        result.append((n,n**2))\n",
    "        return create_tuple(n-1,result)\n",
    "    \n",
    "    \n",
    "n=10\n",
    "li=create_tuple(n)\n",
    "# li.reverse()\n",
    "print(li)\n",
    "\n",
    "# Recursion"
   ]
  },
  {
   "cell_type": "code",
   "execution_count": null,
   "metadata": {},
   "outputs": [],
   "source": [
    "\n",
    "# Python Program to Sort a List of Tuples \n",
    "# in Increasing Order by the Last Element in Each Tuple\n",
    "\n",
    "\n",
    "# [(1,2),(2,3),(2,4)]"
   ]
  },
  {
   "cell_type": "code",
   "execution_count": 12,
   "metadata": {},
   "outputs": [
    {
     "name": "stdout",
     "output_type": "stream",
     "text": [
      "[20, 10, 6]\n",
      "[6, 10, 20]\n"
     ]
    }
   ],
   "source": [
    "# tuple_list= [(2, 5), (1, 2), (4, 4), (2, 3), (3, 1)]\n",
    "\n",
    "# def sort_tuple(tuples):\n",
    "#     sourted_list=sorted(tuples,key=lambda x:x[-1])\n",
    "#     return sourted_list\n",
    "\n",
    "# function1= sort_tuple(tuple_list)\n",
    "# print(function1)\n",
    "# ----------------------------------------------------\n",
    "# def last(n):\n",
    "#     return n[-1]\n",
    "\n",
    "# def sort(tuples):\n",
    "#     return sorted(tuples,key=last)\n",
    "\n",
    "# -------------------------------------------------------\n",
    "# soretd_tuple= sorted(tuple_list,key=lambda x:x[-1])\n",
    "# print(soretd_tuple)\n",
    "\n",
    "\n",
    "# a=[20,10,6,]\n",
    "# print (a)\n",
    "# a.sort()\n",
    "# print(a)"
   ]
  },
  {
   "cell_type": "code",
   "execution_count": null,
   "metadata": {},
   "outputs": [],
   "source": [
    "# reverse a string \n",
    "# \"hello \"-> \"olleh\"---------------\n",
    "# check how many times a alphabet comes in a string \n",
    "# aabcdee\n",
    "# a->2"
   ]
  },
  {
   "cell_type": "code",
   "execution_count": 8,
   "metadata": {},
   "outputs": [
    {
     "name": "stdout",
     "output_type": "stream",
     "text": [
      "olleh\n"
     ]
    }
   ],
   "source": [
    "# a=\"hello\"\n",
    "# a=a[::-1]\n",
    "\n",
    "# print(a)\n",
    "\n",
    "# ------------------------------------------------------\n",
    "\n",
    "# a= \"hello\"\n",
    "# reverse=''.join(reversed(a))\n",
    "# print(reverse)\n",
    "\n",
    "# # -----------------------------------------------------------------------------------------------\n",
    "a=\"hello\"\n",
    "reverse=''\n",
    "\n",
    "for i in a:\n",
    "    reverse= i+ reverse\n",
    "    \n",
    "    \n",
    "print(reverse)\n",
    "# --------------------------------------------------------\n"
   ]
  },
  {
   "cell_type": "code",
   "execution_count": 20,
   "metadata": {},
   "outputs": [
    {
     "name": "stdout",
     "output_type": "stream",
     "text": [
      "[1, 4, 4, 4, 9, 16]\n"
     ]
    }
   ],
   "source": [
    "# n=[1,2,2,2,3,4]\n",
    "# square=list(map(lambda x:x**2,n))\n",
    "\n",
    "# print(square)\n",
    "\n",
    "\n"
   ]
  }
 ],
 "metadata": {
  "kernelspec": {
   "display_name": "Python 3",
   "language": "python",
   "name": "python3"
  },
  "language_info": {
   "codemirror_mode": {
    "name": "ipython",
    "version": 3
   },
   "file_extension": ".py",
   "mimetype": "text/x-python",
   "name": "python",
   "nbconvert_exporter": "python",
   "pygments_lexer": "ipython3",
   "version": "3.11.2"
  }
 },
 "nbformat": 4,
 "nbformat_minor": 2
}
