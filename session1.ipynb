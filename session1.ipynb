{
 "cells": [
  {
   "cell_type": "markdown",
   "metadata": {},
   "source": [
    "# tuple\n"
   ]
  },
  {
   "cell_type": "markdown",
   "metadata": {},
   "source": [
    "1.Python Program to Create a List of Tuples\n",
    "with the First Element as the Number and Second Element as the Square of the Number"
   ]
  },
  {
   "cell_type": "code",
   "execution_count": 13,
   "metadata": {},
   "outputs": [
    {
     "name": "stdout",
     "output_type": "stream",
     "text": [
      "[(2, 4), (3, 9), (4, 16), (5, 25), (6, 36), (7, 49), (8, 64), (9, 81), (10, 100)]\n"
     ]
    }
   ],
   "source": [
    "def create_tuple(n):\n",
    "    tuple_list=[]\n",
    "    for i in range(2,n+1):\n",
    "      tuple_list.append((i,i**2))\n",
    "    return  tuple_list\n",
    "  \n",
    "n=10\n",
    "li=create_tuple(n)\n",
    "print(li)"
   ]
  },
  {
   "cell_type": "code",
   "execution_count": 18,
   "metadata": {},
   "outputs": [
    {
     "name": "stdout",
     "output_type": "stream",
     "text": [
      "[(1, 1), (2, 4), (3, 9), (4, 16), (5, 25), (6, 36), (7, 49), (8, 64), (9, 81), (10, 100)]\n"
     ]
    }
   ],
   "source": [
    "def create_tuple(n):\n",
    "    return list(map(lambda x:(x,x**2),range(1,n+1)))\n",
    "\n",
    "n=10\n",
    "li=create_tuple(n)\n",
    "print(li)"
   ]
  },
  {
   "cell_type": "code",
   "execution_count": 24,
   "metadata": {},
   "outputs": [
    {
     "name": "stdout",
     "output_type": "stream",
     "text": [
      "[(10, 100), (9, 81), (8, 64), (7, 49), (6, 36), (5, 25), (4, 16), (3, 9), (2, 4), (1, 1)]\n"
     ]
    }
   ],
   "source": [
    "def create_tuple(n,result=None):\n",
    "    if result is None:\n",
    "        result=[]\n",
    "        \n",
    "    if n==0:\n",
    "        return result\n",
    "    \n",
    "    else:\n",
    "        result.append((n,n**2))\n",
    "        return create_tuple(n-1,result)\n",
    "    \n",
    "    \n",
    "n=10\n",
    "li=create_tuple(n)\n",
    "# li.reverse()\n",
    "print(li)\n",
    "\n",
    "# Recursion"
   ]
  },
  {
   "cell_type": "code",
   "execution_count": null,
   "metadata": {},
   "outputs": [],
   "source": [
    "# # coin simulation\n",
    "# Python Program to Sort a List of Tuples \n",
    "# in Increasing Order by the Last Element in Each Tuple\n"
   ]
  }
 ],
 "metadata": {
  "kernelspec": {
   "display_name": "Python 3",
   "language": "python",
   "name": "python3"
  },
  "language_info": {
   "codemirror_mode": {
    "name": "ipython",
    "version": 3
   },
   "file_extension": ".py",
   "mimetype": "text/x-python",
   "name": "python",
   "nbconvert_exporter": "python",
   "pygments_lexer": "ipython3",
   "version": "3.11.2"
  }
 },
 "nbformat": 4,
 "nbformat_minor": 2
}
