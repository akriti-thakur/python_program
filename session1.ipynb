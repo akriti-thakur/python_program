{
 "cells": [
  {
   "cell_type": "markdown",
   "metadata": {},
   "source": [
    "# tuple\n"
   ]
  },
  {
   "cell_type": "markdown",
   "metadata": {},
   "source": [
    "1.Python Program to Create a List of Tuples\n",
    "with the First Element as the Number and Second Element as the Square of the Number"
   ]
  },
  {
   "cell_type": "code",
   "execution_count": 13,
   "metadata": {},
   "outputs": [
    {
     "name": "stdout",
     "output_type": "stream",
     "text": [
      "[(2, 4), (3, 9), (4, 16), (5, 25), (6, 36), (7, 49), (8, 64), (9, 81), (10, 100)]\n"
     ]
    }
   ],
   "source": [
    "# def create_tuple(n):\n",
    "#     tuple_list=[]\n",
    "#     for i in range(2,n+1):\n",
    "#       tuple_list.append((i,i**2))\n",
    "#     return  tuple_list\n",
    "  \n",
    "# n=10\n",
    "# li=create_tuple(n)\n",
    "# print(li)"
   ]
  },
  {
   "cell_type": "code",
   "execution_count": 18,
   "metadata": {},
   "outputs": [
    {
     "name": "stdout",
     "output_type": "stream",
     "text": [
      "[(1, 1), (2, 4), (3, 9), (4, 16), (5, 25), (6, 36), (7, 49), (8, 64), (9, 81), (10, 100)]\n"
     ]
    }
   ],
   "source": [
    "# def create_tuple(n):\n",
    "#     return list(map(lambda x:(x,x**2),range(1,n+1)))\n",
    "\n",
    "# n=10\n",
    "# li=create_tuple(n)\n",
    "# print(li)"
   ]
  },
  {
   "cell_type": "code",
   "execution_count": 24,
   "metadata": {},
   "outputs": [
    {
     "name": "stdout",
     "output_type": "stream",
     "text": [
      "[(10, 100), (9, 81), (8, 64), (7, 49), (6, 36), (5, 25), (4, 16), (3, 9), (2, 4), (1, 1)]\n"
     ]
    }
   ],
   "source": [
    "# def create_tuple(n,result=None):\n",
    "#     if result is None:\n",
    "#         result=[]\n",
    "        \n",
    "#     if n==0:\n",
    "#         return result\n",
    "    \n",
    "#     else:\n",
    "#         result.append((n,n**2))\n",
    "#         return create_tuple(n-1,result)\n",
    "    \n",
    "    \n",
    "# n=10\n",
    "# li=create_tuple(n)\n",
    "# # li.reverse()\n",
    "# print(li)\n",
    "\n",
    "# # Recursion"
   ]
  },
  {
   "cell_type": "code",
   "execution_count": null,
   "metadata": {},
   "outputs": [],
   "source": [
    "\n",
    "# Python Program to Sort a List of Tuples \n",
    "# in Increasing Order by the Last Element in Each Tuple\n",
    "\n",
    "\n",
    "# [(1,2),(2,3),(2,4)]"
   ]
  },
  {
   "cell_type": "code",
   "execution_count": 12,
   "metadata": {},
   "outputs": [
    {
     "name": "stdout",
     "output_type": "stream",
     "text": [
      "[20, 10, 6]\n",
      "[6, 10, 20]\n"
     ]
    }
   ],
   "source": [
    "# tuple_list= [(2, 5), (1, 2), (4, 4), (2, 3), (3, 1)]\n",
    "\n",
    "# def sort_tuple(tuples):\n",
    "#     sourted_list=sorted(tuples,key=lambda x:x[-1])\n",
    "#     return sourted_list\n",
    "\n",
    "# function1= sort_tuple(tuple_list)\n",
    "# print(function1)\n",
    "# ----------------------------------------------------\n",
    "# def last(n):\n",
    "#     return n[-1]\n",
    "\n",
    "# def sort(tuples):\n",
    "#     return sorted(tuples,key=last)\n",
    "\n",
    "# -------------------------------------------------------\n",
    "# soretd_tuple= sorted(tuple_list,key=lambda x:x[-1])\n",
    "# print(soretd_tuple)\n",
    "\n",
    "\n",
    "# a=[20,10,6,]\n",
    "# print (a)\n",
    "# a.sort()\n",
    "# print(a)"
   ]
  },
  {
   "cell_type": "code",
   "execution_count": 20,
   "metadata": {},
   "outputs": [
    {
     "name": "stdout",
     "output_type": "stream",
     "text": [
      "[1, 4, 4, 4, 9, 16]\n"
     ]
    }
   ],
   "source": [
    "# n=[1,2,2,2,3,4]\n",
    "# square=list(map(lambda x:x**2,n))\n",
    "\n",
    "# print(square)\n",
    "\n",
    "\n"
   ]
  },
  {
   "cell_type": "code",
   "execution_count": null,
   "metadata": {},
   "outputs": [],
   "source": [
    "# reverse a string \n",
    "# \"hello \"-> \"olleh\"---------------\n",
    "# check how many times a alphabet comes in a string \n",
    "# aabcdee\n",
    "# a->2"
   ]
  },
  {
   "cell_type": "code",
   "execution_count": 8,
   "metadata": {},
   "outputs": [
    {
     "name": "stdout",
     "output_type": "stream",
     "text": [
      "olleh\n"
     ]
    }
   ],
   "source": [
    "# a=\"hello\"\n",
    "# a=a[::-1]\n",
    "\n",
    "# print(a)\n",
    "\n",
    "# ------------------------------------------------------\n",
    "\n",
    "# a= \"hello\"\n",
    "# reverse=''.join(reversed(a))\n",
    "# print(reverse)\n",
    "\n",
    "# # -----------------------------------------------------------------------------------------------\n",
    "# a=\"hello\"\n",
    "# reverse=''\n",
    "\n",
    "# for i in a:\n",
    "#     reverse= i+ reverse\n",
    "    \n",
    "    \n",
    "# print(reverse)\n",
    "# --------------------------------------------------------\n"
   ]
  },
  {
   "cell_type": "code",
   "execution_count": 3,
   "metadata": {},
   "outputs": [
    {
     "name": "stdout",
     "output_type": "stream",
     "text": [
      "Counter({'l': 3, ' ': 3, 'o': 2, '1': 2, 'h': 1, 'e': 1, 'w': 1, 'r': 1, 'd': 1, '!': 1})\n"
     ]
    }
   ],
   "source": [
    "# check how many times a alphabet comes in a string \n",
    "\n",
    "# from collections import Counter\n",
    "# def count(input_string):\n",
    "#     input_string = input_string.lower()\n",
    "#     filter_sting=''.join(filter(str.isalpha,input_string))\n",
    "#     c= Counter(filter_sting)\n",
    "    \n",
    "    \n",
    "#     return c\n",
    "\n",
    "\n",
    "# result=count(\"hello 1 1 world!\")\n",
    "\n",
    "# print(result)\n"
   ]
  },
  {
   "cell_type": "code",
   "execution_count": 4,
   "metadata": {},
   "outputs": [
    {
     "name": "stdout",
     "output_type": "stream",
     "text": [
      "{'h': 1, 'e': 1, 'l': 3, 'o': 2, 'w': 2, 'r': 2, 'd': 1}\n"
     ]
    }
   ],
   "source": [
    "# def count_st(instring): \n",
    "#     alpha={}\n",
    "    \n",
    "#     for i in instring:\n",
    "#         i=i.lower()\n",
    "#         if i.isalpha():\n",
    "#             if i in alpha:\n",
    "#                 alpha[i]+=1\n",
    "                \n",
    "#             else:\n",
    "#                 alpha[i]=1\n",
    "                \n",
    "                \n",
    "#     return alpha\n",
    "\n",
    "# result=count_st(\"hello WworRld\")\n",
    "# print(result)"
   ]
  },
  {
   "cell_type": "code",
   "execution_count": 7,
   "metadata": {},
   "outputs": [
    {
     "name": "stdout",
     "output_type": "stream",
     "text": [
      "even\n"
     ]
    }
   ],
   "source": [
    "# Python Program to Check if a Number is Odd or Even\n",
    "\n",
    "# n= int(input(\"enter the number\"))\n",
    "\n",
    "# if n%2 ==0:\n",
    "#     print(f'{n} is even number ')\n",
    "    \n",
    "# else:\n",
    "#     print(f'{n} is odd number ')\n",
    "    \n",
    "    \n",
    "    \n",
    "    \n",
    "    # ---------------------------------------------------\n",
    "    \n",
    "# 0(1)time and space complexity \n",
    "\n",
    "# using Recursion\n",
    "\n",
    "# def check(n):\n",
    "#     if (n>2):\n",
    "#         return (n%2 ==0)\n",
    "#     return check(n-2)\n",
    "\n",
    "# n=9\n",
    "# if(check(n)==True):\n",
    "#     print(\"Even\")\n",
    "\n",
    "# else:\n",
    "#     print(\"odd\")    \n",
    "\n",
    "\n",
    "# o(n/2) o(n)\n",
    "# -------------------------------------------------------------\n",
    "\n",
    "# check= lambda num:\"even\" if num%2==0 else \"odd\"\n",
    "\n",
    "# number=10\n",
    "# result= check(number)\n",
    "\n",
    "\n",
    "# print(result)\n",
    "\n",
    "# o(1) space and time complexity "
   ]
  },
  {
   "cell_type": "code",
   "execution_count": 9,
   "metadata": {},
   "outputs": [
    {
     "ename": "ValueError",
     "evalue": "invalid literal for int() with base 10: ''",
     "output_type": "error",
     "traceback": [
      "\u001b[1;31m---------------------------------------------------------------------------\u001b[0m",
      "\u001b[1;31mValueError\u001b[0m                                Traceback (most recent call last)",
      "Cell \u001b[1;32mIn[9], line 43\u001b[0m\n\u001b[0;32m     38\u001b[0m          \u001b[38;5;28;01mreturn\u001b[39;00m \u001b[38;5;124m\"\u001b[39m\u001b[38;5;124melement not found\u001b[39m\u001b[38;5;124m\"\u001b[39m\n\u001b[0;32m     42\u001b[0m \u001b[38;5;28;01mif\u001b[39;00m \u001b[38;5;18m__name__\u001b[39m\u001b[38;5;241m==\u001b[39m\u001b[38;5;124m\"\u001b[39m\u001b[38;5;124m__main__\u001b[39m\u001b[38;5;124m\"\u001b[39m:\n\u001b[1;32m---> 43\u001b[0m     \u001b[43mmain\u001b[49m\u001b[43m(\u001b[49m\u001b[43m)\u001b[49m\n\u001b[0;32m     52\u001b[0m \u001b[38;5;66;03m# a=[1,2,5,7,10,12]-> 7,10,12->10,12->12\u001b[39;00m\n\u001b[0;32m     53\u001b[0m \u001b[38;5;66;03m# a.sort()   target 1->1,2,5->1,2->1\u001b[39;00m\n",
      "Cell \u001b[1;32mIn[9], line 28\u001b[0m, in \u001b[0;36mmain\u001b[1;34m()\u001b[0m\n\u001b[0;32m     27\u001b[0m \u001b[38;5;28;01mdef\u001b[39;00m \u001b[38;5;21mmain\u001b[39m():\n\u001b[1;32m---> 28\u001b[0m     arr1\u001b[38;5;241m=\u001b[39m\u001b[43mget_user_input\u001b[49m\u001b[43m(\u001b[49m\u001b[43m)\u001b[49m\n\u001b[0;32m     29\u001b[0m     tar1\u001b[38;5;241m=\u001b[39mto_get_target()\n\u001b[0;32m     30\u001b[0m     obj\u001b[38;5;241m=\u001b[39mlinear(arr1,tar1)\n",
      "Cell \u001b[1;32mIn[9], line 13\u001b[0m, in \u001b[0;36mget_user_input\u001b[1;34m()\u001b[0m\n\u001b[0;32m     11\u001b[0m \u001b[38;5;28;01mdef\u001b[39;00m \u001b[38;5;21mget_user_input\u001b[39m():\n\u001b[0;32m     12\u001b[0m     arr\u001b[38;5;241m=\u001b[39m[]\n\u001b[1;32m---> 13\u001b[0m     n\u001b[38;5;241m=\u001b[39m\u001b[38;5;28;43mint\u001b[39;49m\u001b[43m(\u001b[49m\u001b[38;5;28;43minput\u001b[39;49m\u001b[43m(\u001b[49m\u001b[38;5;124;43m\"\u001b[39;49m\u001b[38;5;124;43menter the number element of the:\u001b[39;49m\u001b[38;5;124;43m\"\u001b[39;49m\u001b[43m)\u001b[49m\u001b[43m)\u001b[49m\n\u001b[0;32m     14\u001b[0m     \u001b[38;5;28;01mfor\u001b[39;00m i \u001b[38;5;129;01min\u001b[39;00m \u001b[38;5;28mrange\u001b[39m(n):\n\u001b[0;32m     15\u001b[0m         ele\u001b[38;5;241m=\u001b[39m\u001b[38;5;28mint\u001b[39m(\u001b[38;5;28minput\u001b[39m(\u001b[38;5;124m\"\u001b[39m\u001b[38;5;124menter the element:\u001b[39m\u001b[38;5;124m\"\u001b[39m))\n",
      "\u001b[1;31mValueError\u001b[0m: invalid literal for int() with base 10: ''"
     ]
    }
   ],
   "source": [
    "# linear searching\n",
    "\n",
    "def linear(arr,target):\n",
    "    for i in range(len(arr)):\n",
    "        if arr[i]== target:\n",
    "            return i\n",
    "        \n",
    "    return -1\n",
    "\n",
    "\n",
    "def get_user_input():\n",
    "    arr=[]\n",
    "    n=int(input(\"enter the number element of the:\"))\n",
    "    for i in range(n):\n",
    "        ele=int(input(\"enter the element:\"))\n",
    "        arr.append(ele)\n",
    "        \n",
    "        \n",
    "    return arr\n",
    "\n",
    "\n",
    "def to_get_target():\n",
    "    tar=int(input(\"enterth value to find:\"))\n",
    "    return tar\n",
    "\n",
    "\n",
    "def main():\n",
    "    arr1=get_user_input()\n",
    "    tar1=to_get_target()\n",
    "    obj=linear(arr1,tar1)\n",
    "    \n",
    "    \n",
    "    if obj != -1:\n",
    "        print(f'element found at {obj},()')\n",
    "        \n",
    "        \n",
    "    else:\n",
    "         return \"element not found\"\n",
    "        \n",
    "        \n",
    "\n",
    "if __name__==\"__main__\":\n",
    "    main()\n",
    "    \n",
    "    \n",
    "    \n",
    "        \n",
    "        \n",
    "        \n",
    "        \n",
    "        \n",
    "# a=[1,2,5,7,10,12]-> 7,10,12->10,12->12\n",
    "# a.sort()   target 1->1,2,5->1,2->1\n"
   ]
  },
  {
   "cell_type": "code",
   "execution_count": null,
   "metadata": {},
   "outputs": [],
   "source": [
    "# O(1)-> constant time \n",
    "# O(log n)-> logarithmic time \n",
    "# O(n)->linear time 1,2,3,4,5,6,7,8\n",
    "# o(n log n)->linearithmic time ,nlogn\n",
    "# O(n^2)-> quadractic time ,bubble and insertion sorted\n",
    "# O(2^n)->exponential time, brute force "
   ]
  },
  {
   "cell_type": "code",
   "execution_count": null,
   "metadata": {},
   "outputs": [],
   "source": [
    "# changes\n",
    "\n",
    "hello\n"
   ]
  },
  {
   "cell_type": "code",
   "execution_count": 10,
   "metadata": {},
   "outputs": [
    {
     "name": "stdout",
     "output_type": "stream",
     "text": [
      "Element found at index: 2\n"
     ]
    }
   ],
   "source": [
    "# def linear_search(arr, target):\n",
    "#     for i in range(len(arr)):\n",
    "#         if arr[i] == target:\n",
    "#             return i\n",
    "#     return -1\n",
    "\n",
    "# # Example usage:\n",
    "# arr = [3, 5, 7, 9, 11]\n",
    "# target = 7\n",
    "# result = linear_search(arr, target)\n",
    "\n",
    "# if result != -1:\n",
    "#     print(f\"Element found at index: {result}\")\n",
    "# else:\n",
    "#     print(\"Element not found\")\n",
    "\n",
    "\n",
    "# time complexity analysis:\n",
    "#     best case-> target value is first vale in the array O(1)\n",
    "#     worst case-> last value O(n)\n",
    "#     average case-> middle value O(n)\n",
    "    \n",
    "    \n",
    "# space: O(1)    \n",
    "    \n"
   ]
  }
 ],
 "metadata": {
  "kernelspec": {
   "display_name": "Python 3",
   "language": "python",
   "name": "python3"
  },
  "language_info": {
   "codemirror_mode": {
    "name": "ipython",
    "version": 3
   },
   "file_extension": ".py",
   "mimetype": "text/x-python",
   "name": "python",
   "nbconvert_exporter": "python",
   "pygments_lexer": "ipython3",
   "version": "3.11.2"
  }
 },
 "nbformat": 4,
 "nbformat_minor": 2
}
