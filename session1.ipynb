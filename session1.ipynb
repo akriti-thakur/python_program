{
 "cells": [
  {
   "cell_type": "markdown",
   "metadata": {},
   "source": [
    "# tuple\n"
   ]
  },
  {
   "cell_type": "markdown",
   "metadata": {},
   "source": [
    "1.Python Program to Create a List of Tuples\n",
    "with the First Element as the Number and Second Element as the Square of the Number"
   ]
  },
  {
   "cell_type": "code",
   "execution_count": 13,
   "metadata": {},
   "outputs": [
    {
     "name": "stdout",
     "output_type": "stream",
     "text": [
      "[(2, 4), (3, 9), (4, 16), (5, 25), (6, 36), (7, 49), (8, 64), (9, 81), (10, 100)]\n"
     ]
    }
   ],
   "source": [
    "# def create_tuple(n):\n",
    "#     tuple_list=[]\n",
    "#     for i in range(2,n+1):\n",
    "#       tuple_list.append((i,i**2))\n",
    "#     return  tuple_list\n",
    "  \n",
    "# n=10\n",
    "# li=create_tuple(n)\n",
    "# print(li)"
   ]
  },
  {
   "cell_type": "code",
   "execution_count": 18,
   "metadata": {},
   "outputs": [
    {
     "name": "stdout",
     "output_type": "stream",
     "text": [
      "[(1, 1), (2, 4), (3, 9), (4, 16), (5, 25), (6, 36), (7, 49), (8, 64), (9, 81), (10, 100)]\n"
     ]
    }
   ],
   "source": [
    "# def create_tuple(n):\n",
    "#     return list(map(lambda x:(x,x**2),range(1,n+1)))\n",
    "\n",
    "# n=10\n",
    "# li=create_tuple(n)\n",
    "# print(li)"
   ]
  },
  {
   "cell_type": "code",
   "execution_count": 24,
   "metadata": {},
   "outputs": [
    {
     "name": "stdout",
     "output_type": "stream",
     "text": [
      "[(10, 100), (9, 81), (8, 64), (7, 49), (6, 36), (5, 25), (4, 16), (3, 9), (2, 4), (1, 1)]\n"
     ]
    }
   ],
   "source": [
    "# def create_tuple(n,result=None):\n",
    "#     if result is None:\n",
    "#         result=[]\n",
    "        \n",
    "#     if n==0:\n",
    "#         return result\n",
    "    \n",
    "#     else:\n",
    "#         result.append((n,n**2))\n",
    "#         return create_tuple(n-1,result)\n",
    "    \n",
    "    \n",
    "# n=10\n",
    "# li=create_tuple(n)\n",
    "# # li.reverse()\n",
    "# print(li)\n",
    "\n",
    "# # Recursion"
   ]
  },
  {
   "cell_type": "code",
   "execution_count": null,
   "metadata": {},
   "outputs": [],
   "source": [
    "\n",
    "# Python Program to Sort a List of Tuples \n",
    "# in Increasing Order by the Last Element in Each Tuple\n",
    "\n",
    "\n",
    "# [(1,2),(2,3),(2,4)]"
   ]
  },
  {
   "cell_type": "code",
   "execution_count": 12,
   "metadata": {},
   "outputs": [
    {
     "name": "stdout",
     "output_type": "stream",
     "text": [
      "[20, 10, 6]\n",
      "[6, 10, 20]\n"
     ]
    }
   ],
   "source": [
    "# tuple_list= [(2, 5), (1, 2), (4, 4), (2, 3), (3, 1)]\n",
    "\n",
    "# def sort_tuple(tuples):\n",
    "#     sourted_list=sorted(tuples,key=lambda x:x[-1])\n",
    "#     return sourted_list\n",
    "\n",
    "# function1= sort_tuple(tuple_list)\n",
    "# print(function1)\n",
    "# ----------------------------------------------------\n",
    "# def last(n):\n",
    "#     return n[-1]\n",
    "\n",
    "# def sort(tuples):\n",
    "#     return sorted(tuples,key=last)\n",
    "\n",
    "# -------------------------------------------------------\n",
    "# soretd_tuple= sorted(tuple_list,key=lambda x:x[-1])\n",
    "# print(soretd_tuple)\n",
    "\n",
    "\n",
    "# a=[20,10,6,]\n",
    "# print (a)\n",
    "# a.sort()\n",
    "# print(a)"
   ]
  },
  {
   "cell_type": "code",
   "execution_count": 20,
   "metadata": {},
   "outputs": [
    {
     "name": "stdout",
     "output_type": "stream",
     "text": [
      "[1, 4, 4, 4, 9, 16]\n"
     ]
    }
   ],
   "source": [
    "# n=[1,2,2,2,3,4]\n",
    "# square=list(map(lambda x:x**2,n))\n",
    "\n",
    "# print(square)\n",
    "\n",
    "\n"
   ]
  },
  {
   "cell_type": "code",
   "execution_count": null,
   "metadata": {},
   "outputs": [],
   "source": [
    "# reverse a string \n",
    "# \"hello \"-> \"olleh\"---------------\n",
    "# check how many times a alphabet comes in a string \n",
    "# aabcdee\n",
    "# a->2"
   ]
  },
  {
   "cell_type": "code",
   "execution_count": 8,
   "metadata": {},
   "outputs": [
    {
     "name": "stdout",
     "output_type": "stream",
     "text": [
      "olleh\n"
     ]
    }
   ],
   "source": [
    "# a=\"hello\"\n",
    "# a=a[::-1]\n",
    "\n",
    "# print(a)\n",
    "\n",
    "# ------------------------------------------------------\n",
    "\n",
    "# a= \"hello\"\n",
    "# reverse=''.join(reversed(a))\n",
    "# print(reverse)\n",
    "\n",
    "# # -----------------------------------------------------------------------------------------------\n",
    "# a=\"hello\"\n",
    "# reverse=''\n",
    "\n",
    "# for i in a:\n",
    "#     reverse= i+ reverse\n",
    "    \n",
    "    \n",
    "# print(reverse)\n",
    "# --------------------------------------------------------\n"
   ]
  },
  {
   "cell_type": "code",
   "execution_count": 3,
   "metadata": {},
   "outputs": [
    {
     "name": "stdout",
     "output_type": "stream",
     "text": [
      "Counter({'l': 3, ' ': 3, 'o': 2, '1': 2, 'h': 1, 'e': 1, 'w': 1, 'r': 1, 'd': 1, '!': 1})\n"
     ]
    }
   ],
   "source": [
    "# check how many times a alphabet comes in a string \n",
    "\n",
    "# from collections import Counter\n",
    "# def count(input_string):\n",
    "#     input_string = input_string.lower()\n",
    "#     filter_sting=''.join(filter(str.isalpha,input_string))\n",
    "#     c= Counter(filter_sting)\n",
    "    \n",
    "    \n",
    "#     return c\n",
    "\n",
    "\n",
    "# result=count(\"hello 1 1 world!\")\n",
    "\n",
    "# print(result)\n"
   ]
  },
  {
   "cell_type": "code",
   "execution_count": 4,
   "metadata": {},
   "outputs": [
    {
     "name": "stdout",
     "output_type": "stream",
     "text": [
      "{'h': 1, 'e': 1, 'l': 3, 'o': 2, 'w': 2, 'r': 2, 'd': 1}\n"
     ]
    }
   ],
   "source": [
    "# def count_st(instring): \n",
    "#     alpha={}\n",
    "    \n",
    "#     for i in instring:\n",
    "#         i=i.lower()\n",
    "#         if i.isalpha():\n",
    "#             if i in alpha:\n",
    "#                 alpha[i]+=1\n",
    "                \n",
    "#             else:\n",
    "#                 alpha[i]=1\n",
    "                \n",
    "                \n",
    "#     return alpha\n",
    "\n",
    "# result=count_st(\"hello WworRld\")\n",
    "# print(result)"
   ]
  },
  {
   "cell_type": "code",
   "execution_count": 7,
   "metadata": {},
   "outputs": [
    {
     "name": "stdout",
     "output_type": "stream",
     "text": [
      "even\n"
     ]
    }
   ],
   "source": [
    "# Python Program to Check if a Number is Odd or Even\n",
    "\n",
    "# n= int(input(\"enter the number\"))\n",
    "\n",
    "# if n%2 ==0:\n",
    "#     print(f'{n} is even number ')\n",
    "    \n",
    "# else:\n",
    "#     print(f'{n} is odd number ')\n",
    "    \n",
    "    \n",
    "    \n",
    "    \n",
    "    # ---------------------------------------------------\n",
    "    \n",
    "# 0(1)time and space complexity \n",
    "\n",
    "# using Recursion\n",
    "\n",
    "# def check(n):\n",
    "#     if (n>2):\n",
    "#         return (n%2 ==0)\n",
    "#     return check(n-2)\n",
    "\n",
    "# n=9\n",
    "# if(check(n)==True):\n",
    "#     print(\"Even\")\n",
    "\n",
    "# else:\n",
    "#     print(\"odd\")    \n",
    "\n",
    "\n",
    "# o(n/2) o(n)\n",
    "# -------------------------------------------------------------\n",
    "\n",
    "# check= lambda num:\"even\" if num%2==0 else \"odd\"\n",
    "\n",
    "# number=10\n",
    "# result= check(number)\n",
    "\n",
    "\n",
    "# print(result)\n",
    "\n",
    "# o(1) space and time complexity "
   ]
  }
 ],
 "metadata": {
  "kernelspec": {
   "display_name": "Python 3",
   "language": "python",
   "name": "python3"
  },
  "language_info": {
   "codemirror_mode": {
    "name": "ipython",
    "version": 3
   },
   "file_extension": ".py",
   "mimetype": "text/x-python",
   "name": "python",
   "nbconvert_exporter": "python",
   "pygments_lexer": "ipython3",
   "version": "3.11.2"
  }
 },
 "nbformat": 4,
 "nbformat_minor": 2
}
