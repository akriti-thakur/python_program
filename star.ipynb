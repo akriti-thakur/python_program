{
 "cells": [
  {
   "cell_type": "code",
   "execution_count": 13,
   "metadata": {},
   "outputs": [
    {
     "name": "stdout",
     "output_type": "stream",
     "text": [
      "          \n",
      "        * \n",
      "      * * * \n",
      "    * * * * * \n",
      "  * * * * * * * \n",
      "* * * * * * * * * \n"
     ]
    }
   ],
   "source": [
    "n = 5  \n",
    "\n",
    "for i in range(0,n+1):  \n",
    "\n",
    "\n",
    "\n",
    "    for j in range(n - i): \n",
    "    \n",
    "\n",
    "        print(' ',end=' ')\n",
    "\n",
    "\n",
    "    for m in range(2* i - 1):\n",
    "        print('*', end=' ')\n",
    "\n",
    "  \n",
    "\n",
    "    print()             "
   ]
  },
  {
   "cell_type": "code",
   "execution_count": 5,
   "metadata": {},
   "outputs": [
    {
     "name": "stdout",
     "output_type": "stream",
     "text": [
      "******\n",
      "*****\n",
      "****\n",
      "***\n",
      "**\n",
      "*\n"
     ]
    }
   ],
   "source": [
    "n=5\n",
    "for i in range (n+1,0,-1):  \n",
    "    \n",
    "    print( i * '*')     \n",
    "\n",
    "\n",
    "\n",
    "\n"
   ]
  },
  {
   "cell_type": "code",
   "execution_count": null,
   "metadata": {},
   "outputs": [],
   "source": []
  },
  {
   "cell_type": "code",
   "execution_count": 17,
   "metadata": {},
   "outputs": [
    {
     "name": "stdout",
     "output_type": "stream",
     "text": [
      "8 8 8 8 - 8 8 8 8 \n",
      "8 8 8 - - - 8 8 8 \n",
      "8 8 - - - - - 8 8 \n",
      "8 - - - - - - - 8 \n",
      "- - - - - - - - - \n"
     ]
    }
   ],
   "source": [
    "n = 5  \n",
    "\n",
    "for i in range(1, n + 1): \n",
    "\n",
    "\n",
    "\n",
    "    for j in range(n - i):\n",
    "\n",
    "        print('8', end=' ')\n",
    "\n",
    "   \n",
    "\n",
    "    for j in range(2*i-1):\n",
    "\n",
    "        print('-', end=' ')\n",
    "        \n",
    "    for j in range(n - i):\n",
    "\n",
    "        print('8', end=' ')\n",
    "\n",
    "    print()"
   ]
  },
  {
   "cell_type": "code",
   "execution_count": 1,
   "metadata": {},
   "outputs": [
    {
     "name": "stdout",
     "output_type": "stream",
     "text": [
      "* * * * * \n",
      "* * * * * \n",
      "* * * * * \n",
      "* * * * * \n",
      "* * * * * \n"
     ]
    }
   ],
   "source": [
    "n = 5 \n",
    "\n",
    "for i in range(n):  \n",
    "\n",
    "    for j in range(n): \n",
    "\n",
    "        print('*', end=' ')\n",
    "\n",
    "    print()  "
   ]
  },
  {
   "cell_type": "code",
   "execution_count": 18,
   "metadata": {},
   "outputs": [
    {
     "name": "stdout",
     "output_type": "stream",
     "text": [
      "    *\n",
      "   ***\n",
      "  *****\n",
      " *******\n",
      "*********\n",
      " *******\n",
      "  *****\n",
      "   ***\n",
      "    *\n"
     ]
    }
   ],
   "source": [
    "n = 5  # Middle row of the diamond\n",
    "\n",
    "# Upper half\n",
    "\n",
    "for i in range(1, n+1):\n",
    "\n",
    "    for j in range(n-i):\n",
    "\n",
    "        print(' ', end='')\n",
    "\n",
    "    for j in range(2*i-1):\n",
    "\n",
    "        print('*', end='')\n",
    "\n",
    "    print()\n",
    "\n",
    "# Lower half\n",
    "\n",
    "for i in range(n-1, 0, -1):\n",
    "\n",
    "    for j in range(n-i):\n",
    "\n",
    "        print(' ', end='')\n",
    "\n",
    "    for j in range(2*i-1):\n",
    "\n",
    "        print('*', end='')\n",
    "\n",
    "    print()"
   ]
  },
  {
   "cell_type": "code",
   "execution_count": 15,
   "metadata": {},
   "outputs": [
    {
     "name": "stdout",
     "output_type": "stream",
     "text": [
      "*\n",
      "***\n",
      "*****\n",
      "*******\n",
      "*********\n",
      "*******\n",
      "*****\n",
      "***\n",
      "*\n"
     ]
    }
   ],
   "source": [
    "n = 5  # Middle row of the diamond\n",
    "\n",
    "# Upper half\n",
    "\n",
    "for i in range(1, n+1):\n",
    "\n",
    "\n",
    "\n",
    "    for j in range(2*i-1):\n",
    "\n",
    "        print('*', end='')\n",
    "\n",
    "    print()\n",
    "\n",
    "# Lower half\n",
    "\n",
    "for i in range(n-1, 0, -1):\n",
    "\n",
    "\n",
    "\n",
    "    for j in range(2*i-1):\n",
    "\n",
    "        print('*', end='')\n",
    "\n",
    "    print()"
   ]
  },
  {
   "cell_type": "code",
   "execution_count": 8,
   "metadata": {},
   "outputs": [
    {
     "name": "stdout",
     "output_type": "stream",
     "text": [
      "*********\n",
      " *******\n",
      "  *****\n",
      "   ***\n",
      "    *\n",
      "   ***\n",
      "  *****\n",
      " *******\n",
      "*********\n"
     ]
    }
   ],
   "source": [
    "n=5\n",
    "for i in range(n,0,-1):\n",
    "    for j in range(n-i):\n",
    "        print(' ', end='')\n",
    "    for j in range(2*i-1):\n",
    "    # for j in range(2*i):\n",
    "        \n",
    "        print('*', end = '')\n",
    "\n",
    "    print()\n",
    "\n",
    "for i in range(2,n+1):\n",
    "# for i in range(1,n+1): \n",
    "    for j in range(n-i):\n",
    "        print(' ',end='')\n",
    "    for j in range(2*i-1):\n",
    "        print('*',end='')\n",
    "    print()"
   ]
  },
  {
   "cell_type": "code",
   "execution_count": null,
   "metadata": {},
   "outputs": [],
   "source": []
  }
 ],
 "metadata": {
  "kernelspec": {
   "display_name": "Python 3",
   "language": "python",
   "name": "python3"
  },
  "language_info": {
   "codemirror_mode": {
    "name": "ipython",
    "version": 3
   },
   "file_extension": ".py",
   "mimetype": "text/x-python",
   "name": "python",
   "nbconvert_exporter": "python",
   "pygments_lexer": "ipython3",
   "version": "3.11.2"
  }
 },
 "nbformat": 4,
 "nbformat_minor": 2
}
