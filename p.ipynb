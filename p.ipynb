{
 "cells": [
  {
   "cell_type": "code",
   "execution_count": 1,
   "metadata": {},
   "outputs": [],
   "source": [
    "\n",
    "l=[ \"Anna\" , 20 , 28.12 , True ]"
   ]
  },
  {
   "cell_type": "code",
   "execution_count": 4,
   "metadata": {},
   "outputs": [
    {
     "name": "stdout",
     "output_type": "stream",
     "text": [
      "10\n"
     ]
    }
   ],
   "source": [
    "a=input(\" write your name \")\n",
    "print(a) \n",
    "\n",
    "a=\" \""
   ]
  },
  {
   "cell_type": "code",
   "execution_count": 40,
   "metadata": {},
   "outputs": [],
   "source": [
    "d = { \"Name\" : \"John\" ,\n",
    "\"Age\" : 25 ,\n",
    "\"Height\" : 6.1 }"
   ]
  },
  {
   "cell_type": "code",
   "execution_count": 1,
   "metadata": {},
   "outputs": [
    {
     "name": "stdout",
     "output_type": "stream",
     "text": [
      "['Anna', 20, 0, True]\n"
     ]
    }
   ],
   "source": [
    "mixed = [ \"Anna\" , 20 , 28.12 , True ]\n",
    "mixed[2]= 0\n",
    "print(mixed)"
   ]
  },
  {
   "cell_type": "code",
   "execution_count": 7,
   "metadata": {},
   "outputs": [
    {
     "name": "stdout",
     "output_type": "stream",
     "text": [
      "[1, 2, 3, 4]\n",
      "Largest element is: 3\n"
     ]
    }
   ],
   "source": [
    "a=[]\n",
    "n=4\n",
    "for i in range(1,n+1):\n",
    "    b=int(input(\"Enter element:\"))\n",
    "    a.append(b)\n",
    "a.sort()\n",
    "print(a)\n",
    "print(\"Largest element is:\",a[n-2])\n",
    "\n"
   ]
  },
  {
   "cell_type": "code",
   "execution_count": 3,
   "metadata": {},
   "outputs": [
    {
     "name": "stdout",
     "output_type": "stream",
     "text": [
      "[67, 1, 98, 100, 3, 54, 'hello']\n"
     ]
    }
   ],
   "source": [
    "a = [67,1,98,100,3,54]\n",
    "a.append(\"hello\")\n",
    "print(a)"
   ]
  },
  {
   "cell_type": "code",
   "execution_count": 11,
   "metadata": {},
   "outputs": [
    {
     "name": "stdout",
     "output_type": "stream",
     "text": [
      "[1, 2, 3, 4, 5]\n",
      "The even list [2, 4]\n",
      "The odd list [1, 3, 5]\n"
     ]
    }
   ],
   "source": [
    "a=[]\n",
    "n=int(input(\"Enter number of elements:\"))\n",
    "for i in range(1,n+1):\n",
    "    b=int(input(\"Enter element:\"))\n",
    "    a.append(b)\n",
    "print(a)\n",
    "even=[]\n",
    "odd=[]\n",
    "for j in a:\n",
    "    if(j%2==0):\n",
    "        even.append(j)\n",
    "    else:\n",
    "        odd.append(j)\n",
    "print(\"The even list\",even)\n",
    "print(\"The odd list\",odd)\n"
   ]
  },
  {
   "cell_type": "code",
   "execution_count": 2,
   "metadata": {},
   "outputs": [
    {
     "name": "stdout",
     "output_type": "stream",
     "text": [
      "Key isn't present!\n"
     ]
    }
   ],
   "source": [
    "d={'A':1,'B':2,'C':3}\n",
    "_=input(\"Enter key to check:\")\n",
    "if _ in d.keys():\n",
    "      print(\"Key is present and value of the key is:\")\n",
    "      print(d[_])\n",
    "else:\n",
    "      print(\"Key isn't present!\")"
   ]
  },
  {
   "cell_type": "code",
   "execution_count": 39,
   "metadata": {},
   "outputs": [
    {
     "name": "stdout",
     "output_type": "stream",
     "text": [
      "dict_keys(['A', 'B', 'C'])\n",
      "dict_values([1, 2, 3])\n"
     ]
    }
   ],
   "source": [
    "d={'A':1,'B':2,'C':3}\n",
    "\n",
    "print(d.keys())\n",
    "print(d.values())\n"
   ]
  },
  {
   "cell_type": "code",
   "execution_count": 11,
   "metadata": {},
   "outputs": [
    {
     "name": "stdout",
     "output_type": "stream",
     "text": [
      "The letters are:\n",
      "['h', 'e']\n"
     ]
    }
   ],
   "source": [
    "s1=\"hello\"\n",
    "s2=\"llo\"\n",
    "a=list(set(s1)-set(s2))\n",
    "print(\"The letters are:\")\n",
    "print(a)"
   ]
  },
  {
   "cell_type": "code",
   "execution_count": 5,
   "metadata": {},
   "outputs": [
    {
     "name": "stdout",
     "output_type": "stream",
     "text": [
      "this is odd\n"
     ]
    }
   ],
   "source": [
    "num=int(input())\n",
    "\n",
    "if num%2 ==0:\n",
    "    print(\"yes its even\")\n",
    "    \n",
    "else:\n",
    "    print(\"this is odd\")"
   ]
  },
  {
   "cell_type": "code",
   "execution_count": 2,
   "metadata": {},
   "outputs": [
    {
     "name": "stdout",
     "output_type": "stream",
     "text": [
      "Counter is at: 2\n",
      "Counter is at: 3\n",
      "Counter is at: 4\n",
      "Counter is at: 5\n",
      "Counter is at: 6\n"
     ]
    }
   ],
   "source": [
    "# Simple while loop\n",
    "\n",
    "counter = 1\n",
    "\n",
    "while counter <= 5:\n",
    "    counter += 1\n",
    "    print(\"Counter is at:\", counter)\n"
   ]
  },
  {
   "cell_type": "code",
   "execution_count": 3,
   "metadata": {},
   "outputs": [
    {
     "name": "stdout",
     "output_type": "stream",
     "text": [
      "Number: 1\n",
      "Number: 2\n",
      "Number: 3\n",
      "Number: 4\n",
      "Number: 5\n"
     ]
    }
   ],
   "source": [
    "# Simple for loop\n",
    "\n",
    "numbers = [1, 2, 3, 4, 5]\n",
    "\n",
    "for i in numbers:\n",
    "    print(\"Number:\", i)\n"
   ]
  },
  {
   "cell_type": "code",
   "execution_count": 6,
   "metadata": {},
   "outputs": [
    {
     "name": "stdout",
     "output_type": "stream",
     "text": [
      "Iteration: 1\n",
      "Iteration: 2\n",
      "Iteration: 3\n",
      "Iteration: 4\n",
      "Iteration: 5\n",
      "Iteration: 6\n",
      "Iteration: 7\n",
      "Iteration: 8\n"
     ]
    }
   ],
   "source": [
    "# For loop with range\n",
    "n=8\n",
    "for i in range(1, n+1):\n",
    "    print(\"Iteration:\", i)\n"
   ]
  },
  {
   "cell_type": "code",
   "execution_count": 7,
   "metadata": {},
   "outputs": [
    {
     "name": "stdout",
     "output_type": "stream",
     "text": [
      "Current number: 1\n",
      "Current number: 2\n",
      "Current number: 3\n",
      "Current number: 4\n",
      "Skipping number 5\n",
      "Current number: 6\n",
      "Current number: 7\n",
      "Breaking the loop at number 8\n"
     ]
    }
   ],
   "source": [
    "# Break and continue example in a for loop\n",
    "\n",
    "for i in range(1, 11):\n",
    "    if i == 5:\n",
    "        print(\"Skipping number\", i)\n",
    "        continue    # Skips the rest of the loop when i is 5\n",
    "    elif i == 8:\n",
    "        print(\"Breaking the loop at number\", i)\n",
    "        break       # Exits the loop completely when i is 8\n",
    "    print(\"Current number:\", i)\n"
   ]
  },
  {
   "cell_type": "code",
   "execution_count": 10,
   "metadata": {},
   "outputs": [
    {
     "name": "stdout",
     "output_type": "stream",
     "text": [
      "['1', '2', '2', '2', '3']\n",
      "0\n",
      "['1', '2', '2', '2']\n"
     ]
    }
   ],
   "source": [
    "a=[]\n",
    "n=5\n",
    "for i in range(1,n+1):\n",
    "    b=input(\"enter the elements\")\n",
    "    a.append(b)\n",
    "    \n",
    "    \n",
    "    \n",
    "    \n",
    "print(a)\n",
    "print(a.count(4))\n",
    "a.pop()\n",
    "print(a)"
   ]
  },
  {
   "cell_type": "code",
   "execution_count": 11,
   "metadata": {},
   "outputs": [
    {
     "name": "stdout",
     "output_type": "stream",
     "text": [
      "grade: 95\n",
      "name: Alex hello)\n",
      "age: 21 hello)\n",
      "major: Computer Science hello)\n",
      "grades: {'math': 95, 'science': 90, 'literature': 85} hello)\n"
     ]
    }
   ],
   "source": [
    "student = { \"name\": \"Alex\", \n",
    "           \"age\": 21, \n",
    "           \"major\": \"Computer Science\", \n",
    "           \"grades\": { \"math\": 95, \"science\": 90, \"literature\": 85 } }\n",
    "print(\"grade:\", student[\"grades\"]['math'])\n",
    "for key, value in student.items():\n",
    "    print(f\"{key}: {value} hello)\")"
   ]
  },
  {
   "cell_type": "code",
   "execution_count": 9,
   "metadata": {},
   "outputs": [
    {
     "name": "stdout",
     "output_type": "stream",
     "text": [
      "1\n"
     ]
    }
   ],
   "source": [
    "a=[(1,2),(3,4),(5,6)]\n",
    "print([1][0])"
   ]
  },
  {
   "cell_type": "code",
   "execution_count": 1,
   "metadata": {},
   "outputs": [
    {
     "name": "stdout",
     "output_type": "stream",
     "text": [
      "Alice\n",
      "30\n",
      "name: Alice\n",
      "age: 31\n",
      "profession: Engineer\n"
     ]
    }
   ],
   "source": [
    "# Create a dictionary\n",
    "person = {\n",
    "    'name': 'Alice',\n",
    "    'age': 30,\n",
    "    'city': 'Chandigarh'\n",
    "}\n",
    "\n",
    "# Accessing values\n",
    "print(person['name'])  # Output: Alice\n",
    "print(person['age'])   # Output: 30\n",
    "\n",
    "# Adding a new key-value pair\n",
    "person['profession'] = 'Engineer'\n",
    "\n",
    "# Modifying a value\n",
    "person['age'] = 31\n",
    "\n",
    "# Removing a key-value pair\n",
    "del person['city']\n",
    "\n",
    "# Looping through dictionary\n",
    "for key, value in person.items():\n",
    "    print(f\"{key}: {value}\")\n"
   ]
  },
  {
   "cell_type": "code",
   "execution_count": 2,
   "metadata": {},
   "outputs": [
    {
     "name": "stdout",
     "output_type": "stream",
     "text": [
      "what is in a hello\n",
      "what is in a hello\n"
     ]
    }
   ],
   "source": [
    "a= \"hello\"\n",
    "# b=\"boy\"\n",
    "# print(a+b)\n",
    "\n",
    "print(\"what is in a\",a)\n",
    "print(f\"what is in a {a}\")"
   ]
  },
  {
   "cell_type": "code",
   "execution_count": 8,
   "metadata": {},
   "outputs": [
    {
     "name": "stdout",
     "output_type": "stream",
     "text": [
      "the length is {b}\n",
      "1\n",
      "1\n",
      "2\n",
      "3\n",
      "3\n",
      "6\n",
      "4\n",
      "10\n",
      "5\n",
      "15\n",
      "3.0\n"
     ]
    }
   ],
   "source": [
    "list1 =[1,2,3,4,5]\n",
    "b=len(list1)\n",
    "print(f\"the length is {b}\")\n",
    "sum=0\n",
    "for i in list1:\n",
    "    print(i)\n",
    "    sum = sum+i\n",
    "    print(sum)\n",
    "    \n",
    "    \n",
    "    \n",
    "print(sum/b)"
   ]
  },
  {
   "cell_type": "code",
   "execution_count": 9,
   "metadata": {},
   "outputs": [
    {
     "name": "stdout",
     "output_type": "stream",
     "text": [
      "my name is akriti adn my age is 90\n"
     ]
    }
   ],
   "source": [
    "class m:\n",
    "   def __init__(self,name,age):\n",
    "       self.name=name\n",
    "       self.age=age\n",
    "       \n",
    "   def mm(self):\n",
    "       print(f'my name is {self.name} adn my age is {self.age}')\n",
    "       \n",
    "       \n",
    "       \n",
    "obj=m(\"akriti\",90)\n",
    "obj.mm()  "
   ]
  },
  {
   "cell_type": "code",
   "execution_count": 10,
   "metadata": {},
   "outputs": [
    {
     "name": "stdout",
     "output_type": "stream",
     "text": [
      "Object akriti created\n",
      "my name is akriti and my age is 90\n",
      "Object akriti destroyed\n"
     ]
    }
   ],
   "source": [
    "class M:\n",
    "    def __init__(self, name, age):\n",
    "        self.name = name\n",
    "        self.age = age\n",
    "        print(f'Object {self.name} created')\n",
    "\n",
    "    def __del__(self):\n",
    "        print(f'Object {self.name} destroyed')\n",
    "\n",
    "    def mm(self):\n",
    "        print(f'my name is {self.name} and my age is {self.age}')\n",
    "\n",
    "\n",
    "obj = M(\"akriti\", 90)  # Create an instance of the class M\n",
    "obj.mm()  # Call the mm method on the instance\n",
    "\n",
    "# Deleting the object\n",
    "del obj\n"
   ]
  },
  {
   "cell_type": "code",
   "execution_count": 3,
   "metadata": {},
   "outputs": [
    {
     "data": {
      "text/plain": [
       "-1"
      ]
     },
     "execution_count": 3,
     "metadata": {},
     "output_type": "execute_result"
    }
   ],
   "source": [
    "\n",
    "a=\"hello\"\n",
    "a.find('i')"
   ]
  },
  {
   "cell_type": "code",
   "execution_count": 6,
   "metadata": {},
   "outputs": [
    {
     "name": "stdout",
     "output_type": "stream",
     "text": [
      "HELLO WORLD!\n",
      "HELLO WORLD!\n",
      "HELLO WORLD!\n",
      "HELLO WORLD!\n",
      "HELLO WORLD!\n",
      "HELLO WORLD!\n",
      "HELLO WORLD!\n",
      "HELLO WORLD!\n",
      "HELLO WORLD!\n",
      "HELLO WORLD!\n",
      "THIS IS THE END!\n"
     ]
    }
   ],
   "source": [
    "import threading\n",
    "def function():\n",
    "     for x in range ( 10 ):\n",
    "         print ( \"HELLO WORLD!\" )\n",
    "t1 = threading.Thread( target =function)\n",
    "t1.start()\n",
    "print ( \"THIS IS THE END!\" )"
   ]
  },
  {
   "cell_type": "code",
   "execution_count": 12,
   "metadata": {},
   "outputs": [
    {
     "name": "stdout",
     "output_type": "stream",
     "text": [
      "hello\n",
      "world\n"
     ]
    }
   ],
   "source": [
    "\n"
   ]
  },
  {
   "cell_type": "code",
   "execution_count": 16,
   "metadata": {},
   "outputs": [
    {
     "ename": "AttributeError",
     "evalue": "'MyClass' object has no attribute '__hidden'",
     "output_type": "error",
     "traceback": [
      "\u001b[1;31m---------------------------------------------------------------------------\u001b[0m",
      "\u001b[1;31mAttributeError\u001b[0m                            Traceback (most recent call last)",
      "Cell \u001b[1;32mIn[16], line 6\u001b[0m\n\u001b[0;32m      4\u001b[0m         \u001b[38;5;66;03m#   print ( self .__hidden) # Works\u001b[39;00m\n\u001b[0;32m      5\u001b[0m m1 \u001b[38;5;241m=\u001b[39m MyClass()\n\u001b[1;32m----> 6\u001b[0m \u001b[38;5;28mprint\u001b[39m (\u001b[43mm1\u001b[49m\u001b[38;5;241;43m.\u001b[39;49m\u001b[43m__hidden\u001b[49m)\n",
      "\u001b[1;31mAttributeError\u001b[0m: 'MyClass' object has no attribute '__hidden'"
     ]
    }
   ],
   "source": [
    "class MyClass:\n",
    "      def __init__ ( self ):\n",
    "          self .__hidden = \"Hello\"\n",
    "        #   print ( self .__hidden) # Works\n",
    "m1 = MyClass()\n",
    "print (m1.__hidden)"
   ]
  },
  {
   "cell_type": "code",
   "execution_count": 20,
   "metadata": {},
   "outputs": [
    {
     "ename": "SyntaxError",
     "evalue": "invalid syntax (323970735.py, line 14)",
     "output_type": "error",
     "traceback": [
      "\u001b[1;36m  Cell \u001b[1;32mIn[20], line 14\u001b[1;36m\u001b[0m\n\u001b[1;33m    v3=\u001b[0m\n\u001b[1;37m       ^\u001b[0m\n\u001b[1;31mSyntaxError\u001b[0m\u001b[1;31m:\u001b[0m invalid syntax\n"
     ]
    }
   ],
   "source": [
    "class Vector():\n",
    "     def __init__ ( self , x, y):\n",
    "         self .x = x\n",
    "         self .y = y\n",
    "     def __str__ ( self ):\n",
    "          return \"X: %d, Y: %d\" % ( self .x,self .y)\n",
    "    #  def __add__ ( self , other):\n",
    "    #         return Vector( self .x,self .y )\n",
    "        \n",
    "        \n",
    "        \n",
    "v1 = Vector( 3 , 5 )\n",
    "v2 = Vector( 6 , 2 )\n",
    "v3=\n",
    "v3 = v1 + v2\n",
    "\n",
    "print (v1)\n",
    "print (v2)\n",
    "print (v3)"
   ]
  },
  {
   "cell_type": "code",
   "execution_count": 4,
   "metadata": {},
   "outputs": [
    {
     "ename": "TypeError",
     "evalue": "ss() missing 2 required positional arguments: 'n' and 'm'",
     "output_type": "error",
     "traceback": [
      "\u001b[1;31m---------------------------------------------------------------------------\u001b[0m",
      "\u001b[1;31mTypeError\u001b[0m                                 Traceback (most recent call last)",
      "Cell \u001b[1;32mIn[4], line 5\u001b[0m\n\u001b[0;32m      1\u001b[0m \u001b[38;5;28;01mdef\u001b[39;00m \u001b[38;5;21mss\u001b[39m(n,m):\n\u001b[0;32m      3\u001b[0m     \u001b[38;5;28;01mreturn\u001b[39;00m m\u001b[38;5;241m+\u001b[39mn\n\u001b[1;32m----> 5\u001b[0m \u001b[43mss\u001b[49m\u001b[43m(\u001b[49m\u001b[43m)\u001b[49m\n",
      "\u001b[1;31mTypeError\u001b[0m: ss() missing 2 required positional arguments: 'n' and 'm'"
     ]
    }
   ],
   "source": [
    "def ss(n,m):\n",
    "  \n",
    "    return m+n\n",
    "\n",
    "ss()"
   ]
  },
  {
   "cell_type": "code",
   "execution_count": 8,
   "metadata": {},
   "outputs": [
    {
     "name": "stdout",
     "output_type": "stream",
     "text": [
      "11\n",
      "-1\n",
      "0.8333333333333334\n",
      "5\n"
     ]
    }
   ],
   "source": [
    "a=5\n",
    "b=6\n",
    "print(a+b)\n",
    "print(a-b)\n",
    "print(a/b)\n",
    "print(a%b)\n",
    "\n",
    "\n"
   ]
  },
  {
   "cell_type": "code",
   "execution_count": 15,
   "metadata": {},
   "outputs": [
    {
     "name": "stdout",
     "output_type": "stream",
     "text": [
      "34\n"
     ]
    }
   ],
   "source": [
    "a=\"34.0\"\n",
    "b=(int(float(a)))\n",
    "print(b)"
   ]
  },
  {
   "cell_type": "code",
   "execution_count": 14,
   "metadata": {},
   "outputs": [
    {
     "name": "stdout",
     "output_type": "stream",
     "text": [
      "['hello world ', 'y na', 'e is akriti']\n"
     ]
    }
   ],
   "source": [
    "a=\"hello world my name is akriti\"\n",
    "print(a.split(\"m\"))"
   ]
  },
  {
   "cell_type": "code",
   "execution_count": 15,
   "metadata": {},
   "outputs": [
    {
     "name": "stdout",
     "output_type": "stream",
     "text": [
      "['tail', 'tail', 'head', 'head', 'head', 'head', 'tail', 'head', 'tail', 'head', 'head', 'head', 'tail', 'tail', 'tail', 'tail', 'tail', 'tail', 'head', 'tail']\n"
     ]
    }
   ],
   "source": [
    "import random\n",
    "\n",
    "i = 0\n",
    "a = []\n",
    "while i < 20:  \n",
    "    x = random.randint(0, 1)\n",
    "    df = lambda x: 'head' if x == 0 else 'tail'\n",
    "    a.append(df(x)) \n",
    "    i += 1 \n",
    "\n",
    "print(a)\n",
    "\n",
    "\n",
    "    \n",
    "    "
   ]
  },
  {
   "cell_type": "code",
   "execution_count": null,
   "metadata": {},
   "outputs": [
    {
     "name": "stdout",
     "output_type": "stream",
     "text": [
      "kkk\n"
     ]
    }
   ],
   "source": [
    "try:\n",
    "\n",
    "  \n",
    "  \n",
    "  \n",
    "finally:\n",
    "    print()"
   ]
  }
 ],
 "metadata": {
  "kernelspec": {
   "display_name": "Python 3",
   "language": "python",
   "name": "python3"
  },
  "language_info": {
   "codemirror_mode": {
    "name": "ipython",
    "version": 3
   },
   "file_extension": ".py",
   "mimetype": "text/x-python",
   "name": "python",
   "nbconvert_exporter": "python",
   "pygments_lexer": "ipython3",
   "version": "3.11.2"
  }
 },
 "nbformat": 4,
 "nbformat_minor": 2
}
