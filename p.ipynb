{
 "cells": [
  {
   "cell_type": "code",
   "execution_count": 1,
   "metadata": {},
   "outputs": [],
   "source": [
    "\n",
    "l=[ \"Anna\" , 20 , 28.12 , True ]"
   ]
  },
  {
   "cell_type": "code",
   "execution_count": 40,
   "metadata": {},
   "outputs": [],
   "source": [
    "d = { \"Name\" : \"John\" ,\n",
    "\"Age\" : 25 ,\n",
    "\"Height\" : 6.1 }"
   ]
  },
  {
   "cell_type": "code",
   "execution_count": 1,
   "metadata": {},
   "outputs": [
    {
     "name": "stdout",
     "output_type": "stream",
     "text": [
      "['Anna', 20, 0, True]\n"
     ]
    }
   ],
   "source": [
    "mixed = [ \"Anna\" , 20 , 28.12 , True ]\n",
    "mixed[2]= 0\n",
    "print(mixed)"
   ]
  },
  {
   "cell_type": "code",
   "execution_count": 7,
   "metadata": {},
   "outputs": [
    {
     "name": "stdout",
     "output_type": "stream",
     "text": [
      "[1, 2, 3, 4]\n",
      "Largest element is: 3\n"
     ]
    }
   ],
   "source": [
    "a=[]\n",
    "n=4\n",
    "for i in range(1,n+1):\n",
    "    b=int(input(\"Enter element:\"))\n",
    "    a.append(b)\n",
    "a.sort()\n",
    "print(a)\n",
    "print(\"Largest element is:\",a[n-2])\n",
    "\n"
   ]
  },
  {
   "cell_type": "code",
   "execution_count": 3,
   "metadata": {},
   "outputs": [
    {
     "name": "stdout",
     "output_type": "stream",
     "text": [
      "[67, 1, 98, 100, 3, 54, 'hello']\n"
     ]
    }
   ],
   "source": [
    "a = [67,1,98,100,3,54]\n",
    "a.append(\"hello\")\n",
    "print(a)"
   ]
  },
  {
   "cell_type": "code",
   "execution_count": 11,
   "metadata": {},
   "outputs": [
    {
     "name": "stdout",
     "output_type": "stream",
     "text": [
      "[1, 2, 3, 4, 5]\n",
      "The even list [2, 4]\n",
      "The odd list [1, 3, 5]\n"
     ]
    }
   ],
   "source": [
    "a=[]\n",
    "n=int(input(\"Enter number of elements:\"))\n",
    "for i in range(1,n+1):\n",
    "    b=int(input(\"Enter element:\"))\n",
    "    a.append(b)\n",
    "print(a)\n",
    "even=[]\n",
    "odd=[]\n",
    "for j in a:\n",
    "    if(j%2==0):\n",
    "        even.append(j)\n",
    "    else:\n",
    "        odd.append(j)\n",
    "print(\"The even list\",even)\n",
    "print(\"The odd list\",odd)\n"
   ]
  },
  {
   "cell_type": "code",
   "execution_count": 46,
   "metadata": {},
   "outputs": [
    {
     "name": "stdout",
     "output_type": "stream",
     "text": [
      "Key is present and value of the key is:\n",
      "1\n"
     ]
    }
   ],
   "source": [
    "d={'A':1,'B':2,'C':3}\n",
    "_=input(\"Enter key to check:\")\n",
    "if _ in d.keys():\n",
    "      print(\"Key is present and value of the key is:\")\n",
    "      print(d[_])\n",
    "else:\n",
    "      print(\"Key isn't present!\")"
   ]
  },
  {
   "cell_type": "code",
   "execution_count": 39,
   "metadata": {},
   "outputs": [
    {
     "name": "stdout",
     "output_type": "stream",
     "text": [
      "dict_keys(['A', 'B', 'C'])\n",
      "dict_values([1, 2, 3])\n"
     ]
    }
   ],
   "source": [
    "d={'A':1,'B':2,'C':3}\n",
    "print(d.keys())\n",
    "print(d.values())\n"
   ]
  },
  {
   "cell_type": "code",
   "execution_count": 11,
   "metadata": {},
   "outputs": [
    {
     "name": "stdout",
     "output_type": "stream",
     "text": [
      "The letters are:\n",
      "['h', 'e']\n"
     ]
    }
   ],
   "source": [
    "s1=\"hello\"\n",
    "s2=\"llo\"\n",
    "a=list(set(s1)-set(s2))\n",
    "print(\"The letters are:\")\n",
    "print(a)\n",
    "    "
   ]
  },
  {
   "cell_type": "code",
   "execution_count": 5,
   "metadata": {},
   "outputs": [
    {
     "name": "stdout",
     "output_type": "stream",
     "text": [
      "this is odd\n"
     ]
    }
   ],
   "source": [
    "num=int(input())\n",
    "\n",
    "if num%2 ==0:\n",
    "    print(\"yes its even\")\n",
    "    \n",
    "else:\n",
    "    print(\"this is odd\")"
   ]
  },
  {
   "cell_type": "code",
   "execution_count": 2,
   "metadata": {},
   "outputs": [
    {
     "name": "stdout",
     "output_type": "stream",
     "text": [
      "Counter is at: 2\n",
      "Counter is at: 3\n",
      "Counter is at: 4\n",
      "Counter is at: 5\n",
      "Counter is at: 6\n"
     ]
    }
   ],
   "source": [
    "# Simple while loop\n",
    "\n",
    "counter = 1\n",
    "\n",
    "while counter <= 5:\n",
    "    counter += 1\n",
    "    print(\"Counter is at:\", counter)\n"
   ]
  },
  {
   "cell_type": "code",
   "execution_count": 3,
   "metadata": {},
   "outputs": [
    {
     "name": "stdout",
     "output_type": "stream",
     "text": [
      "Number: 1\n",
      "Number: 2\n",
      "Number: 3\n",
      "Number: 4\n",
      "Number: 5\n"
     ]
    }
   ],
   "source": [
    "# Simple for loop\n",
    "\n",
    "numbers = [1, 2, 3, 4, 5]\n",
    "\n",
    "for i in numbers:\n",
    "    print(\"Number:\", i)\n"
   ]
  },
  {
   "cell_type": "code",
   "execution_count": 6,
   "metadata": {},
   "outputs": [
    {
     "name": "stdout",
     "output_type": "stream",
     "text": [
      "Iteration: 1\n",
      "Iteration: 2\n",
      "Iteration: 3\n",
      "Iteration: 4\n",
      "Iteration: 5\n",
      "Iteration: 6\n",
      "Iteration: 7\n",
      "Iteration: 8\n"
     ]
    }
   ],
   "source": [
    "# For loop with range\n",
    "n=8\n",
    "for i in range(1, n+1):\n",
    "    print(\"Iteration:\", i)\n"
   ]
  },
  {
   "cell_type": "code",
   "execution_count": 7,
   "metadata": {},
   "outputs": [
    {
     "name": "stdout",
     "output_type": "stream",
     "text": [
      "Current number: 1\n",
      "Current number: 2\n",
      "Current number: 3\n",
      "Current number: 4\n",
      "Skipping number 5\n",
      "Current number: 6\n",
      "Current number: 7\n",
      "Breaking the loop at number 8\n"
     ]
    }
   ],
   "source": [
    "# Break and continue example in a for loop\n",
    "\n",
    "for i in range(1, 11):\n",
    "    if i == 5:\n",
    "        print(\"Skipping number\", i)\n",
    "        continue    # Skips the rest of the loop when i is 5\n",
    "    elif i == 8:\n",
    "        print(\"Breaking the loop at number\", i)\n",
    "        break       # Exits the loop completely when i is 8\n",
    "    print(\"Current number:\", i)\n"
   ]
  },
  {
   "cell_type": "code",
   "execution_count": 10,
   "metadata": {},
   "outputs": [
    {
     "name": "stdout",
     "output_type": "stream",
     "text": [
      "['1', '2', '2', '2', '3']\n",
      "0\n",
      "['1', '2', '2', '2']\n"
     ]
    }
   ],
   "source": [
    "a=[]\n",
    "n=5\n",
    "for i in range(1,n+1):\n",
    "    b=input(\"enter the elements\")\n",
    "    a.append(b)\n",
    "    \n",
    "    \n",
    "    \n",
    "    \n",
    "print(a)\n",
    "print(a.count(4))\n",
    "a.pop()\n",
    "print(a)"
   ]
  },
  {
   "cell_type": "code",
   "execution_count": 17,
   "metadata": {},
   "outputs": [
    {
     "name": "stdout",
     "output_type": "stream",
     "text": [
      "grade: 95\n",
      "{key}: {value} hello)\n",
      "{key}: {value} hello)\n",
      "{key}: {value} hello)\n",
      "{key}: {value} hello)\n"
     ]
    }
   ],
   "source": [
    "student = { \"name\": \"Alex\", \n",
    "           \"age\": 21, \n",
    "           \"major\": \"Computer Science\", \n",
    "           \"grades\": { \"math\": 95, \"science\": 90, \"literature\": 85 } }\n",
    "print(\"grade:\", student[\"grades\"]['math'])\n",
    "for key, value in student.items():\n",
    "    print(f\"{key}: {value} hello)\")"
   ]
  },
  {
   "cell_type": "code",
   "execution_count": 1,
   "metadata": {},
   "outputs": [
    {
     "name": "stdout",
     "output_type": "stream",
     "text": [
      "helloboy\n"
     ]
    }
   ],
   "source": [
    "a= \"hello\"\n",
    "b=\"boy\"\n",
    "print(a+b)"
   ]
  },
  {
   "cell_type": "code",
   "execution_count": 8,
   "metadata": {},
   "outputs": [
    {
     "name": "stdout",
     "output_type": "stream",
     "text": [
      "the length is {b}\n",
      "1\n",
      "1\n",
      "2\n",
      "3\n",
      "3\n",
      "6\n",
      "4\n",
      "10\n",
      "5\n",
      "15\n",
      "3.0\n"
     ]
    }
   ],
   "source": [
    "list1 =[1,2,3,4,5]\n",
    "b=len(list1)\n",
    "print(f\"the length is {b}\")\n",
    "sum=0\n",
    "for i in list1:\n",
    "    print(i)\n",
    "    sum = sum+i\n",
    "    print(sum)\n",
    "    \n",
    "    \n",
    "    \n",
    "print(sum/b)"
   ]
  },
  {
   "cell_type": "code",
   "execution_count": null,
   "metadata": {},
   "outputs": [],
   "source": []
  }
 ],
 "metadata": {
  "kernelspec": {
   "display_name": "Python 3",
   "language": "python",
   "name": "python3"
  },
  "language_info": {
   "codemirror_mode": {
    "name": "ipython",
    "version": 3
   },
   "file_extension": ".py",
   "mimetype": "text/x-python",
   "name": "python",
   "nbconvert_exporter": "python",
   "pygments_lexer": "ipython3",
   "version": "3.11.2"
  }
 },
 "nbformat": 4,
 "nbformat_minor": 2
}
